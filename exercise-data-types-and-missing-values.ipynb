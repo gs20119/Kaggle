{
 "cells": [
  {
   "cell_type": "markdown",
   "id": "ee49e6d7",
   "metadata": {
    "papermill": {
     "duration": 0.005921,
     "end_time": "2022-08-24T03:02:49.983245",
     "exception": false,
     "start_time": "2022-08-24T03:02:49.977324",
     "status": "completed"
    },
    "tags": []
   },
   "source": [
    "**This notebook is an exercise in the [Pandas](https://www.kaggle.com/learn/pandas) course.  You can reference the tutorial at [this link](https://www.kaggle.com/residentmario/data-types-and-missing-values).**\n",
    "\n",
    "---\n"
   ]
  },
  {
   "cell_type": "markdown",
   "id": "3f7a147e",
   "metadata": {
    "papermill": {
     "duration": 0.004347,
     "end_time": "2022-08-24T03:02:49.992615",
     "exception": false,
     "start_time": "2022-08-24T03:02:49.988268",
     "status": "completed"
    },
    "tags": []
   },
   "source": [
    "# Introduction\n",
    "\n",
    "Run the following cell to load your data and some utility functions."
   ]
  },
  {
   "cell_type": "code",
   "execution_count": 1,
   "id": "63902de4",
   "metadata": {
    "execution": {
     "iopub.execute_input": "2022-08-24T03:02:50.003761Z",
     "iopub.status.busy": "2022-08-24T03:02:50.003252Z",
     "iopub.status.idle": "2022-08-24T03:02:53.574817Z",
     "shell.execute_reply": "2022-08-24T03:02:53.572977Z"
    },
    "papermill": {
     "duration": 3.580971,
     "end_time": "2022-08-24T03:02:53.578175",
     "exception": false,
     "start_time": "2022-08-24T03:02:49.997204",
     "status": "completed"
    },
    "tags": []
   },
   "outputs": [
    {
     "name": "stdout",
     "output_type": "stream",
     "text": [
      "Setup complete.\n"
     ]
    }
   ],
   "source": [
    "import pandas as pd\n",
    "\n",
    "reviews = pd.read_csv(\"../input/wine-reviews/winemag-data-130k-v2.csv\", index_col=0)\n",
    "\n",
    "from learntools.core import binder; binder.bind(globals())\n",
    "from learntools.pandas.data_types_and_missing_data import *\n",
    "print(\"Setup complete.\")"
   ]
  },
  {
   "cell_type": "markdown",
   "id": "8b7494ac",
   "metadata": {
    "papermill": {
     "duration": 0.004575,
     "end_time": "2022-08-24T03:02:53.588388",
     "exception": false,
     "start_time": "2022-08-24T03:02:53.583813",
     "status": "completed"
    },
    "tags": []
   },
   "source": [
    "# Exercises"
   ]
  },
  {
   "cell_type": "markdown",
   "id": "b9d19ad6",
   "metadata": {
    "papermill": {
     "duration": 0.004092,
     "end_time": "2022-08-24T03:02:53.596874",
     "exception": false,
     "start_time": "2022-08-24T03:02:53.592782",
     "status": "completed"
    },
    "tags": []
   },
   "source": [
    "## 1. \n",
    "What is the data type of the `points` column in the dataset?"
   ]
  },
  {
   "cell_type": "code",
   "execution_count": 2,
   "id": "5c27a261",
   "metadata": {
    "execution": {
     "iopub.execute_input": "2022-08-24T03:02:53.612651Z",
     "iopub.status.busy": "2022-08-24T03:02:53.611758Z",
     "iopub.status.idle": "2022-08-24T03:02:53.625594Z",
     "shell.execute_reply": "2022-08-24T03:02:53.624557Z"
    },
    "papermill": {
     "duration": 0.028503,
     "end_time": "2022-08-24T03:02:53.630789",
     "exception": false,
     "start_time": "2022-08-24T03:02:53.602286",
     "status": "completed"
    },
    "tags": []
   },
   "outputs": [
    {
     "data": {
      "application/javascript": [
       "parent.postMessage({\"jupyterEvent\": \"custom.exercise_interaction\", \"data\": {\"outcomeType\": 1, \"valueTowardsCompletion\": 0.25, \"interactionType\": 1, \"questionType\": 1, \"questionId\": \"1_PointsDtype\", \"learnToolsVersion\": \"0.3.4\", \"failureMessage\": \"\", \"exceptionClass\": \"\", \"trace\": \"\"}}, \"*\")"
      ],
      "text/plain": [
       "<IPython.core.display.Javascript object>"
      ]
     },
     "metadata": {},
     "output_type": "display_data"
    },
    {
     "data": {
      "text/markdown": [
       "<span style=\"color:#33cc33\">Correct</span>"
      ],
      "text/plain": [
       "Correct"
      ]
     },
     "metadata": {},
     "output_type": "display_data"
    }
   ],
   "source": [
    "# Your code here\n",
    "dtype = reviews.points.dtype\n",
    "\n",
    "# Check your answer\n",
    "q1.check()"
   ]
  },
  {
   "cell_type": "code",
   "execution_count": 3,
   "id": "5e25b434",
   "metadata": {
    "execution": {
     "iopub.execute_input": "2022-08-24T03:02:53.645738Z",
     "iopub.status.busy": "2022-08-24T03:02:53.645329Z",
     "iopub.status.idle": "2022-08-24T03:02:53.650428Z",
     "shell.execute_reply": "2022-08-24T03:02:53.649159Z"
    },
    "papermill": {
     "duration": 0.016566,
     "end_time": "2022-08-24T03:02:53.653246",
     "exception": false,
     "start_time": "2022-08-24T03:02:53.636680",
     "status": "completed"
    },
    "tags": []
   },
   "outputs": [],
   "source": [
    "#q1.hint()\n",
    "#q1.solution()"
   ]
  },
  {
   "cell_type": "markdown",
   "id": "282027e9",
   "metadata": {
    "papermill": {
     "duration": 0.004957,
     "end_time": "2022-08-24T03:02:53.663492",
     "exception": false,
     "start_time": "2022-08-24T03:02:53.658535",
     "status": "completed"
    },
    "tags": []
   },
   "source": [
    "## 2. \n",
    "Create a Series from entries in the `points` column, but convert the entries to strings. Hint: strings are `str` in native Python."
   ]
  },
  {
   "cell_type": "code",
   "execution_count": 4,
   "id": "5863e3e6",
   "metadata": {
    "execution": {
     "iopub.execute_input": "2022-08-24T03:02:53.676480Z",
     "iopub.status.busy": "2022-08-24T03:02:53.675076Z",
     "iopub.status.idle": "2022-08-24T03:02:53.754307Z",
     "shell.execute_reply": "2022-08-24T03:02:53.752856Z"
    },
    "papermill": {
     "duration": 0.088514,
     "end_time": "2022-08-24T03:02:53.757061",
     "exception": false,
     "start_time": "2022-08-24T03:02:53.668547",
     "status": "completed"
    },
    "tags": []
   },
   "outputs": [
    {
     "data": {
      "application/javascript": [
       "parent.postMessage({\"jupyterEvent\": \"custom.exercise_interaction\", \"data\": {\"outcomeType\": 1, \"valueTowardsCompletion\": 0.25, \"interactionType\": 1, \"questionType\": 1, \"questionId\": \"2_StrPoints\", \"learnToolsVersion\": \"0.3.4\", \"failureMessage\": \"\", \"exceptionClass\": \"\", \"trace\": \"\"}}, \"*\")"
      ],
      "text/plain": [
       "<IPython.core.display.Javascript object>"
      ]
     },
     "metadata": {},
     "output_type": "display_data"
    },
    {
     "data": {
      "text/markdown": [
       "<span style=\"color:#33cc33\">Correct</span>"
      ],
      "text/plain": [
       "Correct"
      ]
     },
     "metadata": {},
     "output_type": "display_data"
    }
   ],
   "source": [
    "point_strings = reviews.points.map(lambda val : str(val))\n",
    "# reviews.points.astype(str)\n",
    "# Check your answer\n",
    "q2.check()"
   ]
  },
  {
   "cell_type": "code",
   "execution_count": 5,
   "id": "cf8b0b50",
   "metadata": {
    "execution": {
     "iopub.execute_input": "2022-08-24T03:02:53.769123Z",
     "iopub.status.busy": "2022-08-24T03:02:53.768692Z",
     "iopub.status.idle": "2022-08-24T03:02:53.773673Z",
     "shell.execute_reply": "2022-08-24T03:02:53.772477Z"
    },
    "papermill": {
     "duration": 0.013728,
     "end_time": "2022-08-24T03:02:53.775932",
     "exception": false,
     "start_time": "2022-08-24T03:02:53.762204",
     "status": "completed"
    },
    "tags": []
   },
   "outputs": [],
   "source": [
    "#q2.hint()\n",
    "#q2.solution()"
   ]
  },
  {
   "cell_type": "markdown",
   "id": "76e94254",
   "metadata": {
    "papermill": {
     "duration": 0.004727,
     "end_time": "2022-08-24T03:02:53.785659",
     "exception": false,
     "start_time": "2022-08-24T03:02:53.780932",
     "status": "completed"
    },
    "tags": []
   },
   "source": [
    "## 3.\n",
    "Sometimes the price column is null. How many reviews in the dataset are missing a price?"
   ]
  },
  {
   "cell_type": "code",
   "execution_count": 6,
   "id": "7ddea955",
   "metadata": {
    "execution": {
     "iopub.execute_input": "2022-08-24T03:02:53.798607Z",
     "iopub.status.busy": "2022-08-24T03:02:53.797534Z",
     "iopub.status.idle": "2022-08-24T03:02:53.818577Z",
     "shell.execute_reply": "2022-08-24T03:02:53.817164Z"
    },
    "papermill": {
     "duration": 0.030814,
     "end_time": "2022-08-24T03:02:53.821422",
     "exception": false,
     "start_time": "2022-08-24T03:02:53.790608",
     "status": "completed"
    },
    "tags": []
   },
   "outputs": [
    {
     "data": {
      "application/javascript": [
       "parent.postMessage({\"jupyterEvent\": \"custom.exercise_interaction\", \"data\": {\"outcomeType\": 1, \"valueTowardsCompletion\": 0.25, \"interactionType\": 1, \"questionType\": 1, \"questionId\": \"3_CountMissingPrices\", \"learnToolsVersion\": \"0.3.4\", \"failureMessage\": \"\", \"exceptionClass\": \"\", \"trace\": \"\"}}, \"*\")"
      ],
      "text/plain": [
       "<IPython.core.display.Javascript object>"
      ]
     },
     "metadata": {},
     "output_type": "display_data"
    },
    {
     "data": {
      "text/markdown": [
       "<span style=\"color:#33cc33\">Correct</span>"
      ],
      "text/plain": [
       "Correct"
      ]
     },
     "metadata": {},
     "output_type": "display_data"
    }
   ],
   "source": [
    "n_missing_prices = len(reviews[reviews.price.isnull()])\n",
    "\n",
    "# Check your answer\n",
    "q3.check()"
   ]
  },
  {
   "cell_type": "code",
   "execution_count": 7,
   "id": "2ee8a8ca",
   "metadata": {
    "execution": {
     "iopub.execute_input": "2022-08-24T03:02:53.835200Z",
     "iopub.status.busy": "2022-08-24T03:02:53.834264Z",
     "iopub.status.idle": "2022-08-24T03:02:53.839069Z",
     "shell.execute_reply": "2022-08-24T03:02:53.838030Z"
    },
    "papermill": {
     "duration": 0.014612,
     "end_time": "2022-08-24T03:02:53.841430",
     "exception": false,
     "start_time": "2022-08-24T03:02:53.826818",
     "status": "completed"
    },
    "tags": []
   },
   "outputs": [],
   "source": [
    "#q3.hint()\n",
    "#q3.solution()"
   ]
  },
  {
   "cell_type": "markdown",
   "id": "c71d617d",
   "metadata": {
    "papermill": {
     "duration": 0.004863,
     "end_time": "2022-08-24T03:02:53.851943",
     "exception": false,
     "start_time": "2022-08-24T03:02:53.847080",
     "status": "completed"
    },
    "tags": []
   },
   "source": [
    "## 4.\n",
    "What are the most common wine-producing regions? Create a Series counting the number of times each value occurs in the `region_1` field. This field is often missing data, so replace missing values with `Unknown`. Sort in descending order.  Your output should look something like this:\n",
    "\n",
    "```\n",
    "Unknown                    21247\n",
    "Napa Valley                 4480\n",
    "                           ...  \n",
    "Bardolino Superiore            1\n",
    "Primitivo del Tarantino        1\n",
    "Name: region_1, Length: 1230, dtype: int64\n",
    "```"
   ]
  },
  {
   "cell_type": "code",
   "execution_count": 8,
   "id": "72e4467c",
   "metadata": {
    "execution": {
     "iopub.execute_input": "2022-08-24T03:02:53.865714Z",
     "iopub.status.busy": "2022-08-24T03:02:53.864660Z",
     "iopub.status.idle": "2022-08-24T03:02:53.915143Z",
     "shell.execute_reply": "2022-08-24T03:02:53.914059Z"
    },
    "papermill": {
     "duration": 0.059936,
     "end_time": "2022-08-24T03:02:53.917426",
     "exception": false,
     "start_time": "2022-08-24T03:02:53.857490",
     "status": "completed"
    },
    "tags": []
   },
   "outputs": [
    {
     "data": {
      "application/javascript": [
       "parent.postMessage({\"jupyterEvent\": \"custom.exercise_interaction\", \"data\": {\"outcomeType\": 1, \"valueTowardsCompletion\": 0.25, \"interactionType\": 1, \"questionType\": 2, \"questionId\": \"4_ReviewsPerRegion\", \"learnToolsVersion\": \"0.3.4\", \"failureMessage\": \"\", \"exceptionClass\": \"\", \"trace\": \"\"}}, \"*\")"
      ],
      "text/plain": [
       "<IPython.core.display.Javascript object>"
      ]
     },
     "metadata": {},
     "output_type": "display_data"
    },
    {
     "data": {
      "text/markdown": [
       "<span style=\"color:#33cc33\">Correct</span>"
      ],
      "text/plain": [
       "Correct"
      ]
     },
     "metadata": {},
     "output_type": "display_data"
    }
   ],
   "source": [
    "reviews_per_region = reviews.region_1.fillna(\"Unknown\").value_counts().sort_values(ascending=False)\n",
    "\n",
    "# Check your answer\n",
    "q4.check()"
   ]
  },
  {
   "cell_type": "code",
   "execution_count": 9,
   "id": "45181724",
   "metadata": {
    "execution": {
     "iopub.execute_input": "2022-08-24T03:02:53.931035Z",
     "iopub.status.busy": "2022-08-24T03:02:53.930203Z",
     "iopub.status.idle": "2022-08-24T03:02:53.935447Z",
     "shell.execute_reply": "2022-08-24T03:02:53.934392Z"
    },
    "papermill": {
     "duration": 0.014958,
     "end_time": "2022-08-24T03:02:53.937811",
     "exception": false,
     "start_time": "2022-08-24T03:02:53.922853",
     "status": "completed"
    },
    "tags": []
   },
   "outputs": [],
   "source": [
    "#q4.hint()\n",
    "#q4.solution()"
   ]
  },
  {
   "cell_type": "markdown",
   "id": "00740cf3",
   "metadata": {
    "papermill": {
     "duration": 0.005182,
     "end_time": "2022-08-24T03:02:53.948613",
     "exception": false,
     "start_time": "2022-08-24T03:02:53.943431",
     "status": "completed"
    },
    "tags": []
   },
   "source": [
    "# Keep going\n",
    "\n",
    "Move on to **[renaming and combining](https://www.kaggle.com/residentmario/renaming-and-combining)**."
   ]
  },
  {
   "cell_type": "markdown",
   "id": "9f401a15",
   "metadata": {
    "papermill": {
     "duration": 0.005718,
     "end_time": "2022-08-24T03:02:53.959832",
     "exception": false,
     "start_time": "2022-08-24T03:02:53.954114",
     "status": "completed"
    },
    "tags": []
   },
   "source": [
    "---\n",
    "\n",
    "\n",
    "\n",
    "\n",
    "*Have questions or comments? Visit the [course discussion forum](https://www.kaggle.com/learn/pandas/discussion) to chat with other learners.*"
   ]
  }
 ],
 "metadata": {
  "kernelspec": {
   "display_name": "Python 3",
   "language": "python",
   "name": "python3"
  },
  "language_info": {
   "codemirror_mode": {
    "name": "ipython",
    "version": 3
   },
   "file_extension": ".py",
   "mimetype": "text/x-python",
   "name": "python",
   "nbconvert_exporter": "python",
   "pygments_lexer": "ipython3",
   "version": "3.7.12"
  },
  "papermill": {
   "default_parameters": {},
   "duration": 14.922661,
   "end_time": "2022-08-24T03:02:54.689194",
   "environment_variables": {},
   "exception": null,
   "input_path": "__notebook__.ipynb",
   "output_path": "__notebook__.ipynb",
   "parameters": {},
   "start_time": "2022-08-24T03:02:39.766533",
   "version": "2.3.4"
  }
 },
 "nbformat": 4,
 "nbformat_minor": 5
}
