{
 "cells": [
  {
   "cell_type": "markdown",
   "id": "8e86b1df",
   "metadata": {
    "papermill": {
     "duration": 0.00722,
     "end_time": "2022-08-24T02:55:31.467807",
     "exception": false,
     "start_time": "2022-08-24T02:55:31.460587",
     "status": "completed"
    },
    "tags": []
   },
   "source": [
    "**This notebook is an exercise in the [Pandas](https://www.kaggle.com/learn/pandas) course.  You can reference the tutorial at [this link](https://www.kaggle.com/residentmario/grouping-and-sorting).**\n",
    "\n",
    "---\n"
   ]
  },
  {
   "cell_type": "markdown",
   "id": "df3617f0",
   "metadata": {
    "papermill": {
     "duration": 0.005098,
     "end_time": "2022-08-24T02:55:31.478517",
     "exception": false,
     "start_time": "2022-08-24T02:55:31.473419",
     "status": "completed"
    },
    "tags": []
   },
   "source": [
    "# Introduction\n",
    "\n",
    "In these exercises we'll apply groupwise analysis to our dataset.\n",
    "\n",
    "Run the code cell below to load the data before running the exercises."
   ]
  },
  {
   "cell_type": "code",
   "execution_count": 1,
   "id": "339337a0",
   "metadata": {
    "execution": {
     "iopub.execute_input": "2022-08-24T02:55:31.491807Z",
     "iopub.status.busy": "2022-08-24T02:55:31.491104Z",
     "iopub.status.idle": "2022-08-24T02:55:34.459788Z",
     "shell.execute_reply": "2022-08-24T02:55:34.456741Z"
    },
    "papermill": {
     "duration": 2.978936,
     "end_time": "2022-08-24T02:55:34.462898",
     "exception": false,
     "start_time": "2022-08-24T02:55:31.483962",
     "status": "completed"
    },
    "tags": []
   },
   "outputs": [
    {
     "name": "stdout",
     "output_type": "stream",
     "text": [
      "Setup complete.\n"
     ]
    }
   ],
   "source": [
    "import pandas as pd\n",
    "\n",
    "reviews = pd.read_csv(\"../input/wine-reviews/winemag-data-130k-v2.csv\", index_col=0)\n",
    "#pd.set_option(\"display.max_rows\", 5)\n",
    "\n",
    "from learntools.core import binder; binder.bind(globals())\n",
    "from learntools.pandas.grouping_and_sorting import *\n",
    "print(\"Setup complete.\")"
   ]
  },
  {
   "cell_type": "markdown",
   "id": "f7b81e6e",
   "metadata": {
    "papermill": {
     "duration": 0.005675,
     "end_time": "2022-08-24T02:55:34.474913",
     "exception": false,
     "start_time": "2022-08-24T02:55:34.469238",
     "status": "completed"
    },
    "tags": []
   },
   "source": [
    "# Exercises"
   ]
  },
  {
   "cell_type": "markdown",
   "id": "18597ef6",
   "metadata": {
    "papermill": {
     "duration": 0.005564,
     "end_time": "2022-08-24T02:55:34.486681",
     "exception": false,
     "start_time": "2022-08-24T02:55:34.481117",
     "status": "completed"
    },
    "tags": []
   },
   "source": [
    "## 1.\n",
    "Who are the most common wine reviewers in the dataset? Create a `Series` whose index is the `taster_twitter_handle` category from the dataset, and whose values count how many reviews each person wrote."
   ]
  },
  {
   "cell_type": "code",
   "execution_count": 2,
   "id": "4f490c0c",
   "metadata": {
    "execution": {
     "iopub.execute_input": "2022-08-24T02:55:34.500446Z",
     "iopub.status.busy": "2022-08-24T02:55:34.499660Z",
     "iopub.status.idle": "2022-08-24T02:55:34.526747Z",
     "shell.execute_reply": "2022-08-24T02:55:34.525339Z"
    },
    "papermill": {
     "duration": 0.037044,
     "end_time": "2022-08-24T02:55:34.529462",
     "exception": false,
     "start_time": "2022-08-24T02:55:34.492418",
     "status": "completed"
    },
    "tags": []
   },
   "outputs": [
    {
     "name": "stdout",
     "output_type": "stream",
     "text": [
      "taster_twitter_handle\n",
      "@AnneInVino          3685\n",
      "@JoeCz               5147\n",
      "@bkfiona               27\n",
      "@gordone_cellars     4177\n",
      "@kerinokeefe        10776\n",
      "@laurbuzz            1835\n",
      "@mattkettmann        6332\n",
      "@paulgwine           9532\n",
      "@suskostrzewa        1085\n",
      "@vboone              9537\n",
      "@vossroger          25514\n",
      "@wawinereport        4966\n",
      "@wineschach         15134\n",
      "@winewchristina         6\n",
      "@worldwineguys       1005\n",
      "dtype: int64\n"
     ]
    },
    {
     "data": {
      "application/javascript": [
       "parent.postMessage({\"jupyterEvent\": \"custom.exercise_interaction\", \"data\": {\"outcomeType\": 1, \"valueTowardsCompletion\": 0.16666666666666666, \"interactionType\": 1, \"questionType\": 1, \"questionId\": \"1_ReviewsWritten\", \"learnToolsVersion\": \"0.3.4\", \"failureMessage\": \"\", \"exceptionClass\": \"\", \"trace\": \"\"}}, \"*\")"
      ],
      "text/plain": [
       "<IPython.core.display.Javascript object>"
      ]
     },
     "metadata": {},
     "output_type": "display_data"
    },
    {
     "data": {
      "text/markdown": [
       "<span style=\"color:#33cc33\">Correct:</span> \n",
       "\n",
       "\n",
       "```python\n",
       "reviews_written = reviews.groupby('taster_twitter_handle').size()\n",
       "```\n",
       "or\n",
       "```python\n",
       "reviews_written = reviews.groupby('taster_twitter_handle').taster_twitter_handle.count()\n",
       "```\n"
      ],
      "text/plain": [
       "Correct: \n",
       "\n",
       "\n",
       "```python\n",
       "reviews_written = reviews.groupby('taster_twitter_handle').size()\n",
       "```\n",
       "or\n",
       "```python\n",
       "reviews_written = reviews.groupby('taster_twitter_handle').taster_twitter_handle.count()\n",
       "```"
      ]
     },
     "metadata": {},
     "output_type": "display_data"
    }
   ],
   "source": [
    "# Your code here\n",
    "reviews_written = reviews.groupby('taster_twitter_handle').size()\n",
    "print(reviews_written)\n",
    "#print(reviews.taster_twitter_handle.value_counts())\n",
    "\n",
    "# Check your answer\n",
    "q1.check()"
   ]
  },
  {
   "cell_type": "code",
   "execution_count": 3,
   "id": "ce62339f",
   "metadata": {
    "execution": {
     "iopub.execute_input": "2022-08-24T02:55:34.543374Z",
     "iopub.status.busy": "2022-08-24T02:55:34.542722Z",
     "iopub.status.idle": "2022-08-24T02:55:34.547683Z",
     "shell.execute_reply": "2022-08-24T02:55:34.546578Z"
    },
    "papermill": {
     "duration": 0.014938,
     "end_time": "2022-08-24T02:55:34.550440",
     "exception": false,
     "start_time": "2022-08-24T02:55:34.535502",
     "status": "completed"
    },
    "tags": []
   },
   "outputs": [],
   "source": [
    "#q1.hint()\n",
    "#q1.solution()"
   ]
  },
  {
   "cell_type": "markdown",
   "id": "ab50ab9e",
   "metadata": {
    "papermill": {
     "duration": 0.005775,
     "end_time": "2022-08-24T02:55:34.562429",
     "exception": false,
     "start_time": "2022-08-24T02:55:34.556654",
     "status": "completed"
    },
    "tags": []
   },
   "source": [
    "## 2.\n",
    "What is the best wine I can buy for a given amount of money? Create a `Series` whose index is wine prices and whose values is the maximum number of points a wine costing that much was given in a review. Sort the values by price, ascending (so that `4.0` dollars is at the top and `3300.0` dollars is at the bottom)."
   ]
  },
  {
   "cell_type": "code",
   "execution_count": 4,
   "id": "234ba40a",
   "metadata": {
    "execution": {
     "iopub.execute_input": "2022-08-24T02:55:34.576559Z",
     "iopub.status.busy": "2022-08-24T02:55:34.576146Z",
     "iopub.status.idle": "2022-08-24T02:55:34.595214Z",
     "shell.execute_reply": "2022-08-24T02:55:34.593343Z"
    },
    "papermill": {
     "duration": 0.029092,
     "end_time": "2022-08-24T02:55:34.597544",
     "exception": false,
     "start_time": "2022-08-24T02:55:34.568452",
     "status": "completed"
    },
    "tags": []
   },
   "outputs": [
    {
     "name": "stdout",
     "output_type": "stream",
     "text": [
      "price\n",
      "4.0       86\n",
      "5.0       87\n",
      "6.0       88\n",
      "7.0       91\n",
      "8.0       91\n",
      "          ..\n",
      "1900.0    98\n",
      "2000.0    97\n",
      "2013.0    91\n",
      "2500.0    96\n",
      "3300.0    88\n",
      "Name: points, Length: 390, dtype: int64\n"
     ]
    },
    {
     "data": {
      "application/javascript": [
       "parent.postMessage({\"jupyterEvent\": \"custom.exercise_interaction\", \"data\": {\"outcomeType\": 1, \"valueTowardsCompletion\": 0.16666666666666666, \"interactionType\": 1, \"questionType\": 1, \"questionId\": \"2_BestRatingPerPrice\", \"learnToolsVersion\": \"0.3.4\", \"failureMessage\": \"\", \"exceptionClass\": \"\", \"trace\": \"\"}}, \"*\")"
      ],
      "text/plain": [
       "<IPython.core.display.Javascript object>"
      ]
     },
     "metadata": {},
     "output_type": "display_data"
    },
    {
     "data": {
      "text/markdown": [
       "<span style=\"color:#33cc33\">Correct</span>"
      ],
      "text/plain": [
       "Correct"
      ]
     },
     "metadata": {},
     "output_type": "display_data"
    }
   ],
   "source": [
    "best_rating_per_price = reviews.groupby('price').points.max()\n",
    "print(best_rating_per_price)\n",
    "# Check your answer\n",
    "q2.check()"
   ]
  },
  {
   "cell_type": "code",
   "execution_count": 5,
   "id": "4feadbf6",
   "metadata": {
    "execution": {
     "iopub.execute_input": "2022-08-24T02:55:34.612772Z",
     "iopub.status.busy": "2022-08-24T02:55:34.611650Z",
     "iopub.status.idle": "2022-08-24T02:55:34.616967Z",
     "shell.execute_reply": "2022-08-24T02:55:34.615713Z"
    },
    "papermill": {
     "duration": 0.015318,
     "end_time": "2022-08-24T02:55:34.619433",
     "exception": false,
     "start_time": "2022-08-24T02:55:34.604115",
     "status": "completed"
    },
    "tags": []
   },
   "outputs": [],
   "source": [
    "#q2.hint()\n",
    "#q2.solution()"
   ]
  },
  {
   "cell_type": "markdown",
   "id": "d29a287b",
   "metadata": {
    "papermill": {
     "duration": 0.006177,
     "end_time": "2022-08-24T02:55:34.631974",
     "exception": false,
     "start_time": "2022-08-24T02:55:34.625797",
     "status": "completed"
    },
    "tags": []
   },
   "source": [
    "## 3.\n",
    "What are the minimum and maximum prices for each `variety` of wine? Create a `DataFrame` whose index is the `variety` category from the dataset and whose values are the `min` and `max` values thereof."
   ]
  },
  {
   "cell_type": "code",
   "execution_count": 6,
   "id": "c93900f9",
   "metadata": {
    "execution": {
     "iopub.execute_input": "2022-08-24T02:55:34.646355Z",
     "iopub.status.busy": "2022-08-24T02:55:34.645935Z",
     "iopub.status.idle": "2022-08-24T02:55:34.670263Z",
     "shell.execute_reply": "2022-08-24T02:55:34.669343Z"
    },
    "papermill": {
     "duration": 0.034045,
     "end_time": "2022-08-24T02:55:34.672428",
     "exception": false,
     "start_time": "2022-08-24T02:55:34.638383",
     "status": "completed"
    },
    "tags": []
   },
   "outputs": [
    {
     "data": {
      "application/javascript": [
       "parent.postMessage({\"jupyterEvent\": \"custom.exercise_interaction\", \"data\": {\"outcomeType\": 1, \"valueTowardsCompletion\": 0.16666666666666666, \"interactionType\": 1, \"questionType\": 1, \"questionId\": \"3_PriceExtremes\", \"learnToolsVersion\": \"0.3.4\", \"failureMessage\": \"\", \"exceptionClass\": \"\", \"trace\": \"\"}}, \"*\")"
      ],
      "text/plain": [
       "<IPython.core.display.Javascript object>"
      ]
     },
     "metadata": {},
     "output_type": "display_data"
    },
    {
     "data": {
      "text/markdown": [
       "<span style=\"color:#33cc33\">Correct</span>"
      ],
      "text/plain": [
       "Correct"
      ]
     },
     "metadata": {},
     "output_type": "display_data"
    }
   ],
   "source": [
    "price_extremes = reviews.groupby('variety').price.agg([min,max])\n",
    "\n",
    "# Check your answer\n",
    "q3.check()"
   ]
  },
  {
   "cell_type": "code",
   "execution_count": 7,
   "id": "12384fe3",
   "metadata": {
    "execution": {
     "iopub.execute_input": "2022-08-24T02:55:34.689314Z",
     "iopub.status.busy": "2022-08-24T02:55:34.688532Z",
     "iopub.status.idle": "2022-08-24T02:55:34.693337Z",
     "shell.execute_reply": "2022-08-24T02:55:34.691906Z"
    },
    "papermill": {
     "duration": 0.016747,
     "end_time": "2022-08-24T02:55:34.696087",
     "exception": false,
     "start_time": "2022-08-24T02:55:34.679340",
     "status": "completed"
    },
    "tags": []
   },
   "outputs": [],
   "source": [
    "#q3.hint()\n",
    "#q3.solution()"
   ]
  },
  {
   "cell_type": "markdown",
   "id": "d0c59b04",
   "metadata": {
    "papermill": {
     "duration": 0.006277,
     "end_time": "2022-08-24T02:55:34.709233",
     "exception": false,
     "start_time": "2022-08-24T02:55:34.702956",
     "status": "completed"
    },
    "tags": []
   },
   "source": [
    "## 4.\n",
    "What are the most expensive wine varieties? Create a variable `sorted_varieties` containing a copy of the dataframe from the previous question where varieties are sorted in descending order based on minimum price, then on maximum price (to break ties)."
   ]
  },
  {
   "cell_type": "code",
   "execution_count": 8,
   "id": "f7b60955",
   "metadata": {
    "execution": {
     "iopub.execute_input": "2022-08-24T02:55:34.724145Z",
     "iopub.status.busy": "2022-08-24T02:55:34.723719Z",
     "iopub.status.idle": "2022-08-24T02:55:34.737732Z",
     "shell.execute_reply": "2022-08-24T02:55:34.736395Z"
    },
    "papermill": {
     "duration": 0.024433,
     "end_time": "2022-08-24T02:55:34.740189",
     "exception": false,
     "start_time": "2022-08-24T02:55:34.715756",
     "status": "completed"
    },
    "tags": []
   },
   "outputs": [
    {
     "data": {
      "application/javascript": [
       "parent.postMessage({\"jupyterEvent\": \"custom.exercise_interaction\", \"data\": {\"outcomeType\": 1, \"valueTowardsCompletion\": 0.16666666666666666, \"interactionType\": 1, \"questionType\": 1, \"questionId\": \"4_SortedVarieties\", \"learnToolsVersion\": \"0.3.4\", \"failureMessage\": \"\", \"exceptionClass\": \"\", \"trace\": \"\"}}, \"*\")"
      ],
      "text/plain": [
       "<IPython.core.display.Javascript object>"
      ]
     },
     "metadata": {},
     "output_type": "display_data"
    },
    {
     "data": {
      "text/markdown": [
       "<span style=\"color:#33cc33\">Correct</span>"
      ],
      "text/plain": [
       "Correct"
      ]
     },
     "metadata": {},
     "output_type": "display_data"
    }
   ],
   "source": [
    "sorted_varieties = price_extremes.sort_values(by=['min', 'max'], ascending=False)\n",
    "\n",
    "# Check your answer\n",
    "q4.check()"
   ]
  },
  {
   "cell_type": "code",
   "execution_count": 9,
   "id": "53f38b6b",
   "metadata": {
    "execution": {
     "iopub.execute_input": "2022-08-24T02:55:34.756048Z",
     "iopub.status.busy": "2022-08-24T02:55:34.755588Z",
     "iopub.status.idle": "2022-08-24T02:55:34.760922Z",
     "shell.execute_reply": "2022-08-24T02:55:34.759587Z"
    },
    "papermill": {
     "duration": 0.016302,
     "end_time": "2022-08-24T02:55:34.763506",
     "exception": false,
     "start_time": "2022-08-24T02:55:34.747204",
     "status": "completed"
    },
    "tags": []
   },
   "outputs": [],
   "source": [
    "#q4.hint()\n",
    "#q4.solution()"
   ]
  },
  {
   "cell_type": "markdown",
   "id": "c34d4472",
   "metadata": {
    "papermill": {
     "duration": 0.006497,
     "end_time": "2022-08-24T02:55:34.776960",
     "exception": false,
     "start_time": "2022-08-24T02:55:34.770463",
     "status": "completed"
    },
    "tags": []
   },
   "source": [
    "## 5.\n",
    "Create a `Series` whose index is reviewers and whose values is the average review score given out by that reviewer. Hint: you will need the `taster_name` and `points` columns."
   ]
  },
  {
   "cell_type": "code",
   "execution_count": 10,
   "id": "9eadf20e",
   "metadata": {
    "execution": {
     "iopub.execute_input": "2022-08-24T02:55:34.792450Z",
     "iopub.status.busy": "2022-08-24T02:55:34.791997Z",
     "iopub.status.idle": "2022-08-24T02:55:34.813701Z",
     "shell.execute_reply": "2022-08-24T02:55:34.812307Z"
    },
    "papermill": {
     "duration": 0.03277,
     "end_time": "2022-08-24T02:55:34.816422",
     "exception": false,
     "start_time": "2022-08-24T02:55:34.783652",
     "status": "completed"
    },
    "tags": []
   },
   "outputs": [
    {
     "data": {
      "application/javascript": [
       "parent.postMessage({\"jupyterEvent\": \"custom.exercise_interaction\", \"data\": {\"outcomeType\": 1, \"valueTowardsCompletion\": 0.16666666666666666, \"interactionType\": 1, \"questionType\": 1, \"questionId\": \"5_ReviewerMeanRatings\", \"learnToolsVersion\": \"0.3.4\", \"failureMessage\": \"\", \"exceptionClass\": \"\", \"trace\": \"\"}}, \"*\")"
      ],
      "text/plain": [
       "<IPython.core.display.Javascript object>"
      ]
     },
     "metadata": {},
     "output_type": "display_data"
    },
    {
     "data": {
      "text/markdown": [
       "<span style=\"color:#33cc33\">Correct</span>"
      ],
      "text/plain": [
       "Correct"
      ]
     },
     "metadata": {},
     "output_type": "display_data"
    }
   ],
   "source": [
    "reviewer_mean_ratings = reviews.groupby('taster_name').points.mean()\n",
    "\n",
    "# Check your answer\n",
    "q5.check()"
   ]
  },
  {
   "cell_type": "code",
   "execution_count": 11,
   "id": "d936aa19",
   "metadata": {
    "execution": {
     "iopub.execute_input": "2022-08-24T02:55:34.833069Z",
     "iopub.status.busy": "2022-08-24T02:55:34.832623Z",
     "iopub.status.idle": "2022-08-24T02:55:34.838126Z",
     "shell.execute_reply": "2022-08-24T02:55:34.836721Z"
    },
    "papermill": {
     "duration": 0.016626,
     "end_time": "2022-08-24T02:55:34.840481",
     "exception": false,
     "start_time": "2022-08-24T02:55:34.823855",
     "status": "completed"
    },
    "tags": []
   },
   "outputs": [],
   "source": [
    "#q5.hint()\n",
    "#q5.solution()"
   ]
  },
  {
   "cell_type": "markdown",
   "id": "26c898fb",
   "metadata": {
    "papermill": {
     "duration": 0.006682,
     "end_time": "2022-08-24T02:55:34.854379",
     "exception": false,
     "start_time": "2022-08-24T02:55:34.847697",
     "status": "completed"
    },
    "tags": []
   },
   "source": [
    "Are there significant differences in the average scores assigned by the various reviewers? Run the cell below to use the `describe()` method to see a summary of the range of values."
   ]
  },
  {
   "cell_type": "code",
   "execution_count": 12,
   "id": "72b3c6b3",
   "metadata": {
    "execution": {
     "iopub.execute_input": "2022-08-24T02:55:34.871035Z",
     "iopub.status.busy": "2022-08-24T02:55:34.870424Z",
     "iopub.status.idle": "2022-08-24T02:55:34.882954Z",
     "shell.execute_reply": "2022-08-24T02:55:34.882105Z"
    },
    "papermill": {
     "duration": 0.023459,
     "end_time": "2022-08-24T02:55:34.885171",
     "exception": false,
     "start_time": "2022-08-24T02:55:34.861712",
     "status": "completed"
    },
    "tags": []
   },
   "outputs": [
    {
     "data": {
      "text/plain": [
       "count    19.000000\n",
       "mean     88.233026\n",
       "std       1.243610\n",
       "min      85.855422\n",
       "25%      87.323501\n",
       "50%      88.536235\n",
       "75%      88.975256\n",
       "max      90.562551\n",
       "Name: points, dtype: float64"
      ]
     },
     "execution_count": 12,
     "metadata": {},
     "output_type": "execute_result"
    }
   ],
   "source": [
    "reviewer_mean_ratings.describe()"
   ]
  },
  {
   "cell_type": "markdown",
   "id": "4434abe1",
   "metadata": {
    "papermill": {
     "duration": 0.006953,
     "end_time": "2022-08-24T02:55:34.899387",
     "exception": false,
     "start_time": "2022-08-24T02:55:34.892434",
     "status": "completed"
    },
    "tags": []
   },
   "source": [
    "## 6.\n",
    "What combination of countries and varieties are most common? Create a `Series` whose index is a `MultiIndex`of `{country, variety}` pairs. For example, a pinot noir produced in the US should map to `{\"US\", \"Pinot Noir\"}`. Sort the values in the `Series` in descending order based on wine count."
   ]
  },
  {
   "cell_type": "code",
   "execution_count": 13,
   "id": "35b03b21",
   "metadata": {
    "execution": {
     "iopub.execute_input": "2022-08-24T02:55:34.915710Z",
     "iopub.status.busy": "2022-08-24T02:55:34.915305Z",
     "iopub.status.idle": "2022-08-24T02:55:34.951265Z",
     "shell.execute_reply": "2022-08-24T02:55:34.949804Z"
    },
    "papermill": {
     "duration": 0.047533,
     "end_time": "2022-08-24T02:55:34.953983",
     "exception": false,
     "start_time": "2022-08-24T02:55:34.906450",
     "status": "completed"
    },
    "tags": []
   },
   "outputs": [
    {
     "data": {
      "application/javascript": [
       "parent.postMessage({\"jupyterEvent\": \"custom.exercise_interaction\", \"data\": {\"outcomeType\": 1, \"valueTowardsCompletion\": 0.16666666666666666, \"interactionType\": 1, \"questionType\": 1, \"questionId\": \"6_GroupbyCountryVariety\", \"learnToolsVersion\": \"0.3.4\", \"failureMessage\": \"\", \"exceptionClass\": \"\", \"trace\": \"\"}}, \"*\")"
      ],
      "text/plain": [
       "<IPython.core.display.Javascript object>"
      ]
     },
     "metadata": {},
     "output_type": "display_data"
    },
    {
     "data": {
      "text/markdown": [
       "<span style=\"color:#33cc33\">Correct</span>"
      ],
      "text/plain": [
       "Correct"
      ]
     },
     "metadata": {},
     "output_type": "display_data"
    }
   ],
   "source": [
    "country_variety_counts = reviews.groupby(['country', 'variety']).size().sort_values(ascending=False)\n",
    "\n",
    "# Check your answer\n",
    "q6.check()"
   ]
  },
  {
   "cell_type": "code",
   "execution_count": 14,
   "id": "be9ab28f",
   "metadata": {
    "execution": {
     "iopub.execute_input": "2022-08-24T02:55:34.970402Z",
     "iopub.status.busy": "2022-08-24T02:55:34.969939Z",
     "iopub.status.idle": "2022-08-24T02:55:34.975519Z",
     "shell.execute_reply": "2022-08-24T02:55:34.974104Z"
    },
    "papermill": {
     "duration": 0.016398,
     "end_time": "2022-08-24T02:55:34.977896",
     "exception": false,
     "start_time": "2022-08-24T02:55:34.961498",
     "status": "completed"
    },
    "tags": []
   },
   "outputs": [],
   "source": [
    "#q6.hint()\n",
    "#q6.solution()"
   ]
  },
  {
   "cell_type": "markdown",
   "id": "9f0ced51",
   "metadata": {
    "papermill": {
     "duration": 0.007087,
     "end_time": "2022-08-24T02:55:34.992534",
     "exception": false,
     "start_time": "2022-08-24T02:55:34.985447",
     "status": "completed"
    },
    "tags": []
   },
   "source": [
    "# Keep going\n",
    "\n",
    "Move on to the [**data types and missing data**](https://www.kaggle.com/residentmario/data-types-and-missing-values)."
   ]
  },
  {
   "cell_type": "markdown",
   "id": "f59af2e3",
   "metadata": {
    "papermill": {
     "duration": 0.00696,
     "end_time": "2022-08-24T02:55:35.006731",
     "exception": false,
     "start_time": "2022-08-24T02:55:34.999771",
     "status": "completed"
    },
    "tags": []
   },
   "source": [
    "---\n",
    "\n",
    "\n",
    "\n",
    "\n",
    "*Have questions or comments? Visit the [course discussion forum](https://www.kaggle.com/learn/pandas/discussion) to chat with other learners.*"
   ]
  }
 ],
 "metadata": {
  "kernelspec": {
   "display_name": "Python 3",
   "language": "python",
   "name": "python3"
  },
  "language_info": {
   "codemirror_mode": {
    "name": "ipython",
    "version": 3
   },
   "file_extension": ".py",
   "mimetype": "text/x-python",
   "name": "python",
   "nbconvert_exporter": "python",
   "pygments_lexer": "ipython3",
   "version": "3.7.12"
  },
  "papermill": {
   "default_parameters": {},
   "duration": 13.550064,
   "end_time": "2022-08-24T02:55:35.736550",
   "environment_variables": {},
   "exception": null,
   "input_path": "__notebook__.ipynb",
   "output_path": "__notebook__.ipynb",
   "parameters": {},
   "start_time": "2022-08-24T02:55:22.186486",
   "version": "2.3.4"
  }
 },
 "nbformat": 4,
 "nbformat_minor": 5
}
