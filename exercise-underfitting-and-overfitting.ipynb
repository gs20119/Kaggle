{
 "cells": [
  {
   "cell_type": "markdown",
   "id": "49d5dc3f",
   "metadata": {
    "papermill": {
     "duration": 0.004835,
     "end_time": "2022-08-12T16:16:23.296855",
     "exception": false,
     "start_time": "2022-08-12T16:16:23.292020",
     "status": "completed"
    },
    "tags": []
   },
   "source": [
    "**This notebook is an exercise in the [Introduction to Machine Learning](https://www.kaggle.com/learn/intro-to-machine-learning) course.  You can reference the tutorial at [this link](https://www.kaggle.com/dansbecker/underfitting-and-overfitting).**\n",
    "\n",
    "---\n"
   ]
  },
  {
   "cell_type": "markdown",
   "id": "2dbc69bf",
   "metadata": {
    "papermill": {
     "duration": 0.003331,
     "end_time": "2022-08-12T16:16:23.304293",
     "exception": false,
     "start_time": "2022-08-12T16:16:23.300962",
     "status": "completed"
    },
    "tags": []
   },
   "source": [
    "## Recap\n",
    "You've built your first model, and now it's time to optimize the size of the tree to make better predictions. Run this cell to set up your coding environment where the previous step left off."
   ]
  },
  {
   "cell_type": "code",
   "execution_count": 1,
   "id": "b192102f",
   "metadata": {
    "execution": {
     "iopub.execute_input": "2022-08-12T16:16:23.315478Z",
     "iopub.status.busy": "2022-08-12T16:16:23.314298Z",
     "iopub.status.idle": "2022-08-12T16:16:24.821985Z",
     "shell.execute_reply": "2022-08-12T16:16:24.819755Z"
    },
    "papermill": {
     "duration": 1.517769,
     "end_time": "2022-08-12T16:16:24.825718",
     "exception": false,
     "start_time": "2022-08-12T16:16:23.307949",
     "status": "completed"
    },
    "tags": []
   },
   "outputs": [
    {
     "name": "stdout",
     "output_type": "stream",
     "text": [
      "Validation MAE: 29,653\n",
      "\n",
      "Setup complete\n"
     ]
    }
   ],
   "source": [
    "# Code you have previously used to load data\n",
    "import pandas as pd\n",
    "from sklearn.metrics import mean_absolute_error\n",
    "from sklearn.model_selection import train_test_split\n",
    "from sklearn.tree import DecisionTreeRegressor\n",
    "\n",
    "\n",
    "# Path of the file to read\n",
    "iowa_file_path = '../input/home-data-for-ml-course/train.csv'\n",
    "\n",
    "home_data = pd.read_csv(iowa_file_path)\n",
    "# Create target object and call it y\n",
    "y = home_data.SalePrice\n",
    "# Create X\n",
    "features = ['LotArea', 'YearBuilt', '1stFlrSF', '2ndFlrSF', 'FullBath', 'BedroomAbvGr', 'TotRmsAbvGrd']\n",
    "X = home_data[features]\n",
    "\n",
    "# Split into validation and training data\n",
    "train_X, val_X, train_y, val_y = train_test_split(X, y, random_state=1)\n",
    "\n",
    "# Specify Model\n",
    "iowa_model = DecisionTreeRegressor(random_state=1)\n",
    "# Fit Model\n",
    "iowa_model.fit(train_X, train_y)\n",
    "\n",
    "# Make validation predictions and calculate mean absolute error\n",
    "val_predictions = iowa_model.predict(val_X)\n",
    "val_mae = mean_absolute_error(val_predictions, val_y)\n",
    "print(\"Validation MAE: {:,.0f}\".format(val_mae))\n",
    "\n",
    "# Set up code checking\n",
    "from learntools.core import binder\n",
    "binder.bind(globals())\n",
    "from learntools.machine_learning.ex5 import *\n",
    "print(\"\\nSetup complete\")"
   ]
  },
  {
   "cell_type": "markdown",
   "id": "b765a75d",
   "metadata": {
    "papermill": {
     "duration": 0.003762,
     "end_time": "2022-08-12T16:16:24.833234",
     "exception": false,
     "start_time": "2022-08-12T16:16:24.829472",
     "status": "completed"
    },
    "tags": []
   },
   "source": [
    "# Exercises\n",
    "You could write the function `get_mae` yourself. For now, we'll supply it. This is the same function you read about in the previous lesson. Just run the cell below."
   ]
  },
  {
   "cell_type": "code",
   "execution_count": 2,
   "id": "4ddb5b61",
   "metadata": {
    "execution": {
     "iopub.execute_input": "2022-08-12T16:16:24.843689Z",
     "iopub.status.busy": "2022-08-12T16:16:24.842308Z",
     "iopub.status.idle": "2022-08-12T16:16:24.849728Z",
     "shell.execute_reply": "2022-08-12T16:16:24.848594Z"
    },
    "papermill": {
     "duration": 0.015079,
     "end_time": "2022-08-12T16:16:24.852060",
     "exception": false,
     "start_time": "2022-08-12T16:16:24.836981",
     "status": "completed"
    },
    "tags": []
   },
   "outputs": [],
   "source": [
    "def get_mae(max_leaf_nodes, train_X, val_X, train_y, val_y):\n",
    "    model = DecisionTreeRegressor(max_leaf_nodes=max_leaf_nodes, random_state=0)\n",
    "    model.fit(train_X, train_y)\n",
    "    preds_val = model.predict(val_X)\n",
    "    mae = mean_absolute_error(val_y, preds_val)\n",
    "    return(mae)"
   ]
  },
  {
   "cell_type": "markdown",
   "id": "df158ba8",
   "metadata": {
    "papermill": {
     "duration": 0.003403,
     "end_time": "2022-08-12T16:16:24.859177",
     "exception": false,
     "start_time": "2022-08-12T16:16:24.855774",
     "status": "completed"
    },
    "tags": []
   },
   "source": [
    "## Step 1: Compare Different Tree Sizes\n",
    "Write a loop that tries the following values for *max_leaf_nodes* from a set of possible values.\n",
    "\n",
    "Call the *get_mae* function on each value of max_leaf_nodes. Store the output in some way that allows you to select the value of `max_leaf_nodes` that gives the most accurate model on your data."
   ]
  },
  {
   "cell_type": "code",
   "execution_count": 3,
   "id": "22b88fcd",
   "metadata": {
    "execution": {
     "iopub.execute_input": "2022-08-12T16:16:24.869556Z",
     "iopub.status.busy": "2022-08-12T16:16:24.868593Z",
     "iopub.status.idle": "2022-08-12T16:16:24.922750Z",
     "shell.execute_reply": "2022-08-12T16:16:24.921688Z"
    },
    "papermill": {
     "duration": 0.062241,
     "end_time": "2022-08-12T16:16:24.925126",
     "exception": false,
     "start_time": "2022-08-12T16:16:24.862885",
     "status": "completed"
    },
    "tags": []
   },
   "outputs": [
    {
     "data": {
      "application/javascript": [
       "parent.postMessage({\"jupyterEvent\": \"custom.exercise_interaction\", \"data\": {\"outcomeType\": 1, \"valueTowardsCompletion\": 0.5, \"interactionType\": 1, \"questionType\": 1, \"questionId\": \"1_BestTreeSize\", \"learnToolsVersion\": \"0.3.4\", \"failureMessage\": \"\", \"exceptionClass\": \"\", \"trace\": \"\"}}, \"*\")"
      ],
      "text/plain": [
       "<IPython.core.display.Javascript object>"
      ]
     },
     "metadata": {},
     "output_type": "display_data"
    },
    {
     "data": {
      "text/markdown": [
       "<span style=\"color:#33cc33\">Correct</span>"
      ],
      "text/plain": [
       "Correct"
      ]
     },
     "metadata": {},
     "output_type": "display_data"
    }
   ],
   "source": [
    "candidate_max_leaf_nodes = [5, 25, 50, 100, 250, 500]\n",
    "# Write loop to find the ideal tree size from candidate_max_leaf_nodes\n",
    "minimum = 1e10\n",
    "best_tree_size = 5\n",
    "for size in candidate_max_leaf_nodes:\n",
    "    MAE = get_mae(size, train_X, val_X, train_y, val_y)\n",
    "    if MAE < minimum:\n",
    "        minimum = MAE\n",
    "        best_tree_size = size\n",
    "\n",
    "# Store the best value of max_leaf_nodes (it will be either 5, 25, 50, 100, 250 or 500)\n",
    "\n",
    "# Check your answer\n",
    "step_1.check()"
   ]
  },
  {
   "cell_type": "code",
   "execution_count": 4,
   "id": "ba4f6546",
   "metadata": {
    "execution": {
     "iopub.execute_input": "2022-08-12T16:16:24.935794Z",
     "iopub.status.busy": "2022-08-12T16:16:24.935025Z",
     "iopub.status.idle": "2022-08-12T16:16:24.939869Z",
     "shell.execute_reply": "2022-08-12T16:16:24.938638Z"
    },
    "papermill": {
     "duration": 0.013798,
     "end_time": "2022-08-12T16:16:24.942835",
     "exception": false,
     "start_time": "2022-08-12T16:16:24.929037",
     "status": "completed"
    },
    "tags": []
   },
   "outputs": [],
   "source": [
    "# The lines below will show you a hint or the solution.\n",
    "# step_1.hint() \n",
    "# step_1.solution()"
   ]
  },
  {
   "cell_type": "markdown",
   "id": "87dac905",
   "metadata": {
    "papermill": {
     "duration": 0.003852,
     "end_time": "2022-08-12T16:16:24.950842",
     "exception": false,
     "start_time": "2022-08-12T16:16:24.946990",
     "status": "completed"
    },
    "tags": []
   },
   "source": [
    "## Step 2: Fit Model Using All Data\n",
    "You know the best tree size. If you were going to deploy this model in practice, you would make it even more accurate by using all of the data and keeping that tree size.  That is, you don't need to hold out the validation data now that you've made all your modeling decisions."
   ]
  },
  {
   "cell_type": "code",
   "execution_count": 5,
   "id": "32f0afdf",
   "metadata": {
    "execution": {
     "iopub.execute_input": "2022-08-12T16:16:24.961859Z",
     "iopub.status.busy": "2022-08-12T16:16:24.960893Z",
     "iopub.status.idle": "2022-08-12T16:16:24.982262Z",
     "shell.execute_reply": "2022-08-12T16:16:24.981024Z"
    },
    "papermill": {
     "duration": 0.030384,
     "end_time": "2022-08-12T16:16:24.985381",
     "exception": false,
     "start_time": "2022-08-12T16:16:24.954997",
     "status": "completed"
    },
    "tags": []
   },
   "outputs": [
    {
     "data": {
      "application/javascript": [
       "parent.postMessage({\"jupyterEvent\": \"custom.exercise_interaction\", \"data\": {\"outcomeType\": 1, \"valueTowardsCompletion\": 0.5, \"interactionType\": 1, \"questionType\": 2, \"questionId\": \"2_FitModelWithAllData\", \"learnToolsVersion\": \"0.3.4\", \"failureMessage\": \"\", \"exceptionClass\": \"\", \"trace\": \"\"}}, \"*\")"
      ],
      "text/plain": [
       "<IPython.core.display.Javascript object>"
      ]
     },
     "metadata": {},
     "output_type": "display_data"
    },
    {
     "data": {
      "text/markdown": [
       "<span style=\"color:#33cc33\">Correct</span>"
      ],
      "text/plain": [
       "Correct"
      ]
     },
     "metadata": {},
     "output_type": "display_data"
    }
   ],
   "source": [
    "# Fill in argument to make optimal size and uncomment\n",
    "final_model = DecisionTreeRegressor(max_leaf_nodes=best_tree_size, random_state=0)\n",
    "\n",
    "# fit the final model and uncomment the next two lines\n",
    "final_model.fit(X, y)\n",
    "\n",
    "# Check your answer\n",
    "step_2.check()"
   ]
  },
  {
   "cell_type": "code",
   "execution_count": 6,
   "id": "6d8fde14",
   "metadata": {
    "execution": {
     "iopub.execute_input": "2022-08-12T16:16:24.998347Z",
     "iopub.status.busy": "2022-08-12T16:16:24.997804Z",
     "iopub.status.idle": "2022-08-12T16:16:25.003164Z",
     "shell.execute_reply": "2022-08-12T16:16:25.001864Z"
    },
    "papermill": {
     "duration": 0.014936,
     "end_time": "2022-08-12T16:16:25.005537",
     "exception": false,
     "start_time": "2022-08-12T16:16:24.990601",
     "status": "completed"
    },
    "tags": []
   },
   "outputs": [],
   "source": [
    "# step_2.hint()\n",
    "# step_2.solution()"
   ]
  },
  {
   "cell_type": "markdown",
   "id": "da2fcbdb",
   "metadata": {
    "papermill": {
     "duration": 0.004162,
     "end_time": "2022-08-12T16:16:25.013948",
     "exception": false,
     "start_time": "2022-08-12T16:16:25.009786",
     "status": "completed"
    },
    "tags": []
   },
   "source": [
    "You've tuned this model and improved your results. But we are still using Decision Tree models, which are not very sophisticated by modern machine learning standards. In the next step you will learn to use Random Forests to improve your models even more.\n",
    "\n",
    "# Keep Going\n",
    "\n",
    "You are ready for **[Random Forests](https://www.kaggle.com/dansbecker/random-forests).**\n"
   ]
  },
  {
   "cell_type": "markdown",
   "id": "158d4cd2",
   "metadata": {
    "papermill": {
     "duration": 0.00379,
     "end_time": "2022-08-12T16:16:25.021855",
     "exception": false,
     "start_time": "2022-08-12T16:16:25.018065",
     "status": "completed"
    },
    "tags": []
   },
   "source": [
    "---\n",
    "\n",
    "\n",
    "\n",
    "\n",
    "*Have questions or comments? Visit the [course discussion forum](https://www.kaggle.com/learn/intro-to-machine-learning/discussion) to chat with other learners.*"
   ]
  }
 ],
 "metadata": {
  "kernelspec": {
   "display_name": "Python 3",
   "language": "python",
   "name": "python3"
  },
  "language_info": {
   "codemirror_mode": {
    "name": "ipython",
    "version": 3
   },
   "file_extension": ".py",
   "mimetype": "text/x-python",
   "name": "python",
   "nbconvert_exporter": "python",
   "pygments_lexer": "ipython3",
   "version": "3.7.12"
  },
  "papermill": {
   "default_parameters": {},
   "duration": 13.824514,
   "end_time": "2022-08-12T16:16:26.049522",
   "environment_variables": {},
   "exception": null,
   "input_path": "__notebook__.ipynb",
   "output_path": "__notebook__.ipynb",
   "parameters": {},
   "start_time": "2022-08-12T16:16:12.225008",
   "version": "2.3.4"
  }
 },
 "nbformat": 4,
 "nbformat_minor": 5
}
