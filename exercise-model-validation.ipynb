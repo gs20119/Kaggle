{
 "cells": [
  {
   "cell_type": "markdown",
   "id": "434e3b1d",
   "metadata": {
    "papermill": {
     "duration": 0.006076,
     "end_time": "2022-08-11T17:30:15.149071",
     "exception": false,
     "start_time": "2022-08-11T17:30:15.142995",
     "status": "completed"
    },
    "tags": []
   },
   "source": [
    "**This notebook is an exercise in the [Introduction to Machine Learning](https://www.kaggle.com/learn/intro-to-machine-learning) course.  You can reference the tutorial at [this link](https://www.kaggle.com/dansbecker/model-validation).**\n",
    "\n",
    "---\n"
   ]
  },
  {
   "cell_type": "markdown",
   "id": "9f51e03a",
   "metadata": {
    "papermill": {
     "duration": 0.004891,
     "end_time": "2022-08-11T17:30:15.159055",
     "exception": false,
     "start_time": "2022-08-11T17:30:15.154164",
     "status": "completed"
    },
    "tags": []
   },
   "source": [
    "## Recap\n",
    "You've built a model. In this exercise you will test how good your model is.\n",
    "\n",
    "Run the cell below to set up your coding environment where the previous exercise left off."
   ]
  },
  {
   "cell_type": "code",
   "execution_count": 1,
   "id": "bf24b592",
   "metadata": {
    "execution": {
     "iopub.execute_input": "2022-08-11T17:30:15.171689Z",
     "iopub.status.busy": "2022-08-11T17:30:15.171125Z",
     "iopub.status.idle": "2022-08-11T17:30:16.741806Z",
     "shell.execute_reply": "2022-08-11T17:30:16.740220Z"
    },
    "papermill": {
     "duration": 1.580525,
     "end_time": "2022-08-11T17:30:16.745162",
     "exception": false,
     "start_time": "2022-08-11T17:30:15.164637",
     "status": "completed"
    },
    "tags": []
   },
   "outputs": [
    {
     "name": "stdout",
     "output_type": "stream",
     "text": [
      "First in-sample predictions: [208500. 181500. 223500. 140000. 250000.]\n",
      "Actual target values for those homes: [208500, 181500, 223500, 140000, 250000]\n",
      "Setup Complete\n"
     ]
    }
   ],
   "source": [
    "# Code you have previously used to load data\n",
    "import pandas as pd\n",
    "from sklearn.tree import DecisionTreeRegressor\n",
    "\n",
    "# Path of the file to read\n",
    "iowa_file_path = '../input/home-data-for-ml-course/train.csv'\n",
    "\n",
    "home_data = pd.read_csv(iowa_file_path)\n",
    "y = home_data.SalePrice\n",
    "feature_columns = ['LotArea', 'YearBuilt', '1stFlrSF', '2ndFlrSF', 'FullBath', 'BedroomAbvGr', 'TotRmsAbvGrd']\n",
    "X = home_data[feature_columns]\n",
    "\n",
    "# Specify Model\n",
    "iowa_model = DecisionTreeRegressor()\n",
    "# Fit Model\n",
    "iowa_model.fit(X, y)\n",
    "\n",
    "print(\"First in-sample predictions:\", iowa_model.predict(X.head()))\n",
    "print(\"Actual target values for those homes:\", y.head().tolist())\n",
    "\n",
    "# Set up code checking\n",
    "from learntools.core import binder\n",
    "binder.bind(globals())\n",
    "from learntools.machine_learning.ex4 import *\n",
    "print(\"Setup Complete\")"
   ]
  },
  {
   "cell_type": "markdown",
   "id": "4e1e239e",
   "metadata": {
    "papermill": {
     "duration": 0.004609,
     "end_time": "2022-08-11T17:30:16.754882",
     "exception": false,
     "start_time": "2022-08-11T17:30:16.750273",
     "status": "completed"
    },
    "tags": []
   },
   "source": [
    "# Exercises\n",
    "\n",
    "## Step 1: Split Your Data\n",
    "Use the `train_test_split` function to split up your data.\n",
    "\n",
    "Give it the argument `random_state=1` so the `check` functions know what to expect when verifying your code.\n",
    "\n",
    "Recall, your features are loaded in the DataFrame **X** and your target is loaded in **y**.\n"
   ]
  },
  {
   "cell_type": "code",
   "execution_count": 2,
   "id": "7509356f",
   "metadata": {
    "execution": {
     "iopub.execute_input": "2022-08-11T17:30:16.766806Z",
     "iopub.status.busy": "2022-08-11T17:30:16.766308Z",
     "iopub.status.idle": "2022-08-11T17:30:16.788329Z",
     "shell.execute_reply": "2022-08-11T17:30:16.786698Z"
    },
    "papermill": {
     "duration": 0.031846,
     "end_time": "2022-08-11T17:30:16.791495",
     "exception": false,
     "start_time": "2022-08-11T17:30:16.759649",
     "status": "completed"
    },
    "tags": []
   },
   "outputs": [
    {
     "data": {
      "application/javascript": [
       "parent.postMessage({\"jupyterEvent\": \"custom.exercise_interaction\", \"data\": {\"outcomeType\": 1, \"valueTowardsCompletion\": 0.25, \"interactionType\": 1, \"questionType\": 2, \"questionId\": \"1_SplitData\", \"learnToolsVersion\": \"0.3.4\", \"failureMessage\": \"\", \"exceptionClass\": \"\", \"trace\": \"\"}}, \"*\")"
      ],
      "text/plain": [
       "<IPython.core.display.Javascript object>"
      ]
     },
     "metadata": {},
     "output_type": "display_data"
    },
    {
     "data": {
      "text/markdown": [
       "<span style=\"color:#33cc33\">Correct</span>"
      ],
      "text/plain": [
       "Correct"
      ]
     },
     "metadata": {},
     "output_type": "display_data"
    }
   ],
   "source": [
    "# Import the train_test_split function and uncomment\n",
    "from sklearn.model_selection import train_test_split\n",
    "\n",
    "# fill in and uncomment\n",
    "train_X, val_X, train_y, val_y = train_test_split(X, y, random_state=1)\n",
    "\n",
    "# Check your answer\n",
    "step_1.check()"
   ]
  },
  {
   "cell_type": "code",
   "execution_count": 3,
   "id": "c6a24cdb",
   "metadata": {
    "execution": {
     "iopub.execute_input": "2022-08-11T17:30:16.805156Z",
     "iopub.status.busy": "2022-08-11T17:30:16.804252Z",
     "iopub.status.idle": "2022-08-11T17:30:16.810142Z",
     "shell.execute_reply": "2022-08-11T17:30:16.808727Z"
    },
    "papermill": {
     "duration": 0.016036,
     "end_time": "2022-08-11T17:30:16.813027",
     "exception": false,
     "start_time": "2022-08-11T17:30:16.796991",
     "status": "completed"
    },
    "tags": []
   },
   "outputs": [],
   "source": [
    "# The lines below will show you a hint or the solution.\n",
    "# step_1.hint() \n",
    "# step_1.solution()\n"
   ]
  },
  {
   "cell_type": "markdown",
   "id": "a212040d",
   "metadata": {
    "papermill": {
     "duration": 0.005075,
     "end_time": "2022-08-11T17:30:16.823960",
     "exception": false,
     "start_time": "2022-08-11T17:30:16.818885",
     "status": "completed"
    },
    "tags": []
   },
   "source": [
    "## Step 2: Specify and Fit the Model\n",
    "\n",
    "Create a `DecisionTreeRegressor` model and fit it to the relevant data.\n",
    "Set `random_state` to 1 again when creating the model."
   ]
  },
  {
   "cell_type": "code",
   "execution_count": 4,
   "id": "a6f387d5",
   "metadata": {
    "execution": {
     "iopub.execute_input": "2022-08-11T17:30:16.838111Z",
     "iopub.status.busy": "2022-08-11T17:30:16.837616Z",
     "iopub.status.idle": "2022-08-11T17:30:16.870949Z",
     "shell.execute_reply": "2022-08-11T17:30:16.869470Z"
    },
    "papermill": {
     "duration": 0.045078,
     "end_time": "2022-08-11T17:30:16.875197",
     "exception": false,
     "start_time": "2022-08-11T17:30:16.830119",
     "status": "completed"
    },
    "tags": []
   },
   "outputs": [
    {
     "name": "stdout",
     "output_type": "stream",
     "text": [
      "[186500. 184000. 130000.  92000. 164500. 220000. 335000. 144152. 215000.\n",
      " 262000.]\n",
      "[186500. 184000. 130000.  92000. 164500. 220000. 335000. 144152. 215000.\n",
      " 262000.]\n"
     ]
    },
    {
     "data": {
      "application/javascript": [
       "parent.postMessage({\"jupyterEvent\": \"custom.exercise_interaction\", \"data\": {\"outcomeType\": 1, \"valueTowardsCompletion\": 0.25, \"interactionType\": 1, \"questionType\": 2, \"questionId\": \"2_FitModelWithTrain\", \"learnToolsVersion\": \"0.3.4\", \"failureMessage\": \"\", \"exceptionClass\": \"\", \"trace\": \"\"}}, \"*\")"
      ],
      "text/plain": [
       "<IPython.core.display.Javascript object>"
      ]
     },
     "metadata": {},
     "output_type": "display_data"
    },
    {
     "data": {
      "text/markdown": [
       "<span style=\"color:#33cc33\">Correct</span>"
      ],
      "text/plain": [
       "Correct"
      ]
     },
     "metadata": {},
     "output_type": "display_data"
    }
   ],
   "source": [
    "# You imported DecisionTreeRegressor in your last exercise\n",
    "# and that code has been copied to the setup code above. So, no need to\n",
    "# import it again\n",
    "\n",
    "# Specify the model\n",
    "iowa_model = DecisionTreeRegressor(random_state=1)\n",
    "\n",
    "# Fit iowa_model with the training data.\n",
    "iowa_model.fit(train_X, train_y)\n",
    "\n",
    "# Check your answer\n",
    "step_2.check()"
   ]
  },
  {
   "cell_type": "code",
   "execution_count": 5,
   "id": "d177989c",
   "metadata": {
    "execution": {
     "iopub.execute_input": "2022-08-11T17:30:16.888449Z",
     "iopub.status.busy": "2022-08-11T17:30:16.887972Z",
     "iopub.status.idle": "2022-08-11T17:30:16.894185Z",
     "shell.execute_reply": "2022-08-11T17:30:16.892367Z"
    },
    "papermill": {
     "duration": 0.016082,
     "end_time": "2022-08-11T17:30:16.897001",
     "exception": false,
     "start_time": "2022-08-11T17:30:16.880919",
     "status": "completed"
    },
    "tags": []
   },
   "outputs": [],
   "source": [
    "# step_2.hint()\n",
    "# step_2.solution()"
   ]
  },
  {
   "cell_type": "markdown",
   "id": "24c4f773",
   "metadata": {
    "papermill": {
     "duration": 0.005285,
     "end_time": "2022-08-11T17:30:16.908007",
     "exception": false,
     "start_time": "2022-08-11T17:30:16.902722",
     "status": "completed"
    },
    "tags": []
   },
   "source": [
    "## Step 3: Make Predictions with Validation data\n"
   ]
  },
  {
   "cell_type": "code",
   "execution_count": 6,
   "id": "71ef8a5e",
   "metadata": {
    "execution": {
     "iopub.execute_input": "2022-08-11T17:30:16.922145Z",
     "iopub.status.busy": "2022-08-11T17:30:16.921618Z",
     "iopub.status.idle": "2022-08-11T17:30:16.938400Z",
     "shell.execute_reply": "2022-08-11T17:30:16.936788Z"
    },
    "papermill": {
     "duration": 0.028156,
     "end_time": "2022-08-11T17:30:16.941644",
     "exception": false,
     "start_time": "2022-08-11T17:30:16.913488",
     "status": "completed"
    },
    "tags": []
   },
   "outputs": [
    {
     "data": {
      "application/javascript": [
       "parent.postMessage({\"jupyterEvent\": \"custom.exercise_interaction\", \"data\": {\"outcomeType\": 1, \"valueTowardsCompletion\": 0.25, \"interactionType\": 1, \"questionType\": 2, \"questionId\": \"3_ValPreds\", \"learnToolsVersion\": \"0.3.4\", \"failureMessage\": \"\", \"exceptionClass\": \"\", \"trace\": \"\"}}, \"*\")"
      ],
      "text/plain": [
       "<IPython.core.display.Javascript object>"
      ]
     },
     "metadata": {},
     "output_type": "display_data"
    },
    {
     "data": {
      "text/markdown": [
       "<span style=\"color:#33cc33\">Correct</span>"
      ],
      "text/plain": [
       "Correct"
      ]
     },
     "metadata": {},
     "output_type": "display_data"
    }
   ],
   "source": [
    "# Predict with all validation observations\n",
    "val_predictions = iowa_model.predict(val_X)\n",
    "\n",
    "# Check your answer\n",
    "step_3.check()"
   ]
  },
  {
   "cell_type": "code",
   "execution_count": 7,
   "id": "9f2c4be8",
   "metadata": {
    "execution": {
     "iopub.execute_input": "2022-08-11T17:30:16.958539Z",
     "iopub.status.busy": "2022-08-11T17:30:16.956783Z",
     "iopub.status.idle": "2022-08-11T17:30:16.964019Z",
     "shell.execute_reply": "2022-08-11T17:30:16.962032Z"
    },
    "papermill": {
     "duration": 0.019627,
     "end_time": "2022-08-11T17:30:16.968007",
     "exception": false,
     "start_time": "2022-08-11T17:30:16.948380",
     "status": "completed"
    },
    "tags": []
   },
   "outputs": [],
   "source": [
    "# step_3.hint()\n",
    "# step_3.solution()"
   ]
  },
  {
   "cell_type": "markdown",
   "id": "814c0271",
   "metadata": {
    "papermill": {
     "duration": 0.006094,
     "end_time": "2022-08-11T17:30:16.981128",
     "exception": false,
     "start_time": "2022-08-11T17:30:16.975034",
     "status": "completed"
    },
    "tags": []
   },
   "source": [
    "Inspect your predictions and actual values from validation data."
   ]
  },
  {
   "cell_type": "code",
   "execution_count": 8,
   "id": "c7294d10",
   "metadata": {
    "execution": {
     "iopub.execute_input": "2022-08-11T17:30:16.996891Z",
     "iopub.status.busy": "2022-08-11T17:30:16.996248Z",
     "iopub.status.idle": "2022-08-11T17:30:17.004389Z",
     "shell.execute_reply": "2022-08-11T17:30:17.003172Z"
    },
    "papermill": {
     "duration": 0.0204,
     "end_time": "2022-08-11T17:30:17.007629",
     "exception": false,
     "start_time": "2022-08-11T17:30:16.987229",
     "status": "completed"
    },
    "tags": []
   },
   "outputs": [
    {
     "name": "stdout",
     "output_type": "stream",
     "text": [
      "[186500. 184000. 130000.  92000. 164500.]\n",
      "258     231500\n",
      "267     179500\n",
      "288     122000\n",
      "649      84500\n",
      "1233    142000\n",
      "Name: SalePrice, dtype: int64\n"
     ]
    }
   ],
   "source": [
    "# print the top few validation predictions\n",
    "print(val_predictions[0:5])\n",
    "# print the top few actual prices from validation data\n",
    "print(val_y[0:5])"
   ]
  },
  {
   "cell_type": "markdown",
   "id": "d999decb",
   "metadata": {
    "papermill": {
     "duration": 0.00602,
     "end_time": "2022-08-11T17:30:17.020661",
     "exception": false,
     "start_time": "2022-08-11T17:30:17.014641",
     "status": "completed"
    },
    "tags": []
   },
   "source": [
    "What do you notice that is different from what you saw with in-sample predictions (which are printed after the top code cell in this page).\n",
    "\n",
    "Do you remember why validation predictions differ from in-sample (or training) predictions? This is an important idea from the last lesson.\n",
    "\n",
    "## Step 4: Calculate the Mean Absolute Error in Validation Data\n"
   ]
  },
  {
   "cell_type": "code",
   "execution_count": 9,
   "id": "552695e7",
   "metadata": {
    "execution": {
     "iopub.execute_input": "2022-08-11T17:30:17.035581Z",
     "iopub.status.busy": "2022-08-11T17:30:17.034706Z",
     "iopub.status.idle": "2022-08-11T17:30:17.048107Z",
     "shell.execute_reply": "2022-08-11T17:30:17.046198Z"
    },
    "papermill": {
     "duration": 0.024765,
     "end_time": "2022-08-11T17:30:17.051403",
     "exception": false,
     "start_time": "2022-08-11T17:30:17.026638",
     "status": "completed"
    },
    "tags": []
   },
   "outputs": [
    {
     "name": "stdout",
     "output_type": "stream",
     "text": [
      "29652.931506849316\n"
     ]
    },
    {
     "data": {
      "application/javascript": [
       "parent.postMessage({\"jupyterEvent\": \"custom.exercise_interaction\", \"data\": {\"outcomeType\": 1, \"valueTowardsCompletion\": 0.25, \"interactionType\": 1, \"questionType\": 1, \"questionId\": \"4_MAE\", \"learnToolsVersion\": \"0.3.4\", \"failureMessage\": \"\", \"exceptionClass\": \"\", \"trace\": \"\"}}, \"*\")"
      ],
      "text/plain": [
       "<IPython.core.display.Javascript object>"
      ]
     },
     "metadata": {},
     "output_type": "display_data"
    },
    {
     "data": {
      "text/markdown": [
       "<span style=\"color:#33cc33\">Correct</span>"
      ],
      "text/plain": [
       "Correct"
      ]
     },
     "metadata": {},
     "output_type": "display_data"
    }
   ],
   "source": [
    "from sklearn.metrics import mean_absolute_error\n",
    "val_mae = mean_absolute_error(val_y, val_predictions)\n",
    "\n",
    "# uncomment following line to see the validation_mae\n",
    "print(val_mae)\n",
    "\n",
    "# Check your answer\n",
    "step_4.check()"
   ]
  },
  {
   "cell_type": "code",
   "execution_count": 10,
   "id": "0a2cc892",
   "metadata": {
    "execution": {
     "iopub.execute_input": "2022-08-11T17:30:17.067501Z",
     "iopub.status.busy": "2022-08-11T17:30:17.067021Z",
     "iopub.status.idle": "2022-08-11T17:30:17.072680Z",
     "shell.execute_reply": "2022-08-11T17:30:17.071143Z"
    },
    "papermill": {
     "duration": 0.018459,
     "end_time": "2022-08-11T17:30:17.076016",
     "exception": false,
     "start_time": "2022-08-11T17:30:17.057557",
     "status": "completed"
    },
    "tags": []
   },
   "outputs": [],
   "source": [
    "# step_4.hint()\n",
    "# step_4.solution()"
   ]
  },
  {
   "cell_type": "markdown",
   "id": "b2fd2855",
   "metadata": {
    "papermill": {
     "duration": 0.005955,
     "end_time": "2022-08-11T17:30:17.089088",
     "exception": false,
     "start_time": "2022-08-11T17:30:17.083133",
     "status": "completed"
    },
    "tags": []
   },
   "source": [
    "Is that MAE good?  There isn't a general rule for what values are good that applies across applications. But you'll see how to use (and improve) this number in the next step.\n",
    "\n",
    "# Keep Going\n",
    "\n",
    "You are ready for **[Underfitting and Overfitting](https://www.kaggle.com/dansbecker/underfitting-and-overfitting).**\n"
   ]
  },
  {
   "cell_type": "markdown",
   "id": "ff9c574d",
   "metadata": {
    "papermill": {
     "duration": 0.006819,
     "end_time": "2022-08-11T17:30:17.102063",
     "exception": false,
     "start_time": "2022-08-11T17:30:17.095244",
     "status": "completed"
    },
    "tags": []
   },
   "source": [
    "---\n",
    "\n",
    "\n",
    "\n",
    "\n",
    "*Have questions or comments? Visit the [course discussion forum](https://www.kaggle.com/learn/intro-to-machine-learning/discussion) to chat with other learners.*"
   ]
  }
 ],
 "metadata": {
  "kernelspec": {
   "display_name": "Python 3",
   "language": "python",
   "name": "python3"
  },
  "language_info": {
   "codemirror_mode": {
    "name": "ipython",
    "version": 3
   },
   "file_extension": ".py",
   "mimetype": "text/x-python",
   "name": "python",
   "nbconvert_exporter": "python",
   "pygments_lexer": "ipython3",
   "version": "3.7.12"
  },
  "papermill": {
   "default_parameters": {},
   "duration": 12.466598,
   "end_time": "2022-08-11T17:30:18.032314",
   "environment_variables": {},
   "exception": null,
   "input_path": "__notebook__.ipynb",
   "output_path": "__notebook__.ipynb",
   "parameters": {},
   "start_time": "2022-08-11T17:30:05.565716",
   "version": "2.3.4"
  }
 },
 "nbformat": 4,
 "nbformat_minor": 5
}
