{
 "cells": [
  {
   "cell_type": "markdown",
   "id": "4c79528a",
   "metadata": {
    "papermill": {
     "duration": 0.008585,
     "end_time": "2022-08-09T05:32:42.923306",
     "exception": false,
     "start_time": "2022-08-09T05:32:42.914721",
     "status": "completed"
    },
    "tags": []
   },
   "source": [
    "**This notebook is an exercise in the [Intro to Programming](https://www.kaggle.com/learn/intro-to-programming) course.  You can reference the tutorial at [this link](https://www.kaggle.com/alexisbcook/conditions-and-conditional-statements).**\n",
    "\n",
    "---\n"
   ]
  },
  {
   "cell_type": "markdown",
   "id": "90b4170d",
   "metadata": {
    "papermill": {
     "duration": 0.006789,
     "end_time": "2022-08-09T05:32:42.937493",
     "exception": false,
     "start_time": "2022-08-09T05:32:42.930704",
     "status": "completed"
    },
    "tags": []
   },
   "source": [
    "In the tutorial, you learned about conditions and conditional statements. In this exercise, you will use what you learned to answer several questions.\n",
    "\n",
    "# Set up the notebook\n",
    "\n",
    "Run the next code cell without changes to set up the notebook."
   ]
  },
  {
   "cell_type": "code",
   "execution_count": 1,
   "id": "9a261c1b",
   "metadata": {
    "execution": {
     "iopub.execute_input": "2022-08-09T05:32:42.954696Z",
     "iopub.status.busy": "2022-08-09T05:32:42.953699Z",
     "iopub.status.idle": "2022-08-09T05:32:43.016579Z",
     "shell.execute_reply": "2022-08-09T05:32:43.015108Z"
    },
    "papermill": {
     "duration": 0.075489,
     "end_time": "2022-08-09T05:32:43.020073",
     "exception": false,
     "start_time": "2022-08-09T05:32:42.944584",
     "status": "completed"
    },
    "tags": []
   },
   "outputs": [
    {
     "name": "stdout",
     "output_type": "stream",
     "text": [
      "Setup complete.\n"
     ]
    }
   ],
   "source": [
    "from learntools.core import binder\n",
    "binder.bind(globals())\n",
    "from learntools.intro_to_programming.ex4 import *\n",
    "print('Setup complete.')"
   ]
  },
  {
   "cell_type": "markdown",
   "id": "c8f5f107",
   "metadata": {
    "papermill": {
     "duration": 0.007366,
     "end_time": "2022-08-09T05:32:43.035090",
     "exception": false,
     "start_time": "2022-08-09T05:32:43.027724",
     "status": "completed"
    },
    "tags": []
   },
   "source": [
    "# Question 1\n",
    "\n",
    "You work at a college admissions office.  When inspecting a dataset of college applicants, you notice that some students have represented their grades with letters (`\"A\"`, `\"B\"`, `\"C\"`, `\"D\"`, `\"F\"`), whereas others have represented their grades with a number between 0 and 100.\n",
    "\n",
    "You realize that for consistency, all of the grades should be formatted in the same way, and you decide to format them all as letters.  For the conversion, you decide to assign:\n",
    "- `\"A\"` - any grade 90-100, inclusive\n",
    "- `\"B\"` - any grade 80-89, inclusive\n",
    "- `\"C\"` - any grade 70-79, inclusive\n",
    "- `\"D\"` - any grade 60-69, inclusive\n",
    "- `\"F\"` - any grade <60\n",
    "\n",
    "Write a function `get_grade()` that takes as input:\n",
    "- `score` - an integer 0-100 corresponding to a numerical grade\n",
    "\n",
    "It should return a Python string with the letter grade that it corresponds to.  For instance,\n",
    "- A score of 85 corresponds to a B grade.  In other words, `get_grade(85)` should return `\"B\"`.\n",
    "- A score of 49 corresponds to an F grade.  In other words, `get_grade(49)` should return `\"F\"`.\n",
    "\n",
    "Make sure that when supplying the grade that is returned by the function, it is enclosed in quotes.  (For instance, if you want to return `\"A\"`, you should write `return \"A\"` and not `return A`.)"
   ]
  },
  {
   "cell_type": "code",
   "execution_count": 2,
   "id": "3f11ae31",
   "metadata": {
    "execution": {
     "iopub.execute_input": "2022-08-09T05:32:43.051755Z",
     "iopub.status.busy": "2022-08-09T05:32:43.051262Z",
     "iopub.status.idle": "2022-08-09T05:32:43.064482Z",
     "shell.execute_reply": "2022-08-09T05:32:43.063491Z"
    },
    "papermill": {
     "duration": 0.024365,
     "end_time": "2022-08-09T05:32:43.066680",
     "exception": false,
     "start_time": "2022-08-09T05:32:43.042315",
     "status": "completed"
    },
    "tags": []
   },
   "outputs": [
    {
     "data": {
      "application/javascript": [
       "parent.postMessage({\"jupyterEvent\": \"custom.exercise_interaction\", \"data\": {\"outcomeType\": 1, \"valueTowardsCompletion\": 0.2, \"interactionType\": 1, \"questionType\": 2, \"questionId\": \"1_GetGrade\", \"learnToolsVersion\": \"0.3.4\", \"failureMessage\": \"\", \"exceptionClass\": \"\", \"trace\": \"\"}}, \"*\")"
      ],
      "text/plain": [
       "<IPython.core.display.Javascript object>"
      ]
     },
     "metadata": {},
     "output_type": "display_data"
    },
    {
     "data": {
      "text/markdown": [
       "<span style=\"color:#33cc33\">Correct</span>"
      ],
      "text/plain": [
       "Correct"
      ]
     },
     "metadata": {},
     "output_type": "display_data"
    }
   ],
   "source": [
    "# TODO: Edit the function to return the correct grade for different scores\n",
    "def get_grade(score):\n",
    "    if score>=90:\n",
    "        grade = \"A\"\n",
    "    elif score>=80:\n",
    "        grade = \"B\"\n",
    "    elif score>=70:\n",
    "        grade = \"C\"\n",
    "    elif score>=60:\n",
    "        grade = \"D\"\n",
    "    else: grade = \"F\"\n",
    "    return grade\n",
    "    \n",
    "# Check your answer\n",
    "q1.check()"
   ]
  },
  {
   "cell_type": "code",
   "execution_count": 3,
   "id": "a1bedfb6",
   "metadata": {
    "execution": {
     "iopub.execute_input": "2022-08-09T05:32:43.084307Z",
     "iopub.status.busy": "2022-08-09T05:32:43.083492Z",
     "iopub.status.idle": "2022-08-09T05:32:43.087818Z",
     "shell.execute_reply": "2022-08-09T05:32:43.086959Z"
    },
    "papermill": {
     "duration": 0.015755,
     "end_time": "2022-08-09T05:32:43.089971",
     "exception": false,
     "start_time": "2022-08-09T05:32:43.074216",
     "status": "completed"
    },
    "tags": []
   },
   "outputs": [],
   "source": [
    "# Uncomment to see a hint\n",
    "#q1.hint()\n",
    "\n",
    "# Uncomment to see the solution\n",
    "#q1.solution()"
   ]
  },
  {
   "cell_type": "markdown",
   "id": "53b2d28b",
   "metadata": {
    "papermill": {
     "duration": 0.007043,
     "end_time": "2022-08-09T05:32:43.104585",
     "exception": false,
     "start_time": "2022-08-09T05:32:43.097542",
     "status": "completed"
    },
    "tags": []
   },
   "source": [
    "# Question 2\n",
    "\n",
    "In the exercise for the previous lesson, you wrote a function `cost_of_project()` that estimated the price of rings for an online shop that sells rings with custom engravings.  This function did not use conditional statements.  In this exercise, you will rewrite the function to use conditional statements.  Recall that the online shop has the following price structure:\n",
    "- Gold plated rings have a base cost of \\\\$50, and you charge \\\\$7 per engraved unit.  \n",
    "- Solid gold rings have a base cost of \\\\$100, and you charge \\\\$10 per engraved unit.\n",
    "- Spaces and punctuation are counted as engraved units.\n",
    "\n",
    "Your function `cost_of_project()` takes two arguments:\n",
    "- `engraving` - a Python string with the text of the engraving\n",
    "- `solid_gold` - a Boolean that indicates whether the ring is solid gold\n",
    "\n",
    "It should return the cost of the project.  \n",
    "\n",
    "The function has been partially completed for you, and you need to fill in the blanks to complete the function."
   ]
  },
  {
   "cell_type": "code",
   "execution_count": 4,
   "id": "9bcdb7bf",
   "metadata": {
    "execution": {
     "iopub.execute_input": "2022-08-09T05:32:43.122032Z",
     "iopub.status.busy": "2022-08-09T05:32:43.121300Z",
     "iopub.status.idle": "2022-08-09T05:32:43.129839Z",
     "shell.execute_reply": "2022-08-09T05:32:43.128987Z"
    },
    "papermill": {
     "duration": 0.020535,
     "end_time": "2022-08-09T05:32:43.132378",
     "exception": false,
     "start_time": "2022-08-09T05:32:43.111843",
     "status": "completed"
    },
    "tags": []
   },
   "outputs": [
    {
     "data": {
      "application/javascript": [
       "parent.postMessage({\"jupyterEvent\": \"custom.exercise_interaction\", \"data\": {\"outcomeType\": 1, \"valueTowardsCompletion\": 0.2, \"interactionType\": 1, \"questionType\": 2, \"questionId\": \"2_CostProjectPartDeux\", \"learnToolsVersion\": \"0.3.4\", \"failureMessage\": \"\", \"exceptionClass\": \"\", \"trace\": \"\"}}, \"*\")"
      ],
      "text/plain": [
       "<IPython.core.display.Javascript object>"
      ]
     },
     "metadata": {},
     "output_type": "display_data"
    },
    {
     "data": {
      "text/markdown": [
       "<span style=\"color:#33cc33\">Correct</span>"
      ],
      "text/plain": [
       "Correct"
      ]
     },
     "metadata": {},
     "output_type": "display_data"
    }
   ],
   "source": [
    "def cost_of_project(engraving, solid_gold):\n",
    "    if solid_gold == True:\n",
    "        cost = 100+10*len(engraving)\n",
    "    else:\n",
    "        cost = 50+7*len(engraving)\n",
    "    return cost\n",
    "\n",
    "# Check your answer\n",
    "q2.check()"
   ]
  },
  {
   "cell_type": "code",
   "execution_count": 5,
   "id": "b14caf6d",
   "metadata": {
    "execution": {
     "iopub.execute_input": "2022-08-09T05:32:43.150367Z",
     "iopub.status.busy": "2022-08-09T05:32:43.149779Z",
     "iopub.status.idle": "2022-08-09T05:32:43.154772Z",
     "shell.execute_reply": "2022-08-09T05:32:43.153702Z"
    },
    "papermill": {
     "duration": 0.017024,
     "end_time": "2022-08-09T05:32:43.157305",
     "exception": false,
     "start_time": "2022-08-09T05:32:43.140281",
     "status": "completed"
    },
    "tags": []
   },
   "outputs": [],
   "source": [
    "# Uncomment to see a hint\n",
    "#q2.hint()\n",
    "\n",
    "# Uncomment to see the solution\n",
    "#q2.solution()"
   ]
  },
  {
   "cell_type": "markdown",
   "id": "ea696de2",
   "metadata": {
    "papermill": {
     "duration": 0.007574,
     "end_time": "2022-08-09T05:32:43.172970",
     "exception": false,
     "start_time": "2022-08-09T05:32:43.165396",
     "status": "completed"
    },
    "tags": []
   },
   "source": [
    "# Question 3\n",
    "\n",
    "You are a programmer at a water agency.  Recently, you have been tasked to write a function `get_water_bill()` that takes as input:\n",
    "- `num_gallons` = the number of gallons of water that a customer used that month.  (This will always be an integer with no decimal part.)\n",
    "\n",
    "It should output the water bill.  \n",
    "\n",
    "The water agency uses this pricing structure:\n",
    "<table style=\"width: 100%;\">\n",
    "<tbody>\n",
    "<tr><th><b>Tier</b></th><th><b>Amount in gallons</b></th><th><b>Price per 1000 gallons</b></th></tr>\n",
    "<tr>\n",
    "<td>Tier 1</td>\n",
    "<td>0 - 8,000</td>\n",
    "<td>\\$5</td>\n",
    "</tr>\n",
    "<tr>\n",
    "<td>Tier 2</td>\n",
    "<td>8,001 - 22,000</td>\n",
    "<td>\\$6</td>\n",
    "</tr>\n",
    "<tr>\n",
    "<td>Tier 3</td>\n",
    "<td>22,001 - 30,000</td>\n",
    "<td>\\$7</td>\n",
    "</tr>\n",
    "<tr>\n",
    "<td>Tier 4</td>\n",
    "<td>30,001+</td>\n",
    "<td>\\$10</td>\n",
    "</tr>\n",
    "</tbody>\n",
    "</table>\n",
    "\n",
    "For example: \n",
    "- Someone who uses 10,000 gallons of water in a month is placed in Tier 2, and needs to pay a water bill of \\\\$6 * 10 = \\\\$60.  In other words, `get_water_bill(10000)` should return `60.0`.\n",
    "- Someone who uses 25,000 gallons of water in a month is placed in Tier 3, and needs to pay a water bill of \\\\$7 * 25 = \\\\$175.  In other words, `get_water_bill(25000)` should return `175.0`.\n",
    "\n",
    "**Do not round your answer.**  So, your answer might return fractions of a penny."
   ]
  },
  {
   "cell_type": "code",
   "execution_count": 6,
   "id": "7bdf5454",
   "metadata": {
    "execution": {
     "iopub.execute_input": "2022-08-09T05:32:43.199480Z",
     "iopub.status.busy": "2022-08-09T05:32:43.198484Z",
     "iopub.status.idle": "2022-08-09T05:32:43.211230Z",
     "shell.execute_reply": "2022-08-09T05:32:43.209965Z"
    },
    "papermill": {
     "duration": 0.030154,
     "end_time": "2022-08-09T05:32:43.213868",
     "exception": false,
     "start_time": "2022-08-09T05:32:43.183714",
     "status": "completed"
    },
    "tags": []
   },
   "outputs": [
    {
     "data": {
      "application/javascript": [
       "parent.postMessage({\"jupyterEvent\": \"custom.exercise_interaction\", \"data\": {\"outcomeType\": 1, \"valueTowardsCompletion\": 0.2, \"interactionType\": 1, \"questionType\": 2, \"questionId\": \"3_GetWaterBill\", \"learnToolsVersion\": \"0.3.4\", \"failureMessage\": \"\", \"exceptionClass\": \"\", \"trace\": \"\"}}, \"*\")"
      ],
      "text/plain": [
       "<IPython.core.display.Javascript object>"
      ]
     },
     "metadata": {},
     "output_type": "display_data"
    },
    {
     "data": {
      "text/markdown": [
       "<span style=\"color:#33cc33\">Correct</span>"
      ],
      "text/plain": [
       "Correct"
      ]
     },
     "metadata": {},
     "output_type": "display_data"
    }
   ],
   "source": [
    "# TODO: Edit the function to return the correct bill for different\n",
    "# values of num_gallons\n",
    "def get_water_bill(num_gallons):\n",
    "    if num_gallons<=8000: bill=(num_gallons/1000)*5\n",
    "    elif num_gallons<=22000: bill=(num_gallons/1000)*6\n",
    "    elif num_gallons<=30000: bill=(num_gallons/1000)*7\n",
    "    else: bill=(num_gallons/1000)*10\n",
    "    return bill\n",
    "\n",
    "# Check your answer\n",
    "q3.check()"
   ]
  },
  {
   "cell_type": "code",
   "execution_count": 7,
   "id": "238406c5",
   "metadata": {
    "execution": {
     "iopub.execute_input": "2022-08-09T05:32:43.233693Z",
     "iopub.status.busy": "2022-08-09T05:32:43.232756Z",
     "iopub.status.idle": "2022-08-09T05:32:43.237935Z",
     "shell.execute_reply": "2022-08-09T05:32:43.236990Z"
    },
    "papermill": {
     "duration": 0.018391,
     "end_time": "2022-08-09T05:32:43.240529",
     "exception": false,
     "start_time": "2022-08-09T05:32:43.222138",
     "status": "completed"
    },
    "tags": []
   },
   "outputs": [],
   "source": [
    "# Uncomment to see a hint\n",
    "#q3.hint()\n",
    "\n",
    "# Uncomment to see the solution\n",
    "#q3.solution()"
   ]
  },
  {
   "cell_type": "markdown",
   "id": "0e369f04",
   "metadata": {
    "papermill": {
     "duration": 0.007869,
     "end_time": "2022-08-09T05:32:43.256497",
     "exception": false,
     "start_time": "2022-08-09T05:32:43.248628",
     "status": "completed"
    },
    "tags": []
   },
   "source": [
    "# Question 4\n",
    "\n",
    "You work for a company that provides data services.  For \\\\$100/month, your company provides 15 gigabytes (GB) of data.  Then, any additional data is billed at \\\\$0.10/MB (or \\\\$100/GB, since 1,000 MB are in 1 GB).\n",
    "\n",
    "Use the next code cell to write a function `get_phone_bill()` that takes as input:\n",
    "- `gb` = number of GB that the customer used in a month\n",
    "\n",
    "It should return the customer's total phone bill.\n",
    "\n",
    "For instance:\n",
    "- A customer who uses 10 GB of data in one month is billed only \\\\$100, since the usage stayed under 15 GB.  In other words, `get_phone_bill(10)` should return `100`.\n",
    "- A customer who uses 15.1 GB (or 15 GB + 100 MB) of data in one month has gone over by .1 GB, so they must pay \\\\$100 (cost of plan), plus \\\\$0.10 * 100 = \\\\$10, for a total bill of \\\\$110.  In other words, `get_phone_bill(15.1)` should return `110`.\n",
    "\n",
    "Do not round your answer."
   ]
  },
  {
   "cell_type": "code",
   "execution_count": 8,
   "id": "76fc3722",
   "metadata": {
    "execution": {
     "iopub.execute_input": "2022-08-09T05:32:43.277029Z",
     "iopub.status.busy": "2022-08-09T05:32:43.275678Z",
     "iopub.status.idle": "2022-08-09T05:32:43.287786Z",
     "shell.execute_reply": "2022-08-09T05:32:43.286701Z"
    },
    "papermill": {
     "duration": 0.024729,
     "end_time": "2022-08-09T05:32:43.290352",
     "exception": false,
     "start_time": "2022-08-09T05:32:43.265623",
     "status": "completed"
    },
    "tags": []
   },
   "outputs": [
    {
     "data": {
      "application/javascript": [
       "parent.postMessage({\"jupyterEvent\": \"custom.exercise_interaction\", \"data\": {\"outcomeType\": 1, \"valueTowardsCompletion\": 0.2, \"interactionType\": 1, \"questionType\": 2, \"questionId\": \"4_GetPhoneBill\", \"learnToolsVersion\": \"0.3.4\", \"failureMessage\": \"\", \"exceptionClass\": \"\", \"trace\": \"\"}}, \"*\")"
      ],
      "text/plain": [
       "<IPython.core.display.Javascript object>"
      ]
     },
     "metadata": {},
     "output_type": "display_data"
    },
    {
     "data": {
      "text/markdown": [
       "<span style=\"color:#33cc33\">Correct</span>"
      ],
      "text/plain": [
       "Correct"
      ]
     },
     "metadata": {},
     "output_type": "display_data"
    }
   ],
   "source": [
    "# TODO: Edit the function to return the correct bill for different\n",
    "# values of GB\n",
    "def get_phone_bill(gb):\n",
    "    if gb<=15: bill=100\n",
    "    else: bill=(gb-15)*100+100\n",
    "    return bill\n",
    "\n",
    "# Check your answer\n",
    "q4.check()"
   ]
  },
  {
   "cell_type": "code",
   "execution_count": 9,
   "id": "0a2034ea",
   "metadata": {
    "execution": {
     "iopub.execute_input": "2022-08-09T05:32:43.309951Z",
     "iopub.status.busy": "2022-08-09T05:32:43.308661Z",
     "iopub.status.idle": "2022-08-09T05:32:43.314240Z",
     "shell.execute_reply": "2022-08-09T05:32:43.313345Z"
    },
    "papermill": {
     "duration": 0.017975,
     "end_time": "2022-08-09T05:32:43.316569",
     "exception": false,
     "start_time": "2022-08-09T05:32:43.298594",
     "status": "completed"
    },
    "tags": []
   },
   "outputs": [],
   "source": [
    "# Uncomment to see a hint\n",
    "#q4.hint()\n",
    "\n",
    "# Uncomment to see the solution\n",
    "#q4.solution()"
   ]
  },
  {
   "cell_type": "markdown",
   "id": "24739819",
   "metadata": {
    "papermill": {
     "duration": 0.007788,
     "end_time": "2022-08-09T05:32:43.332923",
     "exception": false,
     "start_time": "2022-08-09T05:32:43.325135",
     "status": "completed"
    },
    "tags": []
   },
   "source": [
    "# 🌶️ Question 5\n",
    "\n",
    "In Mexico, foods and beverages that are high in saturated fat, trans fat, sugar, sodium, and/or calories appear with warning labels that are designed to help consumers make healthy food choices.\n",
    "\n",
    "For instance, the [box of cookies](https://world.openfoodfacts.org/product/7501000673209/florentinas-gamesa) in the image below appears with two labels (in the upper right corner):\n",
    "- EXCESO CALORÍAS (in English, EXCESS CALORIES)\n",
    "- EXCESO AZÚCARES (in English, EXCESS SUGAR)\n",
    "\n",
    "<center><img src=\"https://i.imgur.com/VXYKHnM.png\" alt=\"drawing\" width=\"500\"/></center>\n",
    "\n",
    "In this question, you'll work with a function `get_labels()` that takes the nutritional details about a food item and prints the needed warning labels.  This function takes several inputs:\n",
    "- `food_type` = one of `\"solid\"` or `\"liquid\"`\n",
    "- `serving_size` = size of one serving (if solid, in grams; if liquid, in milliliters)\n",
    "- `calories_per_serving` = calories in one serving\n",
    "- `saturated_fat_g` = grams of saturated fat in one serving\n",
    "- `trans_fat_g` = grams of trans fat in one serving\n",
    "- `sodium_mg` = mg of sodium in one serving\n",
    "- `sugars_g` = grams of sugar in one serving\n",
    "\n",
    "Note that some of the code here should feel unfamiliar to you, since we have not shared the details of how some of the functions like `excess_sugar()` or `excess_saturated_fat()` work.  But at a high level, these are functions that return a value of `True` if the food is deemed to have an excess of sugar or saturated fat, respectively.  These functions are used within the `get_labels()` function, and whenever there is an excess (of sugar or saturated fat, but also of trans fat, sodium, or calories), it prints the corresponding label."
   ]
  },
  {
   "cell_type": "code",
   "execution_count": 10,
   "id": "54a35965",
   "metadata": {
    "execution": {
     "iopub.execute_input": "2022-08-09T05:32:43.351998Z",
     "iopub.status.busy": "2022-08-09T05:32:43.351100Z",
     "iopub.status.idle": "2022-08-09T05:32:43.360786Z",
     "shell.execute_reply": "2022-08-09T05:32:43.359830Z"
    },
    "papermill": {
     "duration": 0.022544,
     "end_time": "2022-08-09T05:32:43.363629",
     "exception": false,
     "start_time": "2022-08-09T05:32:43.341085",
     "status": "completed"
    },
    "tags": []
   },
   "outputs": [],
   "source": [
    "# import functions needed to make get_labels work\n",
    "from learntools.intro_to_programming.ex4q5 import excess_sugar, excess_saturated_fat, excess_trans_fat, excess_sodium, excess_calories\n",
    "\n",
    "def get_labels(food_type, serving_size, calories_per_serving, saturated_fat_g, trans_fat_g, sodium_mg, sugars_g):\n",
    "    # Print messages based on findings\n",
    "    if excess_sugar(sugars_g, calories_per_serving) == True:\n",
    "        print(\"EXCESO AZÚCARES / EXCESS SUGAR\")\n",
    "    if excess_saturated_fat(saturated_fat_g, calories_per_serving) == True:\n",
    "        print(\"EXCESO GRASAS SATURADAS / EXCESS SATURATED FAT\")\n",
    "    if excess_trans_fat(trans_fat_g, calories_per_serving) == True:\n",
    "        print(\"EXCESO GRASAS TRANS / EXCESS TRANS FAT\")\n",
    "    if excess_sodium(calories_per_serving, sodium_mg) == True:\n",
    "        print(\"EXCESO SODIO / EXCESS SODIUM\")\n",
    "    if excess_calories(food_type, calories_per_serving, serving_size) == True:\n",
    "        print(\"EXCESO CALORÍAS / EXCESS CALORIES\")"
   ]
  },
  {
   "cell_type": "markdown",
   "id": "6fd67a13",
   "metadata": {
    "papermill": {
     "duration": 0.007989,
     "end_time": "2022-08-09T05:32:43.380107",
     "exception": false,
     "start_time": "2022-08-09T05:32:43.372118",
     "status": "completed"
    },
    "tags": []
   },
   "source": [
    "The next code cell demonstrates how to use `get_labels()` to get the warning labels that the food item should contain.  We begin with [bologna](https://world.openfoodfacts.org/product/4099100179378/bologna).  Here is [an image](https://imgur.com/Cfcx72e) with all of the nutritional information.  Note that for this food,\n",
    "- `food_type = \"solid\"` (because bologna is a solid and not a liquid)\n",
    "- `serving_size = 32` (the serving size is 32 grams)\n",
    "- `calories_per_serving = 110` (there are 110 calories per serving)\n",
    "- `saturated_fat_g = 2.5` (there are 2.5 grams of saturated fat per serving)\n",
    "- `trans_fat_g = 0` (there are 0 grams of trans fat per serving)\n",
    "- `sodium_mg = 400` (there are 400 mg of sodium per serving)\n",
    "- `sugars_g = 1` (the nutrition facts say <1g, but we will round it up to 1 gram per serving to be safe)\n",
    "\n",
    "By supplying all of these values to the function, we can print the warning labels."
   ]
  },
  {
   "cell_type": "code",
   "execution_count": 11,
   "id": "3e9987ca",
   "metadata": {
    "execution": {
     "iopub.execute_input": "2022-08-09T05:32:43.398795Z",
     "iopub.status.busy": "2022-08-09T05:32:43.398288Z",
     "iopub.status.idle": "2022-08-09T05:32:43.404386Z",
     "shell.execute_reply": "2022-08-09T05:32:43.403371Z"
    },
    "papermill": {
     "duration": 0.019611,
     "end_time": "2022-08-09T05:32:43.408093",
     "exception": false,
     "start_time": "2022-08-09T05:32:43.388482",
     "status": "completed"
    },
    "tags": []
   },
   "outputs": [
    {
     "name": "stdout",
     "output_type": "stream",
     "text": [
      "EXCESO GRASAS SATURADAS / EXCESS SATURATED FAT\n",
      "EXCESO SODIO / EXCESS SODIUM\n",
      "EXCESO CALORÍAS / EXCESS CALORIES\n"
     ]
    }
   ],
   "source": [
    "# bologna https://world.openfoodfacts.org/product/4099100179378/bologna\n",
    "get_labels(\"solid\", 32, 110, 2.5, 0, 400, 1)"
   ]
  },
  {
   "cell_type": "markdown",
   "id": "758b5f23",
   "metadata": {
    "papermill": {
     "duration": 0.008045,
     "end_time": "2022-08-09T05:32:43.424614",
     "exception": false,
     "start_time": "2022-08-09T05:32:43.416569",
     "status": "completed"
    },
    "tags": []
   },
   "source": [
    "This bologna has three labels, printed in the output above.\n",
    "\n",
    "For the rest of this question, you will use the same `get_labels()` function to determine the labels for more foods.  This question is designed to help you get practice with feeling comfortable with code that other people have written, and where you don't have time to review every single line of code before interacting with it.  For instance, when you take the [Intro to Machine Learning course](http://www.kaggle.com/learn/intro-to-machine-learning), you'll work with a Python package called \"scikit-learn\", which is a large collection of code that you'll learn how to run without reviewing all of the code in detail (as it would take too long, and you can trust that it was implemented correctly).\n",
    "\n",
    "In general, as you continue coding in Python, you will often be running code that other people have written.  This is common practice for advanced programmers.\n",
    "\n",
    "In the next code cell, fill in the values for [this cereal](https://world.openfoodfacts.org/product/7501008023624/zucaritas-kellogg-s).  Here is [an image](https://imgur.com/a/MUxzHVU) with all of the nutritional information.\n",
    "\n",
    "**Note**: running the line of code below as-is will return an error.  You have to fill in the nutritional values first."
   ]
  },
  {
   "cell_type": "code",
   "execution_count": 12,
   "id": "b551adf5",
   "metadata": {
    "execution": {
     "iopub.execute_input": "2022-08-09T05:32:43.444033Z",
     "iopub.status.busy": "2022-08-09T05:32:43.443107Z",
     "iopub.status.idle": "2022-08-09T05:32:43.448844Z",
     "shell.execute_reply": "2022-08-09T05:32:43.447975Z"
    },
    "papermill": {
     "duration": 0.01856,
     "end_time": "2022-08-09T05:32:43.451450",
     "exception": false,
     "start_time": "2022-08-09T05:32:43.432890",
     "status": "completed"
    },
    "tags": []
   },
   "outputs": [
    {
     "name": "stdout",
     "output_type": "stream",
     "text": [
      "EXCESO AZÚCARES / EXCESS SUGAR\n",
      "EXCESO SODIO / EXCESS SODIUM\n",
      "EXCESO CALORÍAS / EXCESS CALORIES\n"
     ]
    }
   ],
   "source": [
    "# zucaritas cereal https://world.openfoodfacts.org/product/7501008023624/zucaritas-kellogg-s\n",
    "# TODO: Uncomment the line below, fill in the values, and run the function\n",
    "get_labels(\"solid\", 18, 150, 0, 0, 150, 16)"
   ]
  },
  {
   "cell_type": "markdown",
   "id": "3cb792c0",
   "metadata": {
    "papermill": {
     "duration": 0.008193,
     "end_time": "2022-08-09T05:32:43.468375",
     "exception": false,
     "start_time": "2022-08-09T05:32:43.460182",
     "status": "completed"
    },
    "tags": []
   },
   "source": [
    "Next, try [these mozzarella sticks](https://world-es.openfoodfacts.org/producto/0062325540104/mozzarella-cheese-sticks).  Here is [an image](https://imgur.com/rcdB7VH) with all of the nutritional information."
   ]
  },
  {
   "cell_type": "code",
   "execution_count": 13,
   "id": "301e7f89",
   "metadata": {
    "execution": {
     "iopub.execute_input": "2022-08-09T05:32:43.487990Z",
     "iopub.status.busy": "2022-08-09T05:32:43.487218Z",
     "iopub.status.idle": "2022-08-09T05:32:43.492604Z",
     "shell.execute_reply": "2022-08-09T05:32:43.491716Z"
    },
    "papermill": {
     "duration": 0.018451,
     "end_time": "2022-08-09T05:32:43.495340",
     "exception": false,
     "start_time": "2022-08-09T05:32:43.476889",
     "status": "completed"
    },
    "tags": []
   },
   "outputs": [
    {
     "name": "stdout",
     "output_type": "stream",
     "text": [
      "EXCESO GRASAS SATURADAS / EXCESS SATURATED FAT\n",
      "EXCESO GRASAS TRANS / EXCESS TRANS FAT\n",
      "EXCESO SODIO / EXCESS SODIUM\n",
      "EXCESO CALORÍAS / EXCESS CALORIES\n"
     ]
    }
   ],
   "source": [
    "# mozzarella sticks https://world-es.openfoodfacts.org/producto/0062325540104/mozzarella-cheese-sticks\n",
    "# TODO: Uncomment the line below, fill in the values, and run the function\n",
    "get_labels(\"solid\", 21, 68, 3, 0.2, 208, 0)"
   ]
  },
  {
   "cell_type": "markdown",
   "id": "3766a9d0",
   "metadata": {
    "papermill": {
     "duration": 0.008326,
     "end_time": "2022-08-09T05:32:43.512360",
     "exception": false,
     "start_time": "2022-08-09T05:32:43.504034",
     "status": "completed"
    },
    "tags": []
   },
   "source": [
    "Feel free to skip to the end of the notebook now and run `q5.check()` to complete the exercise.  If you want to try more foods, \n",
    "- try [these cookies](https://world.openfoodfacts.org/product/0069700118545/biscuits-au-sucre-pretraches).  Here is [an image](https://imgur.com/2Bc271o) with all of the nutritional information.\n",
    "- try [this soda](https://world-es.openfoodfacts.org/producto/0078000113464/orange-soda-sunkist).  Here is [an image](https://imgur.com/RsBYa8E) with all of the nutritional information.\n",
    "\n",
    "Use the two code cells below for this."
   ]
  },
  {
   "cell_type": "code",
   "execution_count": 14,
   "id": "bb278df8",
   "metadata": {
    "execution": {
     "iopub.execute_input": "2022-08-09T05:32:43.532854Z",
     "iopub.status.busy": "2022-08-09T05:32:43.531680Z",
     "iopub.status.idle": "2022-08-09T05:32:43.539807Z",
     "shell.execute_reply": "2022-08-09T05:32:43.537933Z"
    },
    "papermill": {
     "duration": 0.020842,
     "end_time": "2022-08-09T05:32:43.542353",
     "exception": false,
     "start_time": "2022-08-09T05:32:43.521511",
     "status": "completed"
    },
    "tags": []
   },
   "outputs": [
    {
     "name": "stdout",
     "output_type": "stream",
     "text": [
      "EXCESO AZÚCARES / EXCESS SUGAR\n",
      "EXCESO GRASAS SATURADAS / EXCESS SATURATED FAT\n",
      "EXCESO CALORÍAS / EXCESS CALORIES\n"
     ]
    }
   ],
   "source": [
    "# pillsbury cookies https://world.openfoodfacts.org/product/0069700118545/biscuits-au-sucre-pretraches\n",
    "# TODO: Uncomment the line below, fill in the values, and run the function\n",
    "get_labels(\"solid\", 30, 120, 1.5, 0.1, 110, 9)"
   ]
  },
  {
   "cell_type": "code",
   "execution_count": 15,
   "id": "0658016c",
   "metadata": {
    "execution": {
     "iopub.execute_input": "2022-08-09T05:32:43.561856Z",
     "iopub.status.busy": "2022-08-09T05:32:43.561345Z",
     "iopub.status.idle": "2022-08-09T05:32:43.567428Z",
     "shell.execute_reply": "2022-08-09T05:32:43.566371Z"
    },
    "papermill": {
     "duration": 0.020016,
     "end_time": "2022-08-09T05:32:43.571104",
     "exception": false,
     "start_time": "2022-08-09T05:32:43.551088",
     "status": "completed"
    },
    "tags": []
   },
   "outputs": [
    {
     "name": "stdout",
     "output_type": "stream",
     "text": [
      "EXCESO AZÚCARES / EXCESS SUGAR\n"
     ]
    }
   ],
   "source": [
    "# sunkist orange soda https://world-es.openfoodfacts.org/producto/0078000113464/orange-soda-sunkist\n",
    "# TODO: Uncomment the line below, fill in the values, and run the function\n",
    "get_labels(\"liquid\", 355, 160, 0, 0, 65, 44)"
   ]
  },
  {
   "cell_type": "markdown",
   "id": "516948fe",
   "metadata": {
    "papermill": {
     "duration": 0.008349,
     "end_time": "2022-08-09T05:32:43.588504",
     "exception": false,
     "start_time": "2022-08-09T05:32:43.580155",
     "status": "completed"
    },
    "tags": []
   },
   "source": [
    "Once you have finished investigating the food items in this question, run the final code cell to get credit for completing this problem."
   ]
  },
  {
   "cell_type": "code",
   "execution_count": 16,
   "id": "80f095c4",
   "metadata": {
    "execution": {
     "iopub.execute_input": "2022-08-09T05:32:43.608781Z",
     "iopub.status.busy": "2022-08-09T05:32:43.607707Z",
     "iopub.status.idle": "2022-08-09T05:32:43.616802Z",
     "shell.execute_reply": "2022-08-09T05:32:43.615821Z"
    },
    "papermill": {
     "duration": 0.021659,
     "end_time": "2022-08-09T05:32:43.619061",
     "exception": false,
     "start_time": "2022-08-09T05:32:43.597402",
     "status": "completed"
    },
    "tags": []
   },
   "outputs": [
    {
     "data": {
      "application/javascript": [
       "parent.postMessage({\"jupyterEvent\": \"custom.exercise_interaction\", \"data\": {\"outcomeType\": 1, \"valueTowardsCompletion\": 0.2, \"interactionType\": 1, \"questionType\": 2, \"questionId\": \"5_GetLabels\", \"learnToolsVersion\": \"0.3.4\", \"failureMessage\": \"\", \"exceptionClass\": \"\", \"trace\": \"\"}}, \"*\")"
      ],
      "text/plain": [
       "<IPython.core.display.Javascript object>"
      ]
     },
     "metadata": {},
     "output_type": "display_data"
    },
    {
     "data": {
      "text/markdown": [
       "<span style=\"color:#33cc33\">Once you have determined the labels for all of the food items, you're ready to move on to the next lesson!</span>"
      ],
      "text/plain": [
       "Once you have determined the labels for all of the food items, you're ready to move on to the next lesson!"
      ]
     },
     "metadata": {},
     "output_type": "display_data"
    }
   ],
   "source": [
    "# Get credit for completing the problem\n",
    "q5.check()"
   ]
  },
  {
   "cell_type": "markdown",
   "id": "54354df1",
   "metadata": {
    "papermill": {
     "duration": 0.009732,
     "end_time": "2022-08-09T05:32:43.637989",
     "exception": false,
     "start_time": "2022-08-09T05:32:43.628257",
     "status": "completed"
    },
    "tags": []
   },
   "source": [
    "# Keep going\n",
    "\n",
    "Continue to the next lesson to **[learn about Python lists](https://www.kaggle.com/alexisbcook/intro-to-lists)**."
   ]
  },
  {
   "cell_type": "markdown",
   "id": "f7346c75",
   "metadata": {
    "papermill": {
     "duration": 0.009509,
     "end_time": "2022-08-09T05:32:43.657449",
     "exception": false,
     "start_time": "2022-08-09T05:32:43.647940",
     "status": "completed"
    },
    "tags": []
   },
   "source": [
    "---\n",
    "\n",
    "\n",
    "\n",
    "\n",
    "*Have questions or comments? Visit the [course discussion forum](https://www.kaggle.com/learn/intro-to-programming/discussion) to chat with other learners.*"
   ]
  }
 ],
 "metadata": {
  "kernelspec": {
   "display_name": "Python 3",
   "language": "python",
   "name": "python3"
  },
  "language_info": {
   "codemirror_mode": {
    "name": "ipython",
    "version": 3
   },
   "file_extension": ".py",
   "mimetype": "text/x-python",
   "name": "python",
   "nbconvert_exporter": "python",
   "pygments_lexer": "ipython3",
   "version": "3.7.12"
  },
  "papermill": {
   "default_parameters": {},
   "duration": 12.528117,
   "end_time": "2022-08-09T05:32:44.694332",
   "environment_variables": {},
   "exception": null,
   "input_path": "__notebook__.ipynb",
   "output_path": "__notebook__.ipynb",
   "parameters": {},
   "start_time": "2022-08-09T05:32:32.166215",
   "version": "2.3.4"
  }
 },
 "nbformat": 4,
 "nbformat_minor": 5
}
