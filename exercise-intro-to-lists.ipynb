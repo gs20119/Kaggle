{
 "cells": [
  {
   "cell_type": "markdown",
   "id": "be626920",
   "metadata": {
    "papermill": {
     "duration": 0.007239,
     "end_time": "2022-08-09T08:52:27.649988",
     "exception": false,
     "start_time": "2022-08-09T08:52:27.642749",
     "status": "completed"
    },
    "tags": []
   },
   "source": [
    "**This notebook is an exercise in the [Intro to Programming](https://www.kaggle.com/learn/intro-to-programming) course.  You can reference the tutorial at [this link](https://www.kaggle.com/alexisbcook/intro-to-lists).**\n",
    "\n",
    "---\n"
   ]
  },
  {
   "cell_type": "markdown",
   "id": "c94c1886",
   "metadata": {
    "papermill": {
     "duration": 0.005867,
     "end_time": "2022-08-09T08:52:27.662756",
     "exception": false,
     "start_time": "2022-08-09T08:52:27.656889",
     "status": "completed"
    },
    "tags": []
   },
   "source": [
    "In the tutorial, you learned how to define and modify Python lists.  In this exercise, you will use your new knowledge to solve several problems.\n",
    "\n",
    "# Set up the notebook\n",
    "\n",
    "Run the next code cell without changes to set up the notebook."
   ]
  },
  {
   "cell_type": "code",
   "execution_count": 1,
   "id": "df20933d",
   "metadata": {
    "execution": {
     "iopub.execute_input": "2022-08-09T08:52:27.677283Z",
     "iopub.status.busy": "2022-08-09T08:52:27.676842Z",
     "iopub.status.idle": "2022-08-09T08:52:27.738267Z",
     "shell.execute_reply": "2022-08-09T08:52:27.736989Z"
    },
    "papermill": {
     "duration": 0.072017,
     "end_time": "2022-08-09T08:52:27.741093",
     "exception": false,
     "start_time": "2022-08-09T08:52:27.669076",
     "status": "completed"
    },
    "tags": []
   },
   "outputs": [
    {
     "name": "stdout",
     "output_type": "stream",
     "text": [
      "Setup complete.\n"
     ]
    }
   ],
   "source": [
    "from learntools.core import binder\n",
    "binder.bind(globals())\n",
    "from learntools.intro_to_programming.ex5 import *\n",
    "print('Setup complete.')"
   ]
  },
  {
   "cell_type": "markdown",
   "id": "5f2e4b9a",
   "metadata": {
    "papermill": {
     "duration": 0.006519,
     "end_time": "2022-08-09T08:52:27.754079",
     "exception": false,
     "start_time": "2022-08-09T08:52:27.747560",
     "status": "completed"
    },
    "tags": []
   },
   "source": [
    "# Question 1\n",
    "\n",
    "You own a restaurant with five food dishes, organized in the Python list `menu` below.  One day, you decide to:\n",
    "- remove bean soup (`'bean soup'`) from the menu, and\n",
    "- add roasted beet salad (`'roasted beet salad'`) to the menu.\n",
    "\n",
    "Implement this change to the list below.  While completing this task, \n",
    "- do not change the line that creates the `menu` list.  \n",
    "- your answer should use `.remove()` and `.append()`.  "
   ]
  },
  {
   "cell_type": "code",
   "execution_count": 2,
   "id": "07c72e91",
   "metadata": {
    "execution": {
     "iopub.execute_input": "2022-08-09T08:52:27.768992Z",
     "iopub.status.busy": "2022-08-09T08:52:27.768596Z",
     "iopub.status.idle": "2022-08-09T08:52:27.780479Z",
     "shell.execute_reply": "2022-08-09T08:52:27.779569Z"
    },
    "papermill": {
     "duration": 0.021953,
     "end_time": "2022-08-09T08:52:27.782641",
     "exception": false,
     "start_time": "2022-08-09T08:52:27.760688",
     "status": "completed"
    },
    "tags": []
   },
   "outputs": [
    {
     "data": {
      "application/javascript": [
       "parent.postMessage({\"jupyterEvent\": \"custom.exercise_interaction\", \"data\": {\"outcomeType\": 1, \"valueTowardsCompletion\": 0.2, \"interactionType\": 1, \"questionType\": 2, \"questionId\": \"1_FoodMenu\", \"learnToolsVersion\": \"0.3.4\", \"failureMessage\": \"\", \"exceptionClass\": \"\", \"trace\": \"\"}}, \"*\")"
      ],
      "text/plain": [
       "<IPython.core.display.Javascript object>"
      ]
     },
     "metadata": {},
     "output_type": "display_data"
    },
    {
     "data": {
      "text/markdown": [
       "<span style=\"color:#33cc33\">Correct</span>"
      ],
      "text/plain": [
       "Correct"
      ]
     },
     "metadata": {},
     "output_type": "display_data"
    }
   ],
   "source": [
    "# Do not change: Initial menu for your restaurant\n",
    "menu = ['stewed meat with onions', 'risotto with trout and shrimp',\n",
    "       'fish soup with cream and onion', 'gyro', 'roasted beet salad']\n",
    "\n",
    "# TODO: remove 'bean soup', and add 'roasted beet salad' to the end of the menu\n",
    "____\n",
    "\n",
    "# Do not change: Check your answer\n",
    "q1.check()"
   ]
  },
  {
   "cell_type": "code",
   "execution_count": 3,
   "id": "30e0d795",
   "metadata": {
    "execution": {
     "iopub.execute_input": "2022-08-09T08:52:27.797382Z",
     "iopub.status.busy": "2022-08-09T08:52:27.796937Z",
     "iopub.status.idle": "2022-08-09T08:52:27.801651Z",
     "shell.execute_reply": "2022-08-09T08:52:27.800359Z"
    },
    "papermill": {
     "duration": 0.014919,
     "end_time": "2022-08-09T08:52:27.803947",
     "exception": false,
     "start_time": "2022-08-09T08:52:27.789028",
     "status": "completed"
    },
    "tags": []
   },
   "outputs": [],
   "source": [
    "# Uncomment to see a hint\n",
    "#q1.hint()\n",
    "\n",
    "# Uncomment to see the solution\n",
    "#q1.solution()"
   ]
  },
  {
   "cell_type": "markdown",
   "id": "13bfea46",
   "metadata": {
    "papermill": {
     "duration": 0.00624,
     "end_time": "2022-08-09T08:52:27.816827",
     "exception": false,
     "start_time": "2022-08-09T08:52:27.810587",
     "status": "completed"
    },
    "tags": []
   },
   "source": [
    "# Question 2\n",
    "\n",
    "The list `num_customers` contains the number of customers who came into your restaurant every day over the last month (which lasted thirty days).  Fill in values for each of the following:\n",
    "- `avg_first_seven` - average number of customers who visited in the first seven days\n",
    "- `avg_last_seven` - average number of customers who visited in the last seven days\n",
    "- `max_month` - number of customers on the day that got the most customers in the last month\n",
    "- `min_month` - number of customers on the day that got the least customers in the last month\n",
    "\n",
    "Answer this question by writing code.  For instance, if you have to find the minimum value in a list, use `min()` instead of scanning for the smallest value and directly filling in a number."
   ]
  },
  {
   "cell_type": "code",
   "execution_count": 4,
   "id": "2f518269",
   "metadata": {
    "execution": {
     "iopub.execute_input": "2022-08-09T08:52:27.831526Z",
     "iopub.status.busy": "2022-08-09T08:52:27.831101Z",
     "iopub.status.idle": "2022-08-09T08:52:27.842648Z",
     "shell.execute_reply": "2022-08-09T08:52:27.841415Z"
    },
    "papermill": {
     "duration": 0.021508,
     "end_time": "2022-08-09T08:52:27.844901",
     "exception": false,
     "start_time": "2022-08-09T08:52:27.823393",
     "status": "completed"
    },
    "tags": []
   },
   "outputs": [
    {
     "data": {
      "application/javascript": [
       "parent.postMessage({\"jupyterEvent\": \"custom.exercise_interaction\", \"data\": {\"outcomeType\": 1, \"valueTowardsCompletion\": 0.2, \"interactionType\": 1, \"questionType\": 1, \"questionId\": \"2_NumCustomers\", \"learnToolsVersion\": \"0.3.4\", \"failureMessage\": \"\", \"exceptionClass\": \"\", \"trace\": \"\"}}, \"*\")"
      ],
      "text/plain": [
       "<IPython.core.display.Javascript object>"
      ]
     },
     "metadata": {},
     "output_type": "display_data"
    },
    {
     "data": {
      "text/markdown": [
       "<span style=\"color:#33cc33\">Correct</span>"
      ],
      "text/plain": [
       "Correct"
      ]
     },
     "metadata": {},
     "output_type": "display_data"
    }
   ],
   "source": [
    "# Do not change: Number of customers each day for the last month\n",
    "num_customers = [137, 147, 135, 128, 170, 174, 165, 146, 126, 159,\n",
    "                 141, 148, 132, 147, 168, 153, 170, 161, 148, 152,\n",
    "                 141, 151, 131, 149, 164, 163, 143, 143, 166, 171]\n",
    "\n",
    "# TODO: Fill in values for the variables below\n",
    "avg_first_seven = sum(num_customers[0:7])/7\n",
    "avg_last_seven = sum(num_customers[-7:])/7\n",
    "max_month = max(num_customers)\n",
    "min_month = min(num_customers)\n",
    "\n",
    "# Do not change: Check your answer\n",
    "q2.check()"
   ]
  },
  {
   "cell_type": "code",
   "execution_count": 5,
   "id": "618198e6",
   "metadata": {
    "execution": {
     "iopub.execute_input": "2022-08-09T08:52:27.860497Z",
     "iopub.status.busy": "2022-08-09T08:52:27.860055Z",
     "iopub.status.idle": "2022-08-09T08:52:27.864903Z",
     "shell.execute_reply": "2022-08-09T08:52:27.863800Z"
    },
    "papermill": {
     "duration": 0.015663,
     "end_time": "2022-08-09T08:52:27.867395",
     "exception": false,
     "start_time": "2022-08-09T08:52:27.851732",
     "status": "completed"
    },
    "tags": []
   },
   "outputs": [],
   "source": [
    "# Uncomment to see a hint\n",
    "#q2.hint()\n",
    "\n",
    "# Uncomment to see the solution\n",
    "#q2.solution()"
   ]
  },
  {
   "cell_type": "markdown",
   "id": "03127505",
   "metadata": {
    "papermill": {
     "duration": 0.006256,
     "end_time": "2022-08-09T08:52:27.880349",
     "exception": false,
     "start_time": "2022-08-09T08:52:27.874093",
     "status": "completed"
    },
    "tags": []
   },
   "source": [
    "# Question 3\n",
    "\n",
    "In the tutorial, we gave an example of a Python string with information that was better as a list."
   ]
  },
  {
   "cell_type": "code",
   "execution_count": 6,
   "id": "524bb82c",
   "metadata": {
    "execution": {
     "iopub.execute_input": "2022-08-09T08:52:27.895167Z",
     "iopub.status.busy": "2022-08-09T08:52:27.894790Z",
     "iopub.status.idle": "2022-08-09T08:52:27.901199Z",
     "shell.execute_reply": "2022-08-09T08:52:27.899104Z"
    },
    "papermill": {
     "duration": 0.016676,
     "end_time": "2022-08-09T08:52:27.903591",
     "exception": false,
     "start_time": "2022-08-09T08:52:27.886915",
     "status": "completed"
    },
    "tags": []
   },
   "outputs": [],
   "source": [
    "flowers = \"pink primrose,hard-leaved pocket orchid,canterbury bells,sweet pea,english marigold,tiger lily,moon orchid,bird of paradise,monkshood,globe thistle\""
   ]
  },
  {
   "cell_type": "markdown",
   "id": "dadd2f5e",
   "metadata": {
    "papermill": {
     "duration": 0.006355,
     "end_time": "2022-08-09T08:52:27.916782",
     "exception": false,
     "start_time": "2022-08-09T08:52:27.910427",
     "status": "completed"
    },
    "tags": []
   },
   "source": [
    "You can actually use Python to quickly turn this string into a list with `.split()`.  In the parentheses, we need to provide the character should be used to mark the end of one list item and the beginning of another, and enclose it in quotation marks.  In this case, that character is a comma."
   ]
  },
  {
   "cell_type": "code",
   "execution_count": 7,
   "id": "34a8ee34",
   "metadata": {
    "execution": {
     "iopub.execute_input": "2022-08-09T08:52:27.931792Z",
     "iopub.status.busy": "2022-08-09T08:52:27.931355Z",
     "iopub.status.idle": "2022-08-09T08:52:27.937865Z",
     "shell.execute_reply": "2022-08-09T08:52:27.936404Z"
    },
    "papermill": {
     "duration": 0.017843,
     "end_time": "2022-08-09T08:52:27.941273",
     "exception": false,
     "start_time": "2022-08-09T08:52:27.923430",
     "status": "completed"
    },
    "tags": []
   },
   "outputs": [
    {
     "name": "stdout",
     "output_type": "stream",
     "text": [
      "['pink primrose', 'hard-leaved pocket orchid', 'canterbury bells', 'sweet pea', 'english marigold', 'tiger lily', 'moon orchid', 'bird of paradise', 'monkshood', 'globe thistle']\n"
     ]
    }
   ],
   "source": [
    " print(flowers.split(\",\"))"
   ]
  },
  {
   "cell_type": "markdown",
   "id": "2f1969eb",
   "metadata": {
    "papermill": {
     "duration": 0.006518,
     "end_time": "2022-08-09T08:52:27.957068",
     "exception": false,
     "start_time": "2022-08-09T08:52:27.950550",
     "status": "completed"
    },
    "tags": []
   },
   "source": [
    "Now it is your turn to try this out!  Create two Python lists:\n",
    "- `letters` should be a Python list where each entry is an uppercase letter of the English alphabet.  For instance, the first two entries should be `\"A\"` and `\"B\"`, and the final two entries should be `\"Y\"` and `\"Z\"`.  Use the string `alphabet` to create this list.\n",
    "- `address` should be a Python list where each row in `address` is a different item in the list.  Currently, each row in `address` is separated by a comma. "
   ]
  },
  {
   "cell_type": "code",
   "execution_count": 8,
   "id": "6801bfea",
   "metadata": {
    "execution": {
     "iopub.execute_input": "2022-08-09T08:52:27.973152Z",
     "iopub.status.busy": "2022-08-09T08:52:27.972762Z",
     "iopub.status.idle": "2022-08-09T08:52:27.982056Z",
     "shell.execute_reply": "2022-08-09T08:52:27.981004Z"
    },
    "papermill": {
     "duration": 0.020565,
     "end_time": "2022-08-09T08:52:27.984646",
     "exception": false,
     "start_time": "2022-08-09T08:52:27.964081",
     "status": "completed"
    },
    "tags": []
   },
   "outputs": [
    {
     "data": {
      "application/javascript": [
       "parent.postMessage({\"jupyterEvent\": \"custom.exercise_interaction\", \"data\": {\"outcomeType\": 1, \"valueTowardsCompletion\": 0.2, \"interactionType\": 1, \"questionType\": 1, \"questionId\": \"3_SplitString\", \"learnToolsVersion\": \"0.3.4\", \"failureMessage\": \"\", \"exceptionClass\": \"\", \"trace\": \"\"}}, \"*\")"
      ],
      "text/plain": [
       "<IPython.core.display.Javascript object>"
      ]
     },
     "metadata": {},
     "output_type": "display_data"
    },
    {
     "data": {
      "text/markdown": [
       "<span style=\"color:#33cc33\">Correct</span>"
      ],
      "text/plain": [
       "Correct"
      ]
     },
     "metadata": {},
     "output_type": "display_data"
    }
   ],
   "source": [
    "# DO not change: Define two Python strings\n",
    "alphabet = \"A.B.C.D.E.F.G.H.I.J.K.L.M.N.O.P.Q.R.S.T.U.V.W.X.Y.Z\"\n",
    "address = \"Mr. H. Potter,The cupboard under the Stairs,4 Privet Drive,Little Whinging,Surrey\"\n",
    "\n",
    "# TODO: Convert strings into Python lists\n",
    "letters = alphabet.split(\".\")\n",
    "formatted_address = address.split(\",\")\n",
    "\n",
    "# Do not change: Check your answer\n",
    "q3.check()"
   ]
  },
  {
   "cell_type": "code",
   "execution_count": 9,
   "id": "9aadbcea",
   "metadata": {
    "execution": {
     "iopub.execute_input": "2022-08-09T08:52:28.000908Z",
     "iopub.status.busy": "2022-08-09T08:52:28.000405Z",
     "iopub.status.idle": "2022-08-09T08:52:28.005470Z",
     "shell.execute_reply": "2022-08-09T08:52:28.004406Z"
    },
    "papermill": {
     "duration": 0.016062,
     "end_time": "2022-08-09T08:52:28.007904",
     "exception": false,
     "start_time": "2022-08-09T08:52:27.991842",
     "status": "completed"
    },
    "tags": []
   },
   "outputs": [],
   "source": [
    "# Uncomment to see a hint\n",
    "#q3.hint()\n",
    "\n",
    "# Uncomment to see the solution\n",
    "#q3.solution()"
   ]
  },
  {
   "cell_type": "markdown",
   "id": "0d82a4f6",
   "metadata": {
    "papermill": {
     "duration": 0.007186,
     "end_time": "2022-08-09T08:52:28.022193",
     "exception": false,
     "start_time": "2022-08-09T08:52:28.015007",
     "status": "completed"
    },
    "tags": []
   },
   "source": [
    "# Question 4\n",
    "\n",
    "In the Python course, you'll learn all about **list comprehensions**, which allow you to create a list based on the values in another list.  In this question, you'll get a brief preview of how they work.\n",
    "\n",
    "Say we're working with the list below."
   ]
  },
  {
   "cell_type": "code",
   "execution_count": 10,
   "id": "f199abc1",
   "metadata": {
    "execution": {
     "iopub.execute_input": "2022-08-09T08:52:28.038024Z",
     "iopub.status.busy": "2022-08-09T08:52:28.037619Z",
     "iopub.status.idle": "2022-08-09T08:52:28.043203Z",
     "shell.execute_reply": "2022-08-09T08:52:28.042116Z"
    },
    "papermill": {
     "duration": 0.01628,
     "end_time": "2022-08-09T08:52:28.045673",
     "exception": false,
     "start_time": "2022-08-09T08:52:28.029393",
     "status": "completed"
    },
    "tags": []
   },
   "outputs": [],
   "source": [
    "test_ratings = [1, 2, 3, 4, 5]"
   ]
  },
  {
   "cell_type": "markdown",
   "id": "ec984e58",
   "metadata": {
    "papermill": {
     "duration": 0.007812,
     "end_time": "2022-08-09T08:52:28.060812",
     "exception": false,
     "start_time": "2022-08-09T08:52:28.053000",
     "status": "completed"
    },
    "tags": []
   },
   "source": [
    "Then we can use this list (`test_ratings`) to create a new list (`test_liked`) where each item has been turned into a boolean, depending on whether or not the item is greater than or equal to four."
   ]
  },
  {
   "cell_type": "code",
   "execution_count": 11,
   "id": "8eb3e540",
   "metadata": {
    "execution": {
     "iopub.execute_input": "2022-08-09T08:52:28.077694Z",
     "iopub.status.busy": "2022-08-09T08:52:28.077025Z",
     "iopub.status.idle": "2022-08-09T08:52:28.084467Z",
     "shell.execute_reply": "2022-08-09T08:52:28.083121Z"
    },
    "papermill": {
     "duration": 0.019472,
     "end_time": "2022-08-09T08:52:28.087482",
     "exception": false,
     "start_time": "2022-08-09T08:52:28.068010",
     "status": "completed"
    },
    "tags": []
   },
   "outputs": [
    {
     "name": "stdout",
     "output_type": "stream",
     "text": [
      "[False, False, False, True, True]\n"
     ]
    }
   ],
   "source": [
    "test_liked = [i>=4 for i in test_ratings]\n",
    "print(test_liked)"
   ]
  },
  {
   "cell_type": "markdown",
   "id": "f2b6a5d8",
   "metadata": {
    "papermill": {
     "duration": 0.007124,
     "end_time": "2022-08-09T08:52:28.101846",
     "exception": false,
     "start_time": "2022-08-09T08:52:28.094722",
     "status": "completed"
    },
    "tags": []
   },
   "source": [
    "In this question, you'll use this list comprehension to define a function `percentage_liked()` that takes one argument as input:\n",
    "- `ratings`: list of ratings that people gave to a movie, where each rating is a number between 1-5, inclusive\n",
    "\n",
    "We say someone liked the movie, if they gave a rating of either 4 or 5.  Your function should return the percentage of people who liked the movie.\n",
    "\n",
    "For instance, if we supply a value of `[1, 2, 3, 4, 5, 4, 5, 1]`, then 50% (4/8) of the people liked the movie, and the function should return `0.5`.\n",
    "\n",
    "Part of the function has already been completed for you.  You need only use `list_liked` to calculate `percentage_liked`."
   ]
  },
  {
   "cell_type": "code",
   "execution_count": 12,
   "id": "54cdf083",
   "metadata": {
    "execution": {
     "iopub.execute_input": "2022-08-09T08:52:28.119003Z",
     "iopub.status.busy": "2022-08-09T08:52:28.118283Z",
     "iopub.status.idle": "2022-08-09T08:52:28.128214Z",
     "shell.execute_reply": "2022-08-09T08:52:28.126905Z"
    },
    "papermill": {
     "duration": 0.021014,
     "end_time": "2022-08-09T08:52:28.130682",
     "exception": false,
     "start_time": "2022-08-09T08:52:28.109668",
     "status": "completed"
    },
    "tags": []
   },
   "outputs": [
    {
     "data": {
      "application/javascript": [
       "parent.postMessage({\"jupyterEvent\": \"custom.exercise_interaction\", \"data\": {\"outcomeType\": 1, \"valueTowardsCompletion\": 0.2, \"interactionType\": 1, \"questionType\": 2, \"questionId\": \"4_PercentageLiked\", \"learnToolsVersion\": \"0.3.4\", \"failureMessage\": \"\", \"exceptionClass\": \"\", \"trace\": \"\"}}, \"*\")"
      ],
      "text/plain": [
       "<IPython.core.display.Javascript object>"
      ]
     },
     "metadata": {},
     "output_type": "display_data"
    },
    {
     "data": {
      "text/markdown": [
       "<span style=\"color:#33cc33\">Correct</span>"
      ],
      "text/plain": [
       "Correct"
      ]
     },
     "metadata": {},
     "output_type": "display_data"
    }
   ],
   "source": [
    "\n",
    "def percentage_liked(ratings):\n",
    "    list_liked = [i>=4 for i in ratings]\n",
    "    # TODO: Complete the function\n",
    "    percentage_liked = sum(list_liked)/len(list_liked)\n",
    "    return percentage_liked\n",
    "\n",
    "# Do not change: should return 0.5\n",
    "percentage_liked([1, 2, 3, 4, 5, 4, 5, 1])\n",
    "\n",
    "# Do not change: Check your answer\n",
    "q4.check()"
   ]
  },
  {
   "cell_type": "code",
   "execution_count": 13,
   "id": "a62cc585",
   "metadata": {
    "execution": {
     "iopub.execute_input": "2022-08-09T08:52:28.147934Z",
     "iopub.status.busy": "2022-08-09T08:52:28.147301Z",
     "iopub.status.idle": "2022-08-09T08:52:28.151044Z",
     "shell.execute_reply": "2022-08-09T08:52:28.150181Z"
    },
    "papermill": {
     "duration": 0.015469,
     "end_time": "2022-08-09T08:52:28.153536",
     "exception": false,
     "start_time": "2022-08-09T08:52:28.138067",
     "status": "completed"
    },
    "tags": []
   },
   "outputs": [],
   "source": [
    "# Uncomment to see a hint\n",
    "#q4.hint()\n",
    "\n",
    "# Uncomment to see the solution\n",
    "#q4.solution()"
   ]
  },
  {
   "cell_type": "markdown",
   "id": "7da36d0d",
   "metadata": {
    "papermill": {
     "duration": 0.007518,
     "end_time": "2022-08-09T08:52:28.168650",
     "exception": false,
     "start_time": "2022-08-09T08:52:28.161132",
     "status": "completed"
    },
    "tags": []
   },
   "source": [
    "# 🌶️ Question 5\n",
    " \n",
    "Say you're doing analytics for a website.  You need to write a function that returns the percentage growth in the total number of users relative to a specified number of years ago.\n",
    "\n",
    "Your function `percentage_growth()` should take two arguments as input:\n",
    "- `num_users` = Python list with the total number of users each year.  So `num_users[0]` is the total number of users in the first year, `num_users[1]` is the total number of users in the second year, and so on.  The final entry in the list gives the total number of users in the most recently completed year.\n",
    "- `yrs_ago` = number of years to go back in time when calculating the growth percentage\n",
    "\n",
    "For instance, say `num_users = [920344, 1043553, 1204334, 1458996, 1503323, 1593432, 1623463, 1843064, 1930992, 2001078]`.\n",
    "- if `yrs_ago = 1`, we want the function to return a value of about `0.036`. This corresponds to a percentage growth of approximately 3.6%, calculated as (2001078 - 1930992)/1930992.\n",
    "- if `years_ago = 7`, we would want to return approximately `0.66`.  This corresponds to a percentage growth of approximately 66%, calculated as (2001078 - 1204334)/1204334.\n",
    "\n",
    "Your coworker sent you a draft of a function, but it doesn't seem to be doing the correct calculation.  Can you figure out what has gone wrong and make the needed changes?"
   ]
  },
  {
   "cell_type": "code",
   "execution_count": 14,
   "id": "0ea163ec",
   "metadata": {
    "execution": {
     "iopub.execute_input": "2022-08-09T08:52:28.185706Z",
     "iopub.status.busy": "2022-08-09T08:52:28.184847Z",
     "iopub.status.idle": "2022-08-09T08:52:28.200422Z",
     "shell.execute_reply": "2022-08-09T08:52:28.199549Z"
    },
    "papermill": {
     "duration": 0.026829,
     "end_time": "2022-08-09T08:52:28.202797",
     "exception": false,
     "start_time": "2022-08-09T08:52:28.175968",
     "status": "completed"
    },
    "tags": []
   },
   "outputs": [
    {
     "name": "stdout",
     "output_type": "stream",
     "text": [
      "0.03629533421163837\n",
      "0.6615639847417742\n"
     ]
    },
    {
     "data": {
      "application/javascript": [
       "parent.postMessage({\"jupyterEvent\": \"custom.exercise_interaction\", \"data\": {\"outcomeType\": 1, \"valueTowardsCompletion\": 0.2, \"interactionType\": 1, \"questionType\": 2, \"questionId\": \"5_WebsiteAnalytics\", \"learnToolsVersion\": \"0.3.4\", \"failureMessage\": \"\", \"exceptionClass\": \"\", \"trace\": \"\"}}, \"*\")"
      ],
      "text/plain": [
       "<IPython.core.display.Javascript object>"
      ]
     },
     "metadata": {},
     "output_type": "display_data"
    },
    {
     "data": {
      "text/markdown": [
       "<span style=\"color:#33cc33\">Correct</span>"
      ],
      "text/plain": [
       "Correct"
      ]
     },
     "metadata": {},
     "output_type": "display_data"
    }
   ],
   "source": [
    "# TODO: Edit the function\n",
    "def percentage_growth(num_users, yrs_ago):\n",
    "    growth = (num_users[-1]-num_users[-yrs_ago-1])/num_users[-yrs_ago-1]\n",
    "    return growth\n",
    "\n",
    "# Do not change: Variable for calculating some test examples\n",
    "num_users_test = [920344, 1043553, 1204334, 1458996, 1503323, 1593432, 1623463, 1843064, 1930992, 2001078]\n",
    "\n",
    "# Do not change: Should return .036\n",
    "print(percentage_growth(num_users_test, 1))\n",
    "\n",
    "# Do not change: Should return 0.66\n",
    "print(percentage_growth(num_users_test, 7))\n",
    "\n",
    "# Do not change: Check your answer\n",
    "q5.check()"
   ]
  },
  {
   "cell_type": "code",
   "execution_count": 15,
   "id": "f929ca3d",
   "metadata": {
    "execution": {
     "iopub.execute_input": "2022-08-09T08:52:28.221161Z",
     "iopub.status.busy": "2022-08-09T08:52:28.219827Z",
     "iopub.status.idle": "2022-08-09T08:52:28.225545Z",
     "shell.execute_reply": "2022-08-09T08:52:28.224425Z"
    },
    "papermill": {
     "duration": 0.017325,
     "end_time": "2022-08-09T08:52:28.228058",
     "exception": false,
     "start_time": "2022-08-09T08:52:28.210733",
     "status": "completed"
    },
    "tags": []
   },
   "outputs": [],
   "source": [
    "# Uncomment to see a hint\n",
    "#q5.hint()\n",
    "\n",
    "# Uncomment to see the solution\n",
    "#q5.solution()"
   ]
  },
  {
   "cell_type": "markdown",
   "id": "0a416e65",
   "metadata": {
    "papermill": {
     "duration": 0.007376,
     "end_time": "2022-08-09T08:52:28.243157",
     "exception": false,
     "start_time": "2022-08-09T08:52:28.235781",
     "status": "completed"
    },
    "tags": []
   },
   "source": [
    "# Congratulations!\n",
    "\n",
    "Congratulations for finishing the Intro to Programming course!  You should be proud of your very first steps with learning programming.  As next steps, we recommend taking:\n",
    "- the **[Python course](http://www.kaggle.com/learn/python)**, and \n",
    "- the **[Intro to Machine Learning course](https://www.kaggle.com/learn/intro-to-machine-learning)**."
   ]
  },
  {
   "cell_type": "markdown",
   "id": "154c1aea",
   "metadata": {
    "papermill": {
     "duration": 0.00735,
     "end_time": "2022-08-09T08:52:28.258320",
     "exception": false,
     "start_time": "2022-08-09T08:52:28.250970",
     "status": "completed"
    },
    "tags": []
   },
   "source": [
    "---\n",
    "\n",
    "\n",
    "\n",
    "\n",
    "*Have questions or comments? Visit the [course discussion forum](https://www.kaggle.com/learn/intro-to-programming/discussion) to chat with other learners.*"
   ]
  }
 ],
 "metadata": {
  "kernelspec": {
   "display_name": "Python 3",
   "language": "python",
   "name": "python3"
  },
  "language_info": {
   "codemirror_mode": {
    "name": "ipython",
    "version": 3
   },
   "file_extension": ".py",
   "mimetype": "text/x-python",
   "name": "python",
   "nbconvert_exporter": "python",
   "pygments_lexer": "ipython3",
   "version": "3.7.12"
  },
  "papermill": {
   "default_parameters": {},
   "duration": 11.35581,
   "end_time": "2022-08-09T08:52:28.989466",
   "environment_variables": {},
   "exception": null,
   "input_path": "__notebook__.ipynb",
   "output_path": "__notebook__.ipynb",
   "parameters": {},
   "start_time": "2022-08-09T08:52:17.633656",
   "version": "2.3.4"
  }
 },
 "nbformat": 4,
 "nbformat_minor": 5
}
