{
 "cells": [
  {
   "cell_type": "markdown",
   "id": "44c08b08",
   "metadata": {
    "papermill": {
     "duration": 0.007586,
     "end_time": "2022-08-09T07:39:58.554071",
     "exception": false,
     "start_time": "2022-08-09T07:39:58.546485",
     "status": "completed"
    },
    "tags": []
   },
   "source": [
    "**This notebook is an exercise in the [Intro to Programming](https://www.kaggle.com/learn/intro-to-programming) course.  You can reference the tutorial at [this link](https://www.kaggle.com/alexisbcook/data-types).**\n",
    "\n",
    "---\n"
   ]
  },
  {
   "cell_type": "markdown",
   "id": "71da1faa",
   "metadata": {
    "papermill": {
     "duration": 0.006142,
     "end_time": "2022-08-09T07:39:58.566733",
     "exception": false,
     "start_time": "2022-08-09T07:39:58.560591",
     "status": "completed"
    },
    "tags": []
   },
   "source": [
    "In the tutorial, you learned about four different data types: floats, integers, strings, and booleans.  In this exercise, you'll experiment with them.\n",
    "\n",
    "# Set up the notebook\n",
    "\n",
    "Run the next code cell without changes to set up the notebook."
   ]
  },
  {
   "cell_type": "code",
   "execution_count": 1,
   "id": "cfe395d4",
   "metadata": {
    "execution": {
     "iopub.execute_input": "2022-08-09T07:39:58.581501Z",
     "iopub.status.busy": "2022-08-09T07:39:58.580962Z",
     "iopub.status.idle": "2022-08-09T07:39:58.636959Z",
     "shell.execute_reply": "2022-08-09T07:39:58.635339Z"
    },
    "papermill": {
     "duration": 0.067596,
     "end_time": "2022-08-09T07:39:58.640663",
     "exception": false,
     "start_time": "2022-08-09T07:39:58.573067",
     "status": "completed"
    },
    "tags": []
   },
   "outputs": [
    {
     "name": "stdout",
     "output_type": "stream",
     "text": [
      "Setup complete.\n"
     ]
    }
   ],
   "source": [
    "# Set up the exercise\n",
    "from learntools.core import binder\n",
    "binder.bind(globals())\n",
    "from learntools.intro_to_programming.ex3 import *\n",
    "print('Setup complete.')"
   ]
  },
  {
   "cell_type": "markdown",
   "id": "60405e05",
   "metadata": {
    "papermill": {
     "duration": 0.006139,
     "end_time": "2022-08-09T07:39:58.653820",
     "exception": false,
     "start_time": "2022-08-09T07:39:58.647681",
     "status": "completed"
    },
    "tags": []
   },
   "source": [
    "# Question 1\n",
    "\n",
    "You have seen how to convert a float to an integer with the `int` function.  Try this out yourself by running the code cell below."
   ]
  },
  {
   "cell_type": "code",
   "execution_count": 2,
   "id": "63b87256",
   "metadata": {
    "execution": {
     "iopub.execute_input": "2022-08-09T07:39:58.668992Z",
     "iopub.status.busy": "2022-08-09T07:39:58.667796Z",
     "iopub.status.idle": "2022-08-09T07:39:58.675424Z",
     "shell.execute_reply": "2022-08-09T07:39:58.673998Z"
    },
    "papermill": {
     "duration": 0.017481,
     "end_time": "2022-08-09T07:39:58.677628",
     "exception": false,
     "start_time": "2022-08-09T07:39:58.660147",
     "status": "completed"
    },
    "tags": []
   },
   "outputs": [
    {
     "name": "stdout",
     "output_type": "stream",
     "text": [
      "1.0\n",
      "<class 'float'>\n",
      "1\n",
      "<class 'int'>\n"
     ]
    }
   ],
   "source": [
    "# Define a float\n",
    "y = 1.\n",
    "print(y)\n",
    "print(type(y))\n",
    "\n",
    "# Convert float to integer with the int function\n",
    "z = int(y)\n",
    "print(z)\n",
    "print(type(z))"
   ]
  },
  {
   "cell_type": "markdown",
   "id": "11b61e21",
   "metadata": {
    "papermill": {
     "duration": 0.006236,
     "end_time": "2022-08-09T07:39:58.690799",
     "exception": false,
     "start_time": "2022-08-09T07:39:58.684563",
     "status": "completed"
    },
    "tags": []
   },
   "source": [
    "In this case, the float you are using has no numbers after the decimal.  \n",
    "- But what happens when you try to convert a float with a fractional part to an integer?  \n",
    "- How does the outcome of the `int` function change for positive and negative numbers?\n",
    "\n",
    "Use the next code cell to investigate and answer these questions.  Feel free to add or remove any lines of code -- it is your workspace!"
   ]
  },
  {
   "cell_type": "code",
   "execution_count": 3,
   "id": "e15ecdcf",
   "metadata": {
    "execution": {
     "iopub.execute_input": "2022-08-09T07:39:58.706100Z",
     "iopub.status.busy": "2022-08-09T07:39:58.704915Z",
     "iopub.status.idle": "2022-08-09T07:39:58.711715Z",
     "shell.execute_reply": "2022-08-09T07:39:58.710234Z"
    },
    "papermill": {
     "duration": 0.016685,
     "end_time": "2022-08-09T07:39:58.713965",
     "exception": false,
     "start_time": "2022-08-09T07:39:58.697280",
     "status": "completed"
    },
    "tags": []
   },
   "outputs": [
    {
     "name": "stdout",
     "output_type": "stream",
     "text": [
      "1\n",
      "1\n",
      "-3\n",
      "-2\n"
     ]
    }
   ],
   "source": [
    "# Uncomment and run this code to get started!\n",
    "print(int(1.2321))\n",
    "print(int(1.747))\n",
    "print(int(-3.94535))\n",
    "print(int(-2.19774))"
   ]
  },
  {
   "cell_type": "markdown",
   "id": "dc9f9148",
   "metadata": {
    "papermill": {
     "duration": 0.006211,
     "end_time": "2022-08-09T07:39:58.726671",
     "exception": false,
     "start_time": "2022-08-09T07:39:58.720460",
     "status": "completed"
    },
    "tags": []
   },
   "source": [
    "Once you have an answer, run the code cell below to see the solution.  Viewing the solution will give you credit for answering the problem."
   ]
  },
  {
   "cell_type": "code",
   "execution_count": 4,
   "id": "e589a4e9",
   "metadata": {
    "execution": {
     "iopub.execute_input": "2022-08-09T07:39:58.741612Z",
     "iopub.status.busy": "2022-08-09T07:39:58.740765Z",
     "iopub.status.idle": "2022-08-09T07:39:58.751309Z",
     "shell.execute_reply": "2022-08-09T07:39:58.750461Z"
    },
    "papermill": {
     "duration": 0.020332,
     "end_time": "2022-08-09T07:39:58.753392",
     "exception": false,
     "start_time": "2022-08-09T07:39:58.733060",
     "status": "completed"
    },
    "tags": []
   },
   "outputs": [
    {
     "data": {
      "application/javascript": [
       "parent.postMessage({\"jupyterEvent\": \"custom.exercise_interaction\", \"data\": {\"outcomeType\": 1, \"valueTowardsCompletion\": 0.2, \"interactionType\": 1, \"questionType\": 4, \"questionId\": \"1_FloatToInt\", \"learnToolsVersion\": \"0.3.4\", \"failureMessage\": \"\", \"exceptionClass\": \"\", \"trace\": \"\"}}, \"*\")"
      ],
      "text/plain": [
       "<IPython.core.display.Javascript object>"
      ]
     },
     "metadata": {},
     "output_type": "display_data"
    },
    {
     "data": {
      "text/markdown": [
       "<span style=\"color:#33cc33\">Correct:</span> \n",
       "\n",
       "Negative floats are always rounded UP to the closest integer (for instance, both -1.1 and -1.9 are rounded up to -1). Positive floats are always rounded DOWN to the closest integer (for instance, 2.1 and 2.9 are rounded down to 2)."
      ],
      "text/plain": [
       "Correct: \n",
       "\n",
       "Negative floats are always rounded UP to the closest integer (for instance, both -1.1 and -1.9 are rounded up to -1). Positive floats are always rounded DOWN to the closest integer (for instance, 2.1 and 2.9 are rounded down to 2)."
      ]
     },
     "metadata": {},
     "output_type": "display_data"
    }
   ],
   "source": [
    "# Check your answer (Run this code cell to receive credit!)\n",
    "q1.check()"
   ]
  },
  {
   "cell_type": "markdown",
   "id": "6c72eaba",
   "metadata": {
    "papermill": {
     "duration": 0.006537,
     "end_time": "2022-08-09T07:39:58.767092",
     "exception": false,
     "start_time": "2022-08-09T07:39:58.760555",
     "status": "completed"
    },
    "tags": []
   },
   "source": [
    "# Question 2\n",
    "\n",
    "In the tutorial, you learned about booleans (which can take a value of `True` or `False`), in addition to integers, floats, and strings.  For this question, your goal is to determine what happens when you multiply a boolean by any of these data types.  Specifically, \n",
    "- What happens when you multiply an integer or float by `True`?  What happens when you multiply them by `False`?  How does the answer change if the numbers are positive or negative?\n",
    "- What happens when you multiply a string by `True`?  By `False`?\n",
    "\n",
    "Use the next code cell for your investigation. "
   ]
  },
  {
   "cell_type": "code",
   "execution_count": 5,
   "id": "c5a61911",
   "metadata": {
    "execution": {
     "iopub.execute_input": "2022-08-09T07:39:58.782681Z",
     "iopub.status.busy": "2022-08-09T07:39:58.781814Z",
     "iopub.status.idle": "2022-08-09T07:39:58.787480Z",
     "shell.execute_reply": "2022-08-09T07:39:58.786387Z"
    },
    "papermill": {
     "duration": 0.015842,
     "end_time": "2022-08-09T07:39:58.789702",
     "exception": false,
     "start_time": "2022-08-09T07:39:58.773860",
     "status": "completed"
    },
    "tags": []
   },
   "outputs": [
    {
     "name": "stdout",
     "output_type": "stream",
     "text": [
      "3\n",
      "-3.1\n",
      "<class 'str'>\n",
      "0\n"
     ]
    }
   ],
   "source": [
    "# Uncomment and run this code to get started!\n",
    "print(3 * True)\n",
    "print(-3.1 * True)\n",
    "print(type(\"abc\" * 0))\n",
    "print(len(\"abc\" * False))"
   ]
  },
  {
   "cell_type": "markdown",
   "id": "a5f8423c",
   "metadata": {
    "papermill": {
     "duration": 0.006497,
     "end_time": "2022-08-09T07:39:58.803150",
     "exception": false,
     "start_time": "2022-08-09T07:39:58.796653",
     "status": "completed"
    },
    "tags": []
   },
   "source": [
    "Once you have an answer, run the code cell below to see the solution.  Viewing the solution will give you credit for answering the problem."
   ]
  },
  {
   "cell_type": "code",
   "execution_count": 6,
   "id": "ad374c9d",
   "metadata": {
    "execution": {
     "iopub.execute_input": "2022-08-09T07:39:58.818862Z",
     "iopub.status.busy": "2022-08-09T07:39:58.818192Z",
     "iopub.status.idle": "2022-08-09T07:39:58.825232Z",
     "shell.execute_reply": "2022-08-09T07:39:58.824386Z"
    },
    "papermill": {
     "duration": 0.017423,
     "end_time": "2022-08-09T07:39:58.827325",
     "exception": false,
     "start_time": "2022-08-09T07:39:58.809902",
     "status": "completed"
    },
    "tags": []
   },
   "outputs": [
    {
     "data": {
      "application/javascript": [
       "parent.postMessage({\"jupyterEvent\": \"custom.exercise_interaction\", \"data\": {\"outcomeType\": 1, \"valueTowardsCompletion\": 0.2, \"interactionType\": 1, \"questionType\": 4, \"questionId\": \"2_MultiplyBooleans\", \"learnToolsVersion\": \"0.3.4\", \"failureMessage\": \"\", \"exceptionClass\": \"\", \"trace\": \"\"}}, \"*\")"
      ],
      "text/plain": [
       "<IPython.core.display.Javascript object>"
      ]
     },
     "metadata": {},
     "output_type": "display_data"
    },
    {
     "data": {
      "text/markdown": [
       "<span style=\"color:#33cc33\">Correct:</span> \n",
       "\n",
       "When you multiple an integer or float by a boolean with value `True`, it just returns that same integer or float (and is equivalent to multiplying by 1).  If you multiply an integer or float by a boolean with value `False`, it always returns 0.  This is true for both positive and negative numbers.  If you multiply a string by a boolean with value `True`, it just returns that same string.  And if you multiply a string by a boolean with value `False`, it returns an empty string (or a string with length zero)."
      ],
      "text/plain": [
       "Correct: \n",
       "\n",
       "When you multiple an integer or float by a boolean with value `True`, it just returns that same integer or float (and is equivalent to multiplying by 1).  If you multiply an integer or float by a boolean with value `False`, it always returns 0.  This is true for both positive and negative numbers.  If you multiply a string by a boolean with value `True`, it just returns that same string.  And if you multiply a string by a boolean with value `False`, it returns an empty string (or a string with length zero)."
      ]
     },
     "metadata": {},
     "output_type": "display_data"
    }
   ],
   "source": [
    "# Check your answer (Run this code cell to receive credit!)\n",
    "q2.check()"
   ]
  },
  {
   "cell_type": "markdown",
   "id": "2b3d1313",
   "metadata": {
    "papermill": {
     "duration": 0.006786,
     "end_time": "2022-08-09T07:39:58.842067",
     "exception": false,
     "start_time": "2022-08-09T07:39:58.835281",
     "status": "completed"
    },
    "tags": []
   },
   "source": [
    "# Question 3\n",
    "\n",
    "In this question, you will build off your work from the previous exercise to write a function that estimates the value of a house.\n",
    "\n",
    "Use the next code cell to create a function `get_expected_cost` that takes as input three variables:\n",
    "- `beds` - number of bedrooms (data type float)\n",
    "- `baths` - number of bathrooms (data type float)\n",
    "- `has_basement` - whether or not the house has a basement (data type boolean)\n",
    "\n",
    "It should return the expected cost of a house with those characteristics. Assume that:\n",
    "- the expected cost for a house with 0 bedrooms and 0 bathrooms, and no basement is 80000, \n",
    "- each bedroom adds 30000 to the expected cost,\n",
    "- each bathroom adds 10000 to the expected cost, and\n",
    "- a basement adds 40000 to the expected cost.\n",
    "\n",
    "For instance,\n",
    "- a house with 1 bedroom, 1 bathroom, and no basement has an expected cost of 80000 + 30000 + 10000 = 120000.  This value will be calculated with `get_expected_cost(1, 1, False)`.\n",
    "- a house with 2 bedrooms, 1 bathroom, and a basement has an expected cost of 80000 + 2*30000 + 10000 + 40000 = 190000.  This value will be calculated with `get_expected_cost(2, 1, True)`.\n",
    "\n",
    "Remember you can always get a hint by uncommenting `q3.hint()` in the code cell following the next!"
   ]
  },
  {
   "cell_type": "code",
   "execution_count": 7,
   "id": "c4d814d3",
   "metadata": {
    "execution": {
     "iopub.execute_input": "2022-08-09T07:39:58.858292Z",
     "iopub.status.busy": "2022-08-09T07:39:58.857648Z",
     "iopub.status.idle": "2022-08-09T07:39:58.866368Z",
     "shell.execute_reply": "2022-08-09T07:39:58.865322Z"
    },
    "papermill": {
     "duration": 0.019568,
     "end_time": "2022-08-09T07:39:58.868684",
     "exception": false,
     "start_time": "2022-08-09T07:39:58.849116",
     "status": "completed"
    },
    "tags": []
   },
   "outputs": [
    {
     "data": {
      "application/javascript": [
       "parent.postMessage({\"jupyterEvent\": \"custom.exercise_interaction\", \"data\": {\"outcomeType\": 1, \"valueTowardsCompletion\": 0.2, \"interactionType\": 1, \"questionType\": 2, \"questionId\": \"3_EstimateHouseValueBool\", \"learnToolsVersion\": \"0.3.4\", \"failureMessage\": \"\", \"exceptionClass\": \"\", \"trace\": \"\"}}, \"*\")"
      ],
      "text/plain": [
       "<IPython.core.display.Javascript object>"
      ]
     },
     "metadata": {},
     "output_type": "display_data"
    },
    {
     "data": {
      "text/markdown": [
       "<span style=\"color:#33cc33\">Correct</span>"
      ],
      "text/plain": [
       "Correct"
      ]
     },
     "metadata": {},
     "output_type": "display_data"
    }
   ],
   "source": [
    "# TODO: Complete the function\n",
    "def get_expected_cost(beds, baths, has_basement):\n",
    "    value = 80000 + beds*30000 + baths*10000 + has_basement*40000\n",
    "    return value\n",
    "\n",
    "# Check your answer \n",
    "q3.check()"
   ]
  },
  {
   "cell_type": "code",
   "execution_count": 8,
   "id": "96e6942c",
   "metadata": {
    "execution": {
     "iopub.execute_input": "2022-08-09T07:39:58.886131Z",
     "iopub.status.busy": "2022-08-09T07:39:58.885223Z",
     "iopub.status.idle": "2022-08-09T07:39:58.889502Z",
     "shell.execute_reply": "2022-08-09T07:39:58.888656Z"
    },
    "papermill": {
     "duration": 0.015242,
     "end_time": "2022-08-09T07:39:58.891549",
     "exception": false,
     "start_time": "2022-08-09T07:39:58.876307",
     "status": "completed"
    },
    "tags": []
   },
   "outputs": [],
   "source": [
    "# Uncomment to see a hint\n",
    "#q3.hint()\n",
    "\n",
    "# Uncomment to view the solution\n",
    "#q3.solution()"
   ]
  },
  {
   "cell_type": "markdown",
   "id": "2ecd40cc",
   "metadata": {
    "papermill": {
     "duration": 0.006934,
     "end_time": "2022-08-09T07:39:58.905739",
     "exception": false,
     "start_time": "2022-08-09T07:39:58.898805",
     "status": "completed"
    },
    "tags": []
   },
   "source": [
    "# Question 4\n",
    "\n",
    "We'll continue our study of boolean arithmetic.  For this question, your task is to provide a description of what happpens when you add booleans. \n",
    "\n",
    "Use the next code cell for your investigation.  Feel free to add or remove any lines of code - use it as your workspace!"
   ]
  },
  {
   "cell_type": "code",
   "execution_count": 9,
   "id": "c9358bed",
   "metadata": {
    "execution": {
     "iopub.execute_input": "2022-08-09T07:39:58.922432Z",
     "iopub.status.busy": "2022-08-09T07:39:58.921553Z",
     "iopub.status.idle": "2022-08-09T07:39:58.927140Z",
     "shell.execute_reply": "2022-08-09T07:39:58.926105Z"
    },
    "papermill": {
     "duration": 0.01654,
     "end_time": "2022-08-09T07:39:58.929685",
     "exception": false,
     "start_time": "2022-08-09T07:39:58.913145",
     "status": "completed"
    },
    "tags": []
   },
   "outputs": [
    {
     "name": "stdout",
     "output_type": "stream",
     "text": [
      "0\n",
      "1\n",
      "1\n",
      "2\n",
      "3\n"
     ]
    }
   ],
   "source": [
    "print(False + False)\n",
    "print(True + False)\n",
    "print(False + True)\n",
    "print(True + True)\n",
    "print(False + True + True + True)"
   ]
  },
  {
   "cell_type": "markdown",
   "id": "ef8d19b0",
   "metadata": {
    "papermill": {
     "duration": 0.007098,
     "end_time": "2022-08-09T07:39:58.944292",
     "exception": false,
     "start_time": "2022-08-09T07:39:58.937194",
     "status": "completed"
    },
    "tags": []
   },
   "source": [
    "Once you have an answer, run the code cell below to see the solution.  Viewing the solution will give you credit for answering the problem."
   ]
  },
  {
   "cell_type": "code",
   "execution_count": 10,
   "id": "6616e07e",
   "metadata": {
    "execution": {
     "iopub.execute_input": "2022-08-09T07:39:58.961364Z",
     "iopub.status.busy": "2022-08-09T07:39:58.960916Z",
     "iopub.status.idle": "2022-08-09T07:39:58.969869Z",
     "shell.execute_reply": "2022-08-09T07:39:58.968878Z"
    },
    "papermill": {
     "duration": 0.019795,
     "end_time": "2022-08-09T07:39:58.971999",
     "exception": false,
     "start_time": "2022-08-09T07:39:58.952204",
     "status": "completed"
    },
    "tags": []
   },
   "outputs": [
    {
     "data": {
      "application/javascript": [
       "parent.postMessage({\"jupyterEvent\": \"custom.exercise_interaction\", \"data\": {\"outcomeType\": 1, \"valueTowardsCompletion\": 0.2, \"interactionType\": 1, \"questionType\": 4, \"questionId\": \"4_AddingBooleans\", \"learnToolsVersion\": \"0.3.4\", \"failureMessage\": \"\", \"exceptionClass\": \"\", \"trace\": \"\"}}, \"*\")"
      ],
      "text/plain": [
       "<IPython.core.display.Javascript object>"
      ]
     },
     "metadata": {},
     "output_type": "display_data"
    },
    {
     "data": {
      "text/markdown": [
       "<span style=\"color:#33cc33\">Correct:</span> \n",
       "\n",
       "When you add booleans, adding `False` is equivalent to adding 0, and adding `True` is equivalent to adding 1."
      ],
      "text/plain": [
       "Correct: \n",
       "\n",
       "When you add booleans, adding `False` is equivalent to adding 0, and adding `True` is equivalent to adding 1."
      ]
     },
     "metadata": {},
     "output_type": "display_data"
    }
   ],
   "source": [
    "# Check your answer (Run this code cell to receive credit!)\n",
    "q4.check()"
   ]
  },
  {
   "cell_type": "markdown",
   "id": "6589e9a9",
   "metadata": {
    "papermill": {
     "duration": 0.007391,
     "end_time": "2022-08-09T07:39:58.987045",
     "exception": false,
     "start_time": "2022-08-09T07:39:58.979654",
     "status": "completed"
    },
    "tags": []
   },
   "source": [
    "# 🌶️ Question 5\n",
    "\n",
    "You own an online shop where you sell rings with custom engravings.  You offer both gold plated and solid gold rings.\n",
    "- Gold plated rings have a base cost of \\\\$50, and you charge \\\\$7 per engraved unit.  \n",
    "- Solid gold rings have a base cost of \\\\$100, and you charge \\\\$10 per engraved unit.\n",
    "- Spaces and punctuation are counted as engraved units.\n",
    "\n",
    "Write a function `cost_of_project()` that takes two arguments:\n",
    "- `engraving` - a Python string with the text of the engraving\n",
    "- `solid_gold` - a Boolean that indicates whether the ring is solid gold\n",
    "\n",
    "It should return the cost of the project.  This question should be fairly challenging, and you may need a hint."
   ]
  },
  {
   "cell_type": "code",
   "execution_count": 11,
   "id": "93cbc910",
   "metadata": {
    "execution": {
     "iopub.execute_input": "2022-08-09T07:39:59.004570Z",
     "iopub.status.busy": "2022-08-09T07:39:59.003586Z",
     "iopub.status.idle": "2022-08-09T07:39:59.013451Z",
     "shell.execute_reply": "2022-08-09T07:39:59.012278Z"
    },
    "papermill": {
     "duration": 0.020885,
     "end_time": "2022-08-09T07:39:59.015642",
     "exception": false,
     "start_time": "2022-08-09T07:39:58.994757",
     "status": "completed"
    },
    "tags": []
   },
   "outputs": [
    {
     "data": {
      "application/javascript": [
       "parent.postMessage({\"jupyterEvent\": \"custom.exercise_interaction\", \"data\": {\"outcomeType\": 1, \"valueTowardsCompletion\": 0.2, \"interactionType\": 1, \"questionType\": 2, \"questionId\": \"5_CustomEngravings\", \"learnToolsVersion\": \"0.3.4\", \"failureMessage\": \"\", \"exceptionClass\": \"\", \"trace\": \"\"}}, \"*\")"
      ],
      "text/plain": [
       "<IPython.core.display.Javascript object>"
      ]
     },
     "metadata": {},
     "output_type": "display_data"
    },
    {
     "data": {
      "text/markdown": [
       "<span style=\"color:#33cc33\">Correct</span>"
      ],
      "text/plain": [
       "Correct"
      ]
     },
     "metadata": {},
     "output_type": "display_data"
    }
   ],
   "source": [
    "def cost_of_project(engraving, solid_gold):\n",
    "    L = len(engraving)\n",
    "    cost = L*10+100 if solid_gold else L*7+50\n",
    "    return cost\n",
    "\n",
    "# Check your answer\n",
    "q5.check()"
   ]
  },
  {
   "cell_type": "code",
   "execution_count": 12,
   "id": "6f2ac269",
   "metadata": {
    "execution": {
     "iopub.execute_input": "2022-08-09T07:39:59.033471Z",
     "iopub.status.busy": "2022-08-09T07:39:59.032782Z",
     "iopub.status.idle": "2022-08-09T07:39:59.036638Z",
     "shell.execute_reply": "2022-08-09T07:39:59.035758Z"
    },
    "papermill": {
     "duration": 0.015204,
     "end_time": "2022-08-09T07:39:59.038780",
     "exception": false,
     "start_time": "2022-08-09T07:39:59.023576",
     "status": "completed"
    },
    "tags": []
   },
   "outputs": [],
   "source": [
    "# Uncomment to see a hint\n",
    "#q5.hint()\n",
    "\n",
    "# Uncomment to view the solution\n",
    "#q5.solution()"
   ]
  },
  {
   "cell_type": "markdown",
   "id": "315db0cd",
   "metadata": {
    "papermill": {
     "duration": 0.007549,
     "end_time": "2022-08-09T07:39:59.054160",
     "exception": false,
     "start_time": "2022-08-09T07:39:59.046611",
     "status": "completed"
    },
    "tags": []
   },
   "source": [
    "Run the next code cell to calculate the cost of engraving `Charlie+Denver` on a solid gold ring."
   ]
  },
  {
   "cell_type": "code",
   "execution_count": 13,
   "id": "9af23ee5",
   "metadata": {
    "execution": {
     "iopub.execute_input": "2022-08-09T07:39:59.071749Z",
     "iopub.status.busy": "2022-08-09T07:39:59.071131Z",
     "iopub.status.idle": "2022-08-09T07:39:59.075987Z",
     "shell.execute_reply": "2022-08-09T07:39:59.074987Z"
    },
    "papermill": {
     "duration": 0.016475,
     "end_time": "2022-08-09T07:39:59.078342",
     "exception": false,
     "start_time": "2022-08-09T07:39:59.061867",
     "status": "completed"
    },
    "tags": []
   },
   "outputs": [
    {
     "name": "stdout",
     "output_type": "stream",
     "text": [
      "240\n"
     ]
    }
   ],
   "source": [
    "project_one = cost_of_project(\"Charlie+Denver\", True)\n",
    "print(project_one)"
   ]
  },
  {
   "cell_type": "markdown",
   "id": "c9ad7441",
   "metadata": {
    "papermill": {
     "duration": 0.007747,
     "end_time": "2022-08-09T07:39:59.094064",
     "exception": false,
     "start_time": "2022-08-09T07:39:59.086317",
     "status": "completed"
    },
    "tags": []
   },
   "source": [
    "Use the next code cell to calculate the cost of engraving `08/10/2000` on a gold plated ring."
   ]
  },
  {
   "cell_type": "code",
   "execution_count": 14,
   "id": "2d7a54b4",
   "metadata": {
    "execution": {
     "iopub.execute_input": "2022-08-09T07:39:59.112081Z",
     "iopub.status.busy": "2022-08-09T07:39:59.111467Z",
     "iopub.status.idle": "2022-08-09T07:39:59.116292Z",
     "shell.execute_reply": "2022-08-09T07:39:59.115437Z"
    },
    "papermill": {
     "duration": 0.016657,
     "end_time": "2022-08-09T07:39:59.118702",
     "exception": false,
     "start_time": "2022-08-09T07:39:59.102045",
     "status": "completed"
    },
    "tags": []
   },
   "outputs": [
    {
     "name": "stdout",
     "output_type": "stream",
     "text": [
      "120\n"
     ]
    }
   ],
   "source": [
    "project_two = cost_of_project(\"08/10/2000\", False)\n",
    "print(project_two)"
   ]
  },
  {
   "cell_type": "markdown",
   "id": "b1e9aa67",
   "metadata": {
    "papermill": {
     "duration": 0.007747,
     "end_time": "2022-08-09T07:39:59.134476",
     "exception": false,
     "start_time": "2022-08-09T07:39:59.126729",
     "status": "completed"
    },
    "tags": []
   },
   "source": [
    "# Keep going\n",
    "\n",
    "Continue to the next lesson to **[learn about conditions and conditional statements](https://www.kaggle.com/alexisbcook/conditions-and-conditional-statements)**."
   ]
  },
  {
   "cell_type": "markdown",
   "id": "dc786603",
   "metadata": {
    "papermill": {
     "duration": 0.007594,
     "end_time": "2022-08-09T07:39:59.150104",
     "exception": false,
     "start_time": "2022-08-09T07:39:59.142510",
     "status": "completed"
    },
    "tags": []
   },
   "source": [
    "---\n",
    "\n",
    "\n",
    "\n",
    "\n",
    "*Have questions or comments? Visit the [course discussion forum](https://www.kaggle.com/learn/intro-to-programming/discussion) to chat with other learners.*"
   ]
  }
 ],
 "metadata": {
  "kernelspec": {
   "display_name": "Python 3",
   "language": "python",
   "name": "python3"
  },
  "language_info": {
   "codemirror_mode": {
    "name": "ipython",
    "version": 3
   },
   "file_extension": ".py",
   "mimetype": "text/x-python",
   "name": "python",
   "nbconvert_exporter": "python",
   "pygments_lexer": "ipython3",
   "version": "3.7.12"
  },
  "papermill": {
   "default_parameters": {},
   "duration": 10.744866,
   "end_time": "2022-08-09T07:39:59.880607",
   "environment_variables": {},
   "exception": null,
   "input_path": "__notebook__.ipynb",
   "output_path": "__notebook__.ipynb",
   "parameters": {},
   "start_time": "2022-08-09T07:39:49.135741",
   "version": "2.3.4"
  }
 },
 "nbformat": 4,
 "nbformat_minor": 5
}
