{
 "cells": [
  {
   "cell_type": "markdown",
   "id": "48cb160c",
   "metadata": {
    "papermill": {
     "duration": 0.006308,
     "end_time": "2022-08-10T03:55:35.590844",
     "exception": false,
     "start_time": "2022-08-10T03:55:35.584536",
     "status": "completed"
    },
    "tags": []
   },
   "source": [
    "**This notebook is an exercise in the [Introduction to Machine Learning](https://www.kaggle.com/learn/intro-to-machine-learning) course.  You can reference the tutorial at [this link](https://www.kaggle.com/dansbecker/your-first-machine-learning-model).**\n",
    "\n",
    "---\n"
   ]
  },
  {
   "cell_type": "markdown",
   "id": "accd76bd",
   "metadata": {
    "papermill": {
     "duration": 0.004629,
     "end_time": "2022-08-10T03:55:35.600619",
     "exception": false,
     "start_time": "2022-08-10T03:55:35.595990",
     "status": "completed"
    },
    "tags": []
   },
   "source": [
    "## Recap\n",
    "So far, you have loaded your data and reviewed it with the following code. Run this cell to set up your coding environment where the previous step left off."
   ]
  },
  {
   "cell_type": "code",
   "execution_count": 1,
   "id": "ab6d3584",
   "metadata": {
    "execution": {
     "iopub.execute_input": "2022-08-10T03:55:35.613197Z",
     "iopub.status.busy": "2022-08-10T03:55:35.612228Z",
     "iopub.status.idle": "2022-08-10T03:55:37.017694Z",
     "shell.execute_reply": "2022-08-10T03:55:37.015879Z"
    },
    "papermill": {
     "duration": 1.415854,
     "end_time": "2022-08-10T03:55:37.021411",
     "exception": false,
     "start_time": "2022-08-10T03:55:35.605557",
     "status": "completed"
    },
    "tags": []
   },
   "outputs": [
    {
     "name": "stdout",
     "output_type": "stream",
     "text": [
      "Setup Complete\n"
     ]
    }
   ],
   "source": [
    "# Code you have previously used to load data\n",
    "import pandas as pd\n",
    "\n",
    "# Path of the file to read\n",
    "iowa_file_path = '../input/home-data-for-ml-course/train.csv'\n",
    "\n",
    "home_data = pd.read_csv(iowa_file_path)\n",
    "\n",
    "# Set up code checking\n",
    "from learntools.core import binder\n",
    "binder.bind(globals())\n",
    "from learntools.machine_learning.ex3 import *\n",
    "\n",
    "print(\"Setup Complete\")"
   ]
  },
  {
   "cell_type": "markdown",
   "id": "e98b7575",
   "metadata": {
    "papermill": {
     "duration": 0.005233,
     "end_time": "2022-08-10T03:55:37.034912",
     "exception": false,
     "start_time": "2022-08-10T03:55:37.029679",
     "status": "completed"
    },
    "tags": []
   },
   "source": [
    "# Exercises\n",
    "\n",
    "## Step 1: Specify Prediction Target\n",
    "Select the target variable, which corresponds to the sales price. Save this to a new variable called `y`. You'll need to print a list of the columns to find the name of the column you need.\n"
   ]
  },
  {
   "cell_type": "code",
   "execution_count": 2,
   "id": "cd2fdf5c",
   "metadata": {
    "execution": {
     "iopub.execute_input": "2022-08-10T03:55:37.048187Z",
     "iopub.status.busy": "2022-08-10T03:55:37.047296Z",
     "iopub.status.idle": "2022-08-10T03:55:37.057574Z",
     "shell.execute_reply": "2022-08-10T03:55:37.056713Z"
    },
    "papermill": {
     "duration": 0.019529,
     "end_time": "2022-08-10T03:55:37.059699",
     "exception": false,
     "start_time": "2022-08-10T03:55:37.040170",
     "status": "completed"
    },
    "tags": []
   },
   "outputs": [
    {
     "data": {
      "text/plain": [
       "Index(['Id', 'MSSubClass', 'MSZoning', 'LotFrontage', 'LotArea', 'Street',\n",
       "       'Alley', 'LotShape', 'LandContour', 'Utilities', 'LotConfig',\n",
       "       'LandSlope', 'Neighborhood', 'Condition1', 'Condition2', 'BldgType',\n",
       "       'HouseStyle', 'OverallQual', 'OverallCond', 'YearBuilt', 'YearRemodAdd',\n",
       "       'RoofStyle', 'RoofMatl', 'Exterior1st', 'Exterior2nd', 'MasVnrType',\n",
       "       'MasVnrArea', 'ExterQual', 'ExterCond', 'Foundation', 'BsmtQual',\n",
       "       'BsmtCond', 'BsmtExposure', 'BsmtFinType1', 'BsmtFinSF1',\n",
       "       'BsmtFinType2', 'BsmtFinSF2', 'BsmtUnfSF', 'TotalBsmtSF', 'Heating',\n",
       "       'HeatingQC', 'CentralAir', 'Electrical', '1stFlrSF', '2ndFlrSF',\n",
       "       'LowQualFinSF', 'GrLivArea', 'BsmtFullBath', 'BsmtHalfBath', 'FullBath',\n",
       "       'HalfBath', 'BedroomAbvGr', 'KitchenAbvGr', 'KitchenQual',\n",
       "       'TotRmsAbvGrd', 'Functional', 'Fireplaces', 'FireplaceQu', 'GarageType',\n",
       "       'GarageYrBlt', 'GarageFinish', 'GarageCars', 'GarageArea', 'GarageQual',\n",
       "       'GarageCond', 'PavedDrive', 'WoodDeckSF', 'OpenPorchSF',\n",
       "       'EnclosedPorch', '3SsnPorch', 'ScreenPorch', 'PoolArea', 'PoolQC',\n",
       "       'Fence', 'MiscFeature', 'MiscVal', 'MoSold', 'YrSold', 'SaleType',\n",
       "       'SaleCondition', 'SalePrice'],\n",
       "      dtype='object')"
      ]
     },
     "execution_count": 2,
     "metadata": {},
     "output_type": "execute_result"
    }
   ],
   "source": [
    "# print the list of columns in the dataset to find the name of the prediction target\n",
    "home_data.columns\n"
   ]
  },
  {
   "cell_type": "code",
   "execution_count": 3,
   "id": "2de24bb4",
   "metadata": {
    "execution": {
     "iopub.execute_input": "2022-08-10T03:55:37.078511Z",
     "iopub.status.busy": "2022-08-10T03:55:37.077136Z",
     "iopub.status.idle": "2022-08-10T03:55:37.093758Z",
     "shell.execute_reply": "2022-08-10T03:55:37.092369Z"
    },
    "papermill": {
     "duration": 0.031243,
     "end_time": "2022-08-10T03:55:37.097431",
     "exception": false,
     "start_time": "2022-08-10T03:55:37.066188",
     "status": "completed"
    },
    "tags": []
   },
   "outputs": [
    {
     "data": {
      "application/javascript": [
       "parent.postMessage({\"jupyterEvent\": \"custom.exercise_interaction\", \"data\": {\"outcomeType\": 1, \"valueTowardsCompletion\": 0.25, \"interactionType\": 1, \"questionType\": 2, \"questionId\": \"1_SetTarget\", \"learnToolsVersion\": \"0.3.4\", \"failureMessage\": \"\", \"exceptionClass\": \"\", \"trace\": \"\"}}, \"*\")"
      ],
      "text/plain": [
       "<IPython.core.display.Javascript object>"
      ]
     },
     "metadata": {},
     "output_type": "display_data"
    },
    {
     "data": {
      "text/markdown": [
       "<span style=\"color:#33cc33\">Correct</span>"
      ],
      "text/plain": [
       "Correct"
      ]
     },
     "metadata": {},
     "output_type": "display_data"
    }
   ],
   "source": [
    "#y = home_data['SalePrice']\n",
    "y = home_data.SalePrice\n",
    "\n",
    "# Check your answer\n",
    "step_1.check()"
   ]
  },
  {
   "cell_type": "code",
   "execution_count": 4,
   "id": "deceb36d",
   "metadata": {
    "collapsed": true,
    "execution": {
     "iopub.execute_input": "2022-08-10T03:55:37.110764Z",
     "iopub.status.busy": "2022-08-10T03:55:37.110355Z",
     "iopub.status.idle": "2022-08-10T03:55:37.114436Z",
     "shell.execute_reply": "2022-08-10T03:55:37.113408Z"
    },
    "jupyter": {
     "outputs_hidden": true
    },
    "papermill": {
     "duration": 0.01338,
     "end_time": "2022-08-10T03:55:37.116610",
     "exception": false,
     "start_time": "2022-08-10T03:55:37.103230",
     "status": "completed"
    },
    "tags": []
   },
   "outputs": [],
   "source": [
    "# The lines below will show you a hint or the solution.\n",
    "# step_1.hint() \n",
    "# step_1.solution()"
   ]
  },
  {
   "cell_type": "markdown",
   "id": "96da24bf",
   "metadata": {
    "papermill": {
     "duration": 0.005979,
     "end_time": "2022-08-10T03:55:37.128759",
     "exception": false,
     "start_time": "2022-08-10T03:55:37.122780",
     "status": "completed"
    },
    "tags": []
   },
   "source": [
    "## Step 2: Create X\n",
    "Now you will create a DataFrame called `X` holding the predictive features.\n",
    "\n",
    "Since you want only some columns from the original data, you'll first create a list with the names of the columns you want in `X`.\n",
    "\n",
    "You'll use just the following columns in the list (you can copy and paste the whole list to save some typing, though you'll still need to add quotes):\n",
    "  * LotArea\n",
    "  * YearBuilt\n",
    "  * 1stFlrSF\n",
    "  * 2ndFlrSF\n",
    "  * FullBath\n",
    "  * BedroomAbvGr\n",
    "  * TotRmsAbvGrd\n",
    "\n",
    "After you've created that list of features, use it to create the DataFrame that you'll use to fit the model."
   ]
  },
  {
   "cell_type": "code",
   "execution_count": 5,
   "id": "e3f67d51",
   "metadata": {
    "execution": {
     "iopub.execute_input": "2022-08-10T03:55:37.142637Z",
     "iopub.status.busy": "2022-08-10T03:55:37.141602Z",
     "iopub.status.idle": "2022-08-10T03:55:37.157861Z",
     "shell.execute_reply": "2022-08-10T03:55:37.157053Z"
    },
    "papermill": {
     "duration": 0.025462,
     "end_time": "2022-08-10T03:55:37.160005",
     "exception": false,
     "start_time": "2022-08-10T03:55:37.134543",
     "status": "completed"
    },
    "tags": []
   },
   "outputs": [
    {
     "data": {
      "application/javascript": [
       "parent.postMessage({\"jupyterEvent\": \"custom.exercise_interaction\", \"data\": {\"outcomeType\": 1, \"valueTowardsCompletion\": 0.25, \"interactionType\": 1, \"questionType\": 2, \"questionId\": \"2_SelectPredictionData\", \"learnToolsVersion\": \"0.3.4\", \"failureMessage\": \"\", \"exceptionClass\": \"\", \"trace\": \"\"}}, \"*\")"
      ],
      "text/plain": [
       "<IPython.core.display.Javascript object>"
      ]
     },
     "metadata": {},
     "output_type": "display_data"
    },
    {
     "data": {
      "text/markdown": [
       "<span style=\"color:#33cc33\">Correct</span>"
      ],
      "text/plain": [
       "Correct"
      ]
     },
     "metadata": {},
     "output_type": "display_data"
    }
   ],
   "source": [
    "# Create the list of features below\n",
    "feature_names = ['LotArea', 'YearBuilt', '1stFlrSF', '2ndFlrSF', 'FullBath', 'BedroomAbvGr', 'TotRmsAbvGrd']\n",
    "\n",
    "# Select data corresponding to features in feature_names\n",
    "X = home_data[feature_names]\n",
    "\n",
    "# Check your answer\n",
    "step_2.check()"
   ]
  },
  {
   "cell_type": "code",
   "execution_count": 6,
   "id": "08bd82e1",
   "metadata": {
    "collapsed": true,
    "execution": {
     "iopub.execute_input": "2022-08-10T03:55:37.174325Z",
     "iopub.status.busy": "2022-08-10T03:55:37.172807Z",
     "iopub.status.idle": "2022-08-10T03:55:37.177574Z",
     "shell.execute_reply": "2022-08-10T03:55:37.176809Z"
    },
    "jupyter": {
     "outputs_hidden": true
    },
    "papermill": {
     "duration": 0.013838,
     "end_time": "2022-08-10T03:55:37.179596",
     "exception": false,
     "start_time": "2022-08-10T03:55:37.165758",
     "status": "completed"
    },
    "tags": []
   },
   "outputs": [],
   "source": [
    "# step_2.hint()\n",
    "# step_2.solution()"
   ]
  },
  {
   "cell_type": "markdown",
   "id": "1650096a",
   "metadata": {
    "papermill": {
     "duration": 0.005384,
     "end_time": "2022-08-10T03:55:37.190783",
     "exception": false,
     "start_time": "2022-08-10T03:55:37.185399",
     "status": "completed"
    },
    "tags": []
   },
   "source": [
    "## Review Data\n",
    "Before building a model, take a quick look at **X** to verify it looks sensible"
   ]
  },
  {
   "cell_type": "code",
   "execution_count": 7,
   "id": "58cca198",
   "metadata": {
    "execution": {
     "iopub.execute_input": "2022-08-10T03:55:37.204195Z",
     "iopub.status.busy": "2022-08-10T03:55:37.203403Z",
     "iopub.status.idle": "2022-08-10T03:55:37.239899Z",
     "shell.execute_reply": "2022-08-10T03:55:37.238998Z"
    },
    "papermill": {
     "duration": 0.046173,
     "end_time": "2022-08-10T03:55:37.242647",
     "exception": false,
     "start_time": "2022-08-10T03:55:37.196474",
     "status": "completed"
    },
    "tags": []
   },
   "outputs": [
    {
     "name": "stdout",
     "output_type": "stream",
     "text": [
      "             LotArea    YearBuilt     1stFlrSF     2ndFlrSF     FullBath  \\\n",
      "count    1460.000000  1460.000000  1460.000000  1460.000000  1460.000000   \n",
      "mean    10516.828082  1971.267808  1162.626712   346.992466     1.565068   \n",
      "std      9981.264932    30.202904   386.587738   436.528436     0.550916   \n",
      "min      1300.000000  1872.000000   334.000000     0.000000     0.000000   \n",
      "25%      7553.500000  1954.000000   882.000000     0.000000     1.000000   \n",
      "50%      9478.500000  1973.000000  1087.000000     0.000000     2.000000   \n",
      "75%     11601.500000  2000.000000  1391.250000   728.000000     2.000000   \n",
      "max    215245.000000  2010.000000  4692.000000  2065.000000     3.000000   \n",
      "\n",
      "       BedroomAbvGr  TotRmsAbvGrd  \n",
      "count   1460.000000   1460.000000  \n",
      "mean       2.866438      6.517808  \n",
      "std        0.815778      1.625393  \n",
      "min        0.000000      2.000000  \n",
      "25%        2.000000      5.000000  \n",
      "50%        3.000000      6.000000  \n",
      "75%        3.000000      7.000000  \n",
      "max        8.000000     14.000000  \n",
      "   LotArea  YearBuilt  1stFlrSF  2ndFlrSF  FullBath  BedroomAbvGr  \\\n",
      "0     8450       2003       856       854         2             3   \n",
      "1     9600       1976      1262         0         2             3   \n",
      "2    11250       2001       920       866         2             3   \n",
      "3     9550       1915       961       756         1             3   \n",
      "4    14260       2000      1145      1053         2             4   \n",
      "\n",
      "   TotRmsAbvGrd  \n",
      "0             8  \n",
      "1             6  \n",
      "2             6  \n",
      "3             7  \n",
      "4             9  \n"
     ]
    }
   ],
   "source": [
    "# Review data\n",
    "# print description or statistics from X\n",
    "print(X.describe())\n",
    "\n",
    "# print the top few lines\n",
    "print(X.head())"
   ]
  },
  {
   "cell_type": "markdown",
   "id": "1991965d",
   "metadata": {
    "papermill": {
     "duration": 0.005482,
     "end_time": "2022-08-10T03:55:37.254679",
     "exception": false,
     "start_time": "2022-08-10T03:55:37.249197",
     "status": "completed"
    },
    "tags": []
   },
   "source": [
    "## Step 3: Specify and Fit Model\n",
    "Create a `DecisionTreeRegressor` and save it iowa_model. Ensure you've done the relevant import from sklearn to run this command.\n",
    "\n",
    "Then fit the model you just created using the data in `X` and `y` that you saved above."
   ]
  },
  {
   "cell_type": "code",
   "execution_count": 8,
   "id": "b3d6ad77",
   "metadata": {
    "execution": {
     "iopub.execute_input": "2022-08-10T03:55:37.269041Z",
     "iopub.status.busy": "2022-08-10T03:55:37.268185Z",
     "iopub.status.idle": "2022-08-10T03:55:37.289080Z",
     "shell.execute_reply": "2022-08-10T03:55:37.288192Z"
    },
    "papermill": {
     "duration": 0.03096,
     "end_time": "2022-08-10T03:55:37.291361",
     "exception": false,
     "start_time": "2022-08-10T03:55:37.260401",
     "status": "completed"
    },
    "tags": []
   },
   "outputs": [
    {
     "data": {
      "application/javascript": [
       "parent.postMessage({\"jupyterEvent\": \"custom.exercise_interaction\", \"data\": {\"outcomeType\": 1, \"valueTowardsCompletion\": 0.25, \"interactionType\": 1, \"questionType\": 2, \"questionId\": \"3_CreateModel\", \"learnToolsVersion\": \"0.3.4\", \"failureMessage\": \"\", \"exceptionClass\": \"\", \"trace\": \"\"}}, \"*\")"
      ],
      "text/plain": [
       "<IPython.core.display.Javascript object>"
      ]
     },
     "metadata": {},
     "output_type": "display_data"
    },
    {
     "data": {
      "text/markdown": [
       "<span style=\"color:#33cc33\">Correct</span>"
      ],
      "text/plain": [
       "Correct"
      ]
     },
     "metadata": {},
     "output_type": "display_data"
    }
   ],
   "source": [
    "from sklearn.tree import DecisionTreeRegressor\n",
    "#specify the model. \n",
    "#For model reproducibility, set a numeric value for random_state when specifying the model\n",
    "iowa_model = DecisionTreeRegressor(random_state=1)\n",
    "\n",
    "# Fit the model\n",
    "iowa_model.fit(X,y)\n",
    "\n",
    "# Check your answer\n",
    "step_3.check()"
   ]
  },
  {
   "cell_type": "code",
   "execution_count": 9,
   "id": "f9fe3723",
   "metadata": {
    "collapsed": true,
    "execution": {
     "iopub.execute_input": "2022-08-10T03:55:37.305792Z",
     "iopub.status.busy": "2022-08-10T03:55:37.305014Z",
     "iopub.status.idle": "2022-08-10T03:55:37.309798Z",
     "shell.execute_reply": "2022-08-10T03:55:37.308929Z"
    },
    "jupyter": {
     "outputs_hidden": true
    },
    "papermill": {
     "duration": 0.014712,
     "end_time": "2022-08-10T03:55:37.312130",
     "exception": false,
     "start_time": "2022-08-10T03:55:37.297418",
     "status": "completed"
    },
    "tags": []
   },
   "outputs": [],
   "source": [
    "# step_3.hint()\n",
    "# step_3.solution()"
   ]
  },
  {
   "cell_type": "markdown",
   "id": "977cfbd9",
   "metadata": {
    "papermill": {
     "duration": 0.006063,
     "end_time": "2022-08-10T03:55:37.324348",
     "exception": false,
     "start_time": "2022-08-10T03:55:37.318285",
     "status": "completed"
    },
    "tags": []
   },
   "source": [
    "## Step 4: Make Predictions\n",
    "Make predictions with the model's `predict` command using `X` as the data. Save the results to a variable called `predictions`."
   ]
  },
  {
   "cell_type": "code",
   "execution_count": 10,
   "id": "8390be9c",
   "metadata": {
    "execution": {
     "iopub.execute_input": "2022-08-10T03:55:37.338751Z",
     "iopub.status.busy": "2022-08-10T03:55:37.337895Z",
     "iopub.status.idle": "2022-08-10T03:55:37.354141Z",
     "shell.execute_reply": "2022-08-10T03:55:37.352988Z"
    },
    "papermill": {
     "duration": 0.026089,
     "end_time": "2022-08-10T03:55:37.356532",
     "exception": false,
     "start_time": "2022-08-10T03:55:37.330443",
     "status": "completed"
    },
    "tags": []
   },
   "outputs": [
    {
     "name": "stdout",
     "output_type": "stream",
     "text": [
      "[208500. 181500. 223500. ... 266500. 142125. 147500.]\n"
     ]
    },
    {
     "data": {
      "application/javascript": [
       "parent.postMessage({\"jupyterEvent\": \"custom.exercise_interaction\", \"data\": {\"outcomeType\": 1, \"valueTowardsCompletion\": 0.25, \"interactionType\": 1, \"questionType\": 2, \"questionId\": \"4_MakePredictions\", \"learnToolsVersion\": \"0.3.4\", \"failureMessage\": \"\", \"exceptionClass\": \"\", \"trace\": \"\"}}, \"*\")"
      ],
      "text/plain": [
       "<IPython.core.display.Javascript object>"
      ]
     },
     "metadata": {},
     "output_type": "display_data"
    },
    {
     "data": {
      "text/markdown": [
       "<span style=\"color:#33cc33\">Correct</span>"
      ],
      "text/plain": [
       "Correct"
      ]
     },
     "metadata": {},
     "output_type": "display_data"
    }
   ],
   "source": [
    "predictions = iowa_model.predict(X)\n",
    "print(predictions)\n",
    "\n",
    "# Check your answer\n",
    "step_4.check()"
   ]
  },
  {
   "cell_type": "code",
   "execution_count": 11,
   "id": "7fc1e657",
   "metadata": {
    "collapsed": true,
    "execution": {
     "iopub.execute_input": "2022-08-10T03:55:37.371398Z",
     "iopub.status.busy": "2022-08-10T03:55:37.370615Z",
     "iopub.status.idle": "2022-08-10T03:55:37.375248Z",
     "shell.execute_reply": "2022-08-10T03:55:37.374398Z"
    },
    "jupyter": {
     "outputs_hidden": true
    },
    "papermill": {
     "duration": 0.014703,
     "end_time": "2022-08-10T03:55:37.377532",
     "exception": false,
     "start_time": "2022-08-10T03:55:37.362829",
     "status": "completed"
    },
    "tags": []
   },
   "outputs": [],
   "source": [
    "# step_4.hint()\n",
    "# step_4.solution()"
   ]
  },
  {
   "cell_type": "markdown",
   "id": "1aa88eb4",
   "metadata": {
    "papermill": {
     "duration": 0.006281,
     "end_time": "2022-08-10T03:55:37.390321",
     "exception": false,
     "start_time": "2022-08-10T03:55:37.384040",
     "status": "completed"
    },
    "tags": []
   },
   "source": [
    "## Think About Your Results\n",
    "\n",
    "Use the `head` method to compare the top few predictions to the actual home values (in `y`) for those same homes. Anything surprising?\n"
   ]
  },
  {
   "cell_type": "code",
   "execution_count": 12,
   "id": "bcdc19b7",
   "metadata": {
    "execution": {
     "iopub.execute_input": "2022-08-10T03:55:37.405537Z",
     "iopub.status.busy": "2022-08-10T03:55:37.404730Z",
     "iopub.status.idle": "2022-08-10T03:55:37.413577Z",
     "shell.execute_reply": "2022-08-10T03:55:37.412490Z"
    },
    "papermill": {
     "duration": 0.019049,
     "end_time": "2022-08-10T03:55:37.415789",
     "exception": false,
     "start_time": "2022-08-10T03:55:37.396740",
     "status": "completed"
    },
    "tags": []
   },
   "outputs": [
    {
     "name": "stdout",
     "output_type": "stream",
     "text": [
      "[208500. 181500. 223500. 140000. 250000.]\n",
      "0    208500\n",
      "1    181500\n",
      "2    223500\n",
      "3    140000\n",
      "4    250000\n",
      "Name: SalePrice, dtype: int64\n"
     ]
    }
   ],
   "source": [
    "# You can write code in this cell\n",
    "print(iowa_model.predict(X.head()))\n",
    "print(y.head())"
   ]
  },
  {
   "cell_type": "markdown",
   "id": "0192599f",
   "metadata": {
    "papermill": {
     "duration": 0.006149,
     "end_time": "2022-08-10T03:55:37.428414",
     "exception": false,
     "start_time": "2022-08-10T03:55:37.422265",
     "status": "completed"
    },
    "tags": []
   },
   "source": [
    "It's natural to ask how accurate the model's predictions will be and how you can improve that. That will be you're next step.\n",
    "\n",
    "# Keep Going\n",
    "\n",
    "You are ready for **[Model Validation](https://www.kaggle.com/dansbecker/model-validation).**\n"
   ]
  },
  {
   "cell_type": "markdown",
   "id": "5579ffad",
   "metadata": {
    "papermill": {
     "duration": 0.006135,
     "end_time": "2022-08-10T03:55:37.440903",
     "exception": false,
     "start_time": "2022-08-10T03:55:37.434768",
     "status": "completed"
    },
    "tags": []
   },
   "source": [
    "---\n",
    "\n",
    "\n",
    "\n",
    "\n",
    "*Have questions or comments? Visit the [course discussion forum](https://www.kaggle.com/learn/intro-to-machine-learning/discussion) to chat with other learners.*"
   ]
  }
 ],
 "metadata": {
  "kernelspec": {
   "display_name": "Python 3",
   "language": "python",
   "name": "python3"
  },
  "language_info": {
   "codemirror_mode": {
    "name": "ipython",
    "version": 3
   },
   "file_extension": ".py",
   "mimetype": "text/x-python",
   "name": "python",
   "nbconvert_exporter": "python",
   "pygments_lexer": "ipython3",
   "version": "3.7.12"
  },
  "papermill": {
   "default_parameters": {},
   "duration": 11.783678,
   "end_time": "2022-08-10T03:55:38.169649",
   "environment_variables": {},
   "exception": null,
   "input_path": "__notebook__.ipynb",
   "output_path": "__notebook__.ipynb",
   "parameters": {},
   "start_time": "2022-08-10T03:55:26.385971",
   "version": "2.3.4"
  }
 },
 "nbformat": 4,
 "nbformat_minor": 5
}
