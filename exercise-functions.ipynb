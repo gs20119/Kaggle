{
 "cells": [
  {
   "cell_type": "markdown",
   "id": "63185cdf",
   "metadata": {
    "papermill": {
     "duration": 0.006893,
     "end_time": "2022-08-08T17:00:04.321683",
     "exception": false,
     "start_time": "2022-08-08T17:00:04.314790",
     "status": "completed"
    },
    "tags": []
   },
   "source": [
    "**This notebook is an exercise in the [Intro to Programming](https://www.kaggle.com/learn/intro-to-programming) course.  You can reference the tutorial at [this link](https://www.kaggle.com/alexisbcook/functions).**\n",
    "\n",
    "---\n"
   ]
  },
  {
   "cell_type": "markdown",
   "id": "2f031ad2",
   "metadata": {
    "papermill": {
     "duration": 0.00541,
     "end_time": "2022-08-08T17:00:04.333171",
     "exception": false,
     "start_time": "2022-08-08T17:00:04.327761",
     "status": "completed"
    },
    "tags": []
   },
   "source": [
    "In the tutorial, you learned about functions. In this exercise, you'll write some of your own!\n",
    "\n",
    "# Set up the notebook\n",
    "\n",
    "Run the next code cell without changes to set up the notebook."
   ]
  },
  {
   "cell_type": "code",
   "execution_count": 1,
   "id": "bf798aa8",
   "metadata": {
    "execution": {
     "iopub.execute_input": "2022-08-08T17:00:04.346874Z",
     "iopub.status.busy": "2022-08-08T17:00:04.346341Z",
     "iopub.status.idle": "2022-08-08T17:00:04.403376Z",
     "shell.execute_reply": "2022-08-08T17:00:04.402151Z"
    },
    "papermill": {
     "duration": 0.067304,
     "end_time": "2022-08-08T17:00:04.406354",
     "exception": false,
     "start_time": "2022-08-08T17:00:04.339050",
     "status": "completed"
    },
    "tags": []
   },
   "outputs": [
    {
     "name": "stdout",
     "output_type": "stream",
     "text": [
      "Setup complete.\n"
     ]
    }
   ],
   "source": [
    "# Set up the exercise\n",
    "import math\n",
    "from learntools.core import binder\n",
    "binder.bind(globals())\n",
    "from learntools.intro_to_programming.ex2 import *\n",
    "print('Setup complete.')"
   ]
  },
  {
   "cell_type": "markdown",
   "id": "ef2def1f",
   "metadata": {
    "papermill": {
     "duration": 0.005554,
     "end_time": "2022-08-08T17:00:04.418079",
     "exception": false,
     "start_time": "2022-08-08T17:00:04.412525",
     "status": "completed"
    },
    "tags": []
   },
   "source": [
    "# Question 1\n",
    "\n",
    "In the [House Prices - Advanced Regression Techniques competition](https://www.kaggle.com/c/house-prices-advanced-regression-techniques/overview), you need to use information like the number of bedrooms and bathrooms to predict the price of a house.  Inspired by this competition, you'll write your own function to do this.\n",
    "\n",
    "In the next code cell, create a function `get_expected_cost()` that has two arguments:\n",
    "- `beds` - number of bedrooms \n",
    "- `baths` - number of bathrooms\n",
    "\n",
    "It should return the expected cost of a house with that number of bedrooms and bathrooms.  Assume that:\n",
    "- the expected cost for a house with 0 bedrooms and 0 bathrooms is `80000`.  \n",
    "- each bedroom adds `30000` to the expected cost\n",
    "- each bathroom adds `10000` to the expected cost.\n",
    "\n",
    "For instance, \n",
    "- a house with 1 bedroom and 1 bathroom has an expected cost of `120000`, and \n",
    "- a house with 2 bedrooms and 1 bathroom has an expected cost of `150000`."
   ]
  },
  {
   "cell_type": "code",
   "execution_count": 2,
   "id": "cfc5fea0",
   "metadata": {
    "execution": {
     "iopub.execute_input": "2022-08-08T17:00:04.431125Z",
     "iopub.status.busy": "2022-08-08T17:00:04.430675Z",
     "iopub.status.idle": "2022-08-08T17:00:04.442090Z",
     "shell.execute_reply": "2022-08-08T17:00:04.440916Z"
    },
    "papermill": {
     "duration": 0.020791,
     "end_time": "2022-08-08T17:00:04.444479",
     "exception": false,
     "start_time": "2022-08-08T17:00:04.423688",
     "status": "completed"
    },
    "tags": []
   },
   "outputs": [
    {
     "data": {
      "application/javascript": [
       "parent.postMessage({\"jupyterEvent\": \"custom.exercise_interaction\", \"data\": {\"outcomeType\": 1, \"valueTowardsCompletion\": 0.2, \"interactionType\": 1, \"questionType\": 2, \"questionId\": \"1_GetExpectedCost\", \"learnToolsVersion\": \"0.3.4\", \"failureMessage\": \"\", \"exceptionClass\": \"\", \"trace\": \"\"}}, \"*\")"
      ],
      "text/plain": [
       "<IPython.core.display.Javascript object>"
      ]
     },
     "metadata": {},
     "output_type": "display_data"
    },
    {
     "data": {
      "text/markdown": [
       "<span style=\"color:#33cc33\">Correct</span>"
      ],
      "text/plain": [
       "Correct"
      ]
     },
     "metadata": {},
     "output_type": "display_data"
    }
   ],
   "source": [
    "# TODO: Complete the function\n",
    "def get_expected_cost(beds, baths):\n",
    "    value = beds*30000+baths*10000+80000\n",
    "    return value\n",
    "\n",
    "# Check your answer \n",
    "q1.check()"
   ]
  },
  {
   "cell_type": "code",
   "execution_count": 3,
   "id": "ceeab059",
   "metadata": {
    "execution": {
     "iopub.execute_input": "2022-08-08T17:00:04.459102Z",
     "iopub.status.busy": "2022-08-08T17:00:04.458374Z",
     "iopub.status.idle": "2022-08-08T17:00:04.463129Z",
     "shell.execute_reply": "2022-08-08T17:00:04.461887Z"
    },
    "papermill": {
     "duration": 0.014901,
     "end_time": "2022-08-08T17:00:04.465470",
     "exception": false,
     "start_time": "2022-08-08T17:00:04.450569",
     "status": "completed"
    },
    "tags": []
   },
   "outputs": [],
   "source": [
    "# Uncomment to see a hint\n",
    "#q1.hint()\n",
    "\n",
    "# Uncomment to view the solution\n",
    "#q1.solution()"
   ]
  },
  {
   "cell_type": "markdown",
   "id": "eb907b66",
   "metadata": {
    "papermill": {
     "duration": 0.005808,
     "end_time": "2022-08-08T17:00:04.477935",
     "exception": false,
     "start_time": "2022-08-08T17:00:04.472127",
     "status": "completed"
    },
    "tags": []
   },
   "source": [
    "# Question 2\n",
    "\n",
    "You are thinking about buying a home and want to get an idea of how much you will spend, based on the number of bedrooms and bathrooms.  You are trying to decide between four different options:\n",
    "- Option 1: house with two bedrooms and three bathrooms\n",
    "- Option 2: house with three bedrooms and two bathrooms\n",
    "- Option 3: house with three bedrooms and three bathrooms\n",
    "- Option 4: house with three bedrooms and four bathrooms\n",
    "\n",
    "Use the `get_expected_cost()` function you defined in question 1 to set `option_1`, `option_2`, `option_3`, and `option_4` to the expected cost of each option."
   ]
  },
  {
   "cell_type": "code",
   "execution_count": 4,
   "id": "b81f7383",
   "metadata": {
    "execution": {
     "iopub.execute_input": "2022-08-08T17:00:04.492664Z",
     "iopub.status.busy": "2022-08-08T17:00:04.492245Z",
     "iopub.status.idle": "2022-08-08T17:00:04.501790Z",
     "shell.execute_reply": "2022-08-08T17:00:04.500954Z"
    },
    "papermill": {
     "duration": 0.019607,
     "end_time": "2022-08-08T17:00:04.504282",
     "exception": false,
     "start_time": "2022-08-08T17:00:04.484675",
     "status": "completed"
    },
    "tags": []
   },
   "outputs": [
    {
     "name": "stdout",
     "output_type": "stream",
     "text": [
      "170000\n",
      "190000\n",
      "200000\n",
      "210000\n"
     ]
    },
    {
     "data": {
      "application/javascript": [
       "parent.postMessage({\"jupyterEvent\": \"custom.exercise_interaction\", \"data\": {\"outcomeType\": 1, \"valueTowardsCompletion\": 0.2, \"interactionType\": 1, \"questionType\": 1, \"questionId\": \"2_RunGetExpectedCost\", \"learnToolsVersion\": \"0.3.4\", \"failureMessage\": \"\", \"exceptionClass\": \"\", \"trace\": \"\"}}, \"*\")"
      ],
      "text/plain": [
       "<IPython.core.display.Javascript object>"
      ]
     },
     "metadata": {},
     "output_type": "display_data"
    },
    {
     "data": {
      "text/markdown": [
       "<span style=\"color:#33cc33\">Correct</span>"
      ],
      "text/plain": [
       "Correct"
      ]
     },
     "metadata": {},
     "output_type": "display_data"
    }
   ],
   "source": [
    "# TODO: Use the get_expected_cost function to fill in each value\n",
    "option_one = get_expected_cost(2,3)\n",
    "option_two = get_expected_cost(3,2)\n",
    "option_three = get_expected_cost(3,3)\n",
    "option_four = get_expected_cost(3,4)\n",
    "\n",
    "print(option_one)\n",
    "print(option_two)\n",
    "print(option_three)\n",
    "print(option_four)\n",
    "\n",
    "# Check your answer\n",
    "q2.check()"
   ]
  },
  {
   "cell_type": "code",
   "execution_count": 5,
   "id": "5ffd83f8",
   "metadata": {
    "execution": {
     "iopub.execute_input": "2022-08-08T17:00:04.519022Z",
     "iopub.status.busy": "2022-08-08T17:00:04.518621Z",
     "iopub.status.idle": "2022-08-08T17:00:04.522544Z",
     "shell.execute_reply": "2022-08-08T17:00:04.521734Z"
    },
    "papermill": {
     "duration": 0.013907,
     "end_time": "2022-08-08T17:00:04.524463",
     "exception": false,
     "start_time": "2022-08-08T17:00:04.510556",
     "status": "completed"
    },
    "tags": []
   },
   "outputs": [],
   "source": [
    "# Uncomment to see a hint\n",
    "#q2.hint()\n",
    "\n",
    "# Uncomment to view the solution\n",
    "#q2.solution()"
   ]
  },
  {
   "cell_type": "markdown",
   "id": "9b66b440",
   "metadata": {
    "papermill": {
     "duration": 0.006037,
     "end_time": "2022-08-08T17:00:04.537314",
     "exception": false,
     "start_time": "2022-08-08T17:00:04.531277",
     "status": "completed"
    },
    "tags": []
   },
   "source": [
    "# Question 3\n",
    "\n",
    "You're a home decorator, and you'd like to use Python to streamline some of your work.  Specifically, you're creating a tool that you intend to use to calculate the cost of painting a room.\n",
    "\n",
    "As a first step, define a function `get_cost()` that takes as input:\n",
    "- `sqft_walls` = total square feet of walls to be painted\n",
    "- `sqft_ceiling` = square feet of ceiling to be painted\n",
    "- `sqft_per_gallon` = number of square feet that you can cover with one gallon of paint\n",
    "- `cost_per_gallon` = cost (in dollars) of one gallon of paint\n",
    "\n",
    "It should return the cost (in dollars) of putting one coat of paint on all walls and the ceiling.  Assume you can buy the exact amount of paint that you need, so you can buy partial gallons (e.g., if you need 7.523 gallons, you can buy that exact amount, instead of needing to buy 8 gallons and waste some paint).  Do not round your answer."
   ]
  },
  {
   "cell_type": "code",
   "execution_count": 6,
   "id": "e84bc5f9",
   "metadata": {
    "execution": {
     "iopub.execute_input": "2022-08-08T17:00:04.551685Z",
     "iopub.status.busy": "2022-08-08T17:00:04.551316Z",
     "iopub.status.idle": "2022-08-08T17:00:04.559234Z",
     "shell.execute_reply": "2022-08-08T17:00:04.558448Z"
    },
    "papermill": {
     "duration": 0.017588,
     "end_time": "2022-08-08T17:00:04.561172",
     "exception": false,
     "start_time": "2022-08-08T17:00:04.543584",
     "status": "completed"
    },
    "tags": []
   },
   "outputs": [
    {
     "data": {
      "application/javascript": [
       "parent.postMessage({\"jupyterEvent\": \"custom.exercise_interaction\", \"data\": {\"outcomeType\": 1, \"valueTowardsCompletion\": 0.2, \"interactionType\": 1, \"questionType\": 2, \"questionId\": \"3_GetCostPaint\", \"learnToolsVersion\": \"0.3.4\", \"failureMessage\": \"\", \"exceptionClass\": \"\", \"trace\": \"\"}}, \"*\")"
      ],
      "text/plain": [
       "<IPython.core.display.Javascript object>"
      ]
     },
     "metadata": {},
     "output_type": "display_data"
    },
    {
     "data": {
      "text/markdown": [
       "<span style=\"color:#33cc33\">Correct</span>"
      ],
      "text/plain": [
       "Correct"
      ]
     },
     "metadata": {},
     "output_type": "display_data"
    }
   ],
   "source": [
    "# TODO: Finish defining the function\n",
    "def get_cost(sqft_walls, sqft_ceiling, sqft_per_gallon, cost_per_gallon):\n",
    "    cost = (sqft_walls+sqft_ceiling)/sqft_per_gallon*cost_per_gallon\n",
    "    return cost\n",
    "\n",
    "# Check your answer\n",
    "q3.check()"
   ]
  },
  {
   "cell_type": "code",
   "execution_count": 7,
   "id": "a00c5458",
   "metadata": {
    "execution": {
     "iopub.execute_input": "2022-08-08T17:00:04.575883Z",
     "iopub.status.busy": "2022-08-08T17:00:04.575474Z",
     "iopub.status.idle": "2022-08-08T17:00:04.579878Z",
     "shell.execute_reply": "2022-08-08T17:00:04.578691Z"
    },
    "papermill": {
     "duration": 0.014993,
     "end_time": "2022-08-08T17:00:04.582646",
     "exception": false,
     "start_time": "2022-08-08T17:00:04.567653",
     "status": "completed"
    },
    "tags": []
   },
   "outputs": [],
   "source": [
    "# Uncomment to see a hint\n",
    "#q3.hint()\n",
    "\n",
    "# Uncomment to view the solution\n",
    "#q3.solution()"
   ]
  },
  {
   "cell_type": "markdown",
   "id": "68526564",
   "metadata": {
    "papermill": {
     "duration": 0.006454,
     "end_time": "2022-08-08T17:00:04.595977",
     "exception": false,
     "start_time": "2022-08-08T17:00:04.589523",
     "status": "completed"
    },
    "tags": []
   },
   "source": [
    "# Question 4\n",
    "\n",
    "Use the `get_cost()` function you defined in Question 3 to calculate the cost of applying one coat of paint to a room with:\n",
    "- 432 square feet of walls, and\n",
    "- 144 square feet of ceiling.\n",
    "\n",
    "Assume that one gallon of paint covers 400 square feet and costs $15.  As in Question 3, assume you can buy partial gallons of paint.  Do not round your answer."
   ]
  },
  {
   "cell_type": "code",
   "execution_count": 8,
   "id": "24751afd",
   "metadata": {
    "execution": {
     "iopub.execute_input": "2022-08-08T17:00:04.610996Z",
     "iopub.status.busy": "2022-08-08T17:00:04.610576Z",
     "iopub.status.idle": "2022-08-08T17:00:04.619432Z",
     "shell.execute_reply": "2022-08-08T17:00:04.618278Z"
    },
    "papermill": {
     "duration": 0.019041,
     "end_time": "2022-08-08T17:00:04.621666",
     "exception": false,
     "start_time": "2022-08-08T17:00:04.602625",
     "status": "completed"
    },
    "tags": []
   },
   "outputs": [
    {
     "data": {
      "application/javascript": [
       "parent.postMessage({\"jupyterEvent\": \"custom.exercise_interaction\", \"data\": {\"outcomeType\": 1, \"valueTowardsCompletion\": 0.2, \"interactionType\": 1, \"questionType\": 1, \"questionId\": \"4_GetCostPaintExample\", \"learnToolsVersion\": \"0.3.4\", \"failureMessage\": \"\", \"exceptionClass\": \"\", \"trace\": \"\"}}, \"*\")"
      ],
      "text/plain": [
       "<IPython.core.display.Javascript object>"
      ]
     },
     "metadata": {},
     "output_type": "display_data"
    },
    {
     "data": {
      "text/markdown": [
       "<span style=\"color:#33cc33\">Correct</span>"
      ],
      "text/plain": [
       "Correct"
      ]
     },
     "metadata": {},
     "output_type": "display_data"
    }
   ],
   "source": [
    "# TODO: Set the project_cost variable to the cost of the project\n",
    "project_cost = get_cost(432, 144, 400, 15)\n",
    "\n",
    "# Check your answer\n",
    "q4.check()"
   ]
  },
  {
   "cell_type": "code",
   "execution_count": 9,
   "id": "20f6a311",
   "metadata": {
    "execution": {
     "iopub.execute_input": "2022-08-08T17:00:04.637635Z",
     "iopub.status.busy": "2022-08-08T17:00:04.637243Z",
     "iopub.status.idle": "2022-08-08T17:00:04.642085Z",
     "shell.execute_reply": "2022-08-08T17:00:04.640859Z"
    },
    "papermill": {
     "duration": 0.016388,
     "end_time": "2022-08-08T17:00:04.644890",
     "exception": false,
     "start_time": "2022-08-08T17:00:04.628502",
     "status": "completed"
    },
    "tags": []
   },
   "outputs": [],
   "source": [
    "# Uncomment to see a hint\n",
    "#q4.hint()\n",
    "\n",
    "# Uncomment to view the solution\n",
    "#q4.solution()"
   ]
  },
  {
   "cell_type": "markdown",
   "id": "7e3f6c19",
   "metadata": {
    "papermill": {
     "duration": 0.006739,
     "end_time": "2022-08-08T17:00:04.658881",
     "exception": false,
     "start_time": "2022-08-08T17:00:04.652142",
     "status": "completed"
    },
    "tags": []
   },
   "source": [
    "# 🌶️ Question 5\n",
    "\n",
    "Now say you can no longer buy fractions of a gallon.  (For instance, if you need 4.3 gallons to do a project, then you have to buy 5 gallons of paint.)\n",
    "\n",
    "With this new scenario, you will create a new function `get_actual_cost` that uses the same inputs and calculates the cost of your project.\n",
    "\n",
    "One function that you'll need to use to do this is `math.ceil()`.  We demonstrate usage of this function in the code cell below.  It takes as a number as input and rounds the number up to the nearest integer.  \n",
    "\n",
    "Run the next code cell to test this function for yourself.  Feel free to change the value of `test_value` and make sure `math.ceil()` returns the number you expect."
   ]
  },
  {
   "cell_type": "code",
   "execution_count": 10,
   "id": "daa6a1d9",
   "metadata": {
    "execution": {
     "iopub.execute_input": "2022-08-08T17:00:04.674657Z",
     "iopub.status.busy": "2022-08-08T17:00:04.674252Z",
     "iopub.status.idle": "2022-08-08T17:00:04.679293Z",
     "shell.execute_reply": "2022-08-08T17:00:04.678371Z"
    },
    "papermill": {
     "duration": 0.016185,
     "end_time": "2022-08-08T17:00:04.681927",
     "exception": false,
     "start_time": "2022-08-08T17:00:04.665742",
     "status": "completed"
    },
    "tags": []
   },
   "outputs": [
    {
     "name": "stdout",
     "output_type": "stream",
     "text": [
      "3\n"
     ]
    }
   ],
   "source": [
    "test_value = 2.17\n",
    "\n",
    "rounded_value = math.ceil(test_value)\n",
    "print(rounded_value)"
   ]
  },
  {
   "cell_type": "markdown",
   "id": "f743a8cb",
   "metadata": {
    "papermill": {
     "duration": 0.006707,
     "end_time": "2022-08-08T17:00:04.695661",
     "exception": false,
     "start_time": "2022-08-08T17:00:04.688954",
     "status": "completed"
    },
    "tags": []
   },
   "source": [
    "Use the next code cell to define the function `get_actual_cost()`.  You'll need to use the `math.ceil()` function to do this.\n",
    "\n",
    "When answering this question, note that it's completely valid to define a function that makes use of another function.  For instance, we can define a function `round_up_and_divide_by_three` that makes use of the `math.ceil` function:\n",
    "```\n",
    "def round_up_and_divide_by_three(num):\n",
    "    new_value = math.ceil(num)\n",
    "    final_value = new_value / 3\n",
    "    return final_value\n",
    "```"
   ]
  },
  {
   "cell_type": "code",
   "execution_count": 11,
   "id": "07adc92c",
   "metadata": {
    "execution": {
     "iopub.execute_input": "2022-08-08T17:00:04.712429Z",
     "iopub.status.busy": "2022-08-08T17:00:04.711678Z",
     "iopub.status.idle": "2022-08-08T17:00:04.720165Z",
     "shell.execute_reply": "2022-08-08T17:00:04.719017Z"
    },
    "papermill": {
     "duration": 0.019705,
     "end_time": "2022-08-08T17:00:04.722793",
     "exception": false,
     "start_time": "2022-08-08T17:00:04.703088",
     "status": "completed"
    },
    "tags": []
   },
   "outputs": [
    {
     "data": {
      "application/javascript": [
       "parent.postMessage({\"jupyterEvent\": \"custom.exercise_interaction\", \"data\": {\"outcomeType\": 1, \"valueTowardsCompletion\": 0.2, \"interactionType\": 1, \"questionType\": 2, \"questionId\": \"5_NoMoreFractions\", \"learnToolsVersion\": \"0.3.4\", \"failureMessage\": \"\", \"exceptionClass\": \"\", \"trace\": \"\"}}, \"*\")"
      ],
      "text/plain": [
       "<IPython.core.display.Javascript object>"
      ]
     },
     "metadata": {},
     "output_type": "display_data"
    },
    {
     "data": {
      "text/markdown": [
       "<span style=\"color:#33cc33\">Correct</span>"
      ],
      "text/plain": [
       "Correct"
      ]
     },
     "metadata": {},
     "output_type": "display_data"
    }
   ],
   "source": [
    "def get_actual_cost(sqft_walls, sqft_ceiling, sqft_per_gallon, cost_per_gallon):\n",
    "    cost = math.ceil((sqft_walls+sqft_ceiling)/sqft_per_gallon)*cost_per_gallon\n",
    "    return cost\n",
    "\n",
    "# Check your answer\n",
    "q5.check()"
   ]
  },
  {
   "cell_type": "code",
   "execution_count": 12,
   "id": "869595d9",
   "metadata": {
    "execution": {
     "iopub.execute_input": "2022-08-08T17:00:04.739267Z",
     "iopub.status.busy": "2022-08-08T17:00:04.738882Z",
     "iopub.status.idle": "2022-08-08T17:00:04.743507Z",
     "shell.execute_reply": "2022-08-08T17:00:04.742459Z"
    },
    "papermill": {
     "duration": 0.015704,
     "end_time": "2022-08-08T17:00:04.745864",
     "exception": false,
     "start_time": "2022-08-08T17:00:04.730160",
     "status": "completed"
    },
    "tags": []
   },
   "outputs": [],
   "source": [
    "# Uncomment to see a hint\n",
    "#q5.hint()\n",
    "\n",
    "# Uncomment to view the solution\n",
    "#q5.solution()"
   ]
  },
  {
   "cell_type": "markdown",
   "id": "d93b426b",
   "metadata": {
    "papermill": {
     "duration": 0.007355,
     "end_time": "2022-08-08T17:00:04.761047",
     "exception": false,
     "start_time": "2022-08-08T17:00:04.753692",
     "status": "completed"
    },
    "tags": []
   },
   "source": [
    "Once your function is verified as correct, run the next code cell to calculate the updated cost of your project."
   ]
  },
  {
   "cell_type": "code",
   "execution_count": 13,
   "id": "129b858f",
   "metadata": {
    "execution": {
     "iopub.execute_input": "2022-08-08T17:00:04.777923Z",
     "iopub.status.busy": "2022-08-08T17:00:04.777193Z",
     "iopub.status.idle": "2022-08-08T17:00:04.783533Z",
     "shell.execute_reply": "2022-08-08T17:00:04.782664Z"
    },
    "papermill": {
     "duration": 0.01725,
     "end_time": "2022-08-08T17:00:04.785748",
     "exception": false,
     "start_time": "2022-08-08T17:00:04.768498",
     "status": "completed"
    },
    "tags": []
   },
   "outputs": [
    {
     "data": {
      "text/plain": [
       "30"
      ]
     },
     "execution_count": 13,
     "metadata": {},
     "output_type": "execute_result"
    }
   ],
   "source": [
    "get_actual_cost(432, 144, 400, 15) "
   ]
  },
  {
   "cell_type": "markdown",
   "id": "d5e9341b",
   "metadata": {
    "papermill": {
     "duration": 0.007801,
     "end_time": "2022-08-08T17:00:04.801248",
     "exception": false,
     "start_time": "2022-08-08T17:00:04.793447",
     "status": "completed"
    },
    "tags": []
   },
   "source": [
    "Say you're working with a slightly larger room.  Run the next code cell to calculate the cost of the project."
   ]
  },
  {
   "cell_type": "code",
   "execution_count": 14,
   "id": "87cc61c3",
   "metadata": {
    "execution": {
     "iopub.execute_input": "2022-08-08T17:00:04.818330Z",
     "iopub.status.busy": "2022-08-08T17:00:04.817599Z",
     "iopub.status.idle": "2022-08-08T17:00:04.823496Z",
     "shell.execute_reply": "2022-08-08T17:00:04.822745Z"
    },
    "papermill": {
     "duration": 0.017129,
     "end_time": "2022-08-08T17:00:04.825877",
     "exception": false,
     "start_time": "2022-08-08T17:00:04.808748",
     "status": "completed"
    },
    "tags": []
   },
   "outputs": [
    {
     "data": {
      "text/plain": [
       "45"
      ]
     },
     "execution_count": 14,
     "metadata": {},
     "output_type": "execute_result"
    }
   ],
   "source": [
    "get_actual_cost(594, 288, 400, 15) "
   ]
  },
  {
   "cell_type": "markdown",
   "id": "30c31110",
   "metadata": {
    "papermill": {
     "duration": 0.007645,
     "end_time": "2022-08-08T17:00:04.841556",
     "exception": false,
     "start_time": "2022-08-08T17:00:04.833911",
     "status": "completed"
    },
    "tags": []
   },
   "source": [
    "# Keep going\n",
    "\n",
    "Continue to learn about **[data types](https://www.kaggle.com/alexisbcook/data-types)**."
   ]
  },
  {
   "cell_type": "markdown",
   "id": "1099561d",
   "metadata": {
    "papermill": {
     "duration": 0.007192,
     "end_time": "2022-08-08T17:00:04.856323",
     "exception": false,
     "start_time": "2022-08-08T17:00:04.849131",
     "status": "completed"
    },
    "tags": []
   },
   "source": [
    "---\n",
    "\n",
    "\n",
    "\n",
    "\n",
    "*Have questions or comments? Visit the [course discussion forum](https://www.kaggle.com/learn/intro-to-programming/discussion) to chat with other learners.*"
   ]
  }
 ],
 "metadata": {
  "kernelspec": {
   "display_name": "Python 3",
   "language": "python",
   "name": "python3"
  },
  "language_info": {
   "codemirror_mode": {
    "name": "ipython",
    "version": 3
   },
   "file_extension": ".py",
   "mimetype": "text/x-python",
   "name": "python",
   "nbconvert_exporter": "python",
   "pygments_lexer": "ipython3",
   "version": "3.7.12"
  },
  "papermill": {
   "default_parameters": {},
   "duration": 11.189491,
   "end_time": "2022-08-08T17:00:05.484988",
   "environment_variables": {},
   "exception": null,
   "input_path": "__notebook__.ipynb",
   "output_path": "__notebook__.ipynb",
   "parameters": {},
   "start_time": "2022-08-08T16:59:54.295497",
   "version": "2.3.4"
  }
 },
 "nbformat": 4,
 "nbformat_minor": 5
}
